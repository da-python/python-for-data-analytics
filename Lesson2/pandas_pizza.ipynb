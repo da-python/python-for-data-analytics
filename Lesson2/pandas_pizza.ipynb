{
 "cells": [
  {
   "cell_type": "markdown",
   "metadata": {
    "pycharm": {
     "name": "#%% md\n"
    }
   },
   "source": [
    "# Про Pandas"
   ]
  },
  {
   "cell_type": "code",
   "execution_count": null,
   "metadata": {
    "pycharm": {
     "name": "#%%\n"
    }
   },
   "outputs": [],
   "source": [
    "import os\n",
    "import pandas as pd\n",
    "import numpy as np"
   ]
  },
  {
   "cell_type": "code",
   "execution_count": 59,
   "outputs": [],
   "source": [
    "df = pd.DataFrame()"
   ],
   "metadata": {
    "collapsed": false,
    "pycharm": {
     "name": "#%%\n"
    }
   }
  },
  {
   "cell_type": "code",
   "execution_count": 60,
   "outputs": [
    {
     "data": {
      "text/plain": "Empty DataFrame\nColumns: []\nIndex: []",
      "text/html": "<div>\n<style scoped>\n    .dataframe tbody tr th:only-of-type {\n        vertical-align: middle;\n    }\n\n    .dataframe tbody tr th {\n        vertical-align: top;\n    }\n\n    .dataframe thead th {\n        text-align: right;\n    }\n</style>\n<table border=\"1\" class=\"dataframe\">\n  <thead>\n    <tr style=\"text-align: right;\">\n      <th></th>\n    </tr>\n  </thead>\n  <tbody>\n  </tbody>\n</table>\n</div>"
     },
     "execution_count": 60,
     "metadata": {},
     "output_type": "execute_result"
    }
   ],
   "source": [
    "df"
   ],
   "metadata": {
    "collapsed": false,
    "pycharm": {
     "name": "#%%\n"
    }
   }
  },
  {
   "cell_type": "code",
   "execution_count": 65,
   "outputs": [],
   "source": [
    "df = pd.DataFrame([['aa','bb'],['bbb','ccc']], columns=['col1','col2'])"
   ],
   "metadata": {
    "collapsed": false,
    "pycharm": {
     "name": "#%%\n"
    }
   }
  },
  {
   "cell_type": "code",
   "execution_count": 67,
   "outputs": [
    {
     "data": {
      "text/plain": "     col2\ncol1     \naa     bb\nbbb   ccc",
      "text/html": "<div>\n<style scoped>\n    .dataframe tbody tr th:only-of-type {\n        vertical-align: middle;\n    }\n\n    .dataframe tbody tr th {\n        vertical-align: top;\n    }\n\n    .dataframe thead th {\n        text-align: right;\n    }\n</style>\n<table border=\"1\" class=\"dataframe\">\n  <thead>\n    <tr style=\"text-align: right;\">\n      <th></th>\n      <th>col2</th>\n    </tr>\n    <tr>\n      <th>col1</th>\n      <th></th>\n    </tr>\n  </thead>\n  <tbody>\n    <tr>\n      <th>aa</th>\n      <td>bb</td>\n    </tr>\n    <tr>\n      <th>bbb</th>\n      <td>ccc</td>\n    </tr>\n  </tbody>\n</table>\n</div>"
     },
     "execution_count": 67,
     "metadata": {},
     "output_type": "execute_result"
    }
   ],
   "source": [
    "df.set_index('col1')"
   ],
   "metadata": {
    "collapsed": false,
    "pycharm": {
     "name": "#%%\n"
    }
   }
  },
  {
   "cell_type": "code",
   "execution_count": 68,
   "outputs": [
    {
     "data": {
      "text/plain": "  col1 col2\n0   aa   bb\n1  bbb  ccc",
      "text/html": "<div>\n<style scoped>\n    .dataframe tbody tr th:only-of-type {\n        vertical-align: middle;\n    }\n\n    .dataframe tbody tr th {\n        vertical-align: top;\n    }\n\n    .dataframe thead th {\n        text-align: right;\n    }\n</style>\n<table border=\"1\" class=\"dataframe\">\n  <thead>\n    <tr style=\"text-align: right;\">\n      <th></th>\n      <th>col1</th>\n      <th>col2</th>\n    </tr>\n  </thead>\n  <tbody>\n    <tr>\n      <th>0</th>\n      <td>aa</td>\n      <td>bb</td>\n    </tr>\n    <tr>\n      <th>1</th>\n      <td>bbb</td>\n      <td>ccc</td>\n    </tr>\n  </tbody>\n</table>\n</div>"
     },
     "execution_count": 68,
     "metadata": {},
     "output_type": "execute_result"
    }
   ],
   "source": [
    "pd.DataFrame({'col1':['aa','bbb'], 'col2':['bb','ccc']})"
   ],
   "metadata": {
    "collapsed": false,
    "pycharm": {
     "name": "#%%\n"
    }
   }
  },
  {
   "cell_type": "code",
   "execution_count": 70,
   "outputs": [
    {
     "data": {
      "text/plain": "0     aa\n1    bbb\nName: col1, dtype: object"
     },
     "execution_count": 70,
     "metadata": {},
     "output_type": "execute_result"
    }
   ],
   "source": [
    "df.col1"
   ],
   "metadata": {
    "collapsed": false,
    "pycharm": {
     "name": "#%%\n"
    }
   }
  },
  {
   "cell_type": "code",
   "execution_count": 71,
   "outputs": [
    {
     "data": {
      "text/plain": "0    1\n1    2\n2    3\n3    4\n4    5\ndtype: int64"
     },
     "execution_count": 71,
     "metadata": {},
     "output_type": "execute_result"
    }
   ],
   "source": [
    "pd.Series([1,2,3,4,5])"
   ],
   "metadata": {
    "collapsed": false,
    "pycharm": {
     "name": "#%%\n"
    }
   }
  },
  {
   "cell_type": "code",
   "execution_count": null,
   "outputs": [],
   "source": [
    "\n",
    "pizza = pd.read_csv(os.path.join('data','Datafiniti_Pizza_Restaurants_and_the_Pizza_They_Sell_May19.csv'))"
   ],
   "metadata": {
    "collapsed": false,
    "pycharm": {
     "name": "#%%\n"
    }
   }
  },
  {
   "cell_type": "code",
   "execution_count": null,
   "outputs": [],
   "source": [],
   "metadata": {
    "collapsed": false,
    "pycharm": {
     "name": "#%%\n"
    }
   }
  },
  {
   "cell_type": "code",
   "execution_count": 4,
   "outputs": [],
   "source": [
    "\n",
    "# pizza = pd.read_csv('data/Datafiniti_Pizza_Restaurants_and_the_Pizza_They_Sell_May19.csv')"
   ],
   "metadata": {
    "collapsed": false,
    "pycharm": {
     "name": "#%%\n"
    }
   }
  },
  {
   "cell_type": "code",
   "execution_count": 6,
   "metadata": {
    "pycharm": {
     "name": "#%%\n"
    }
   },
   "outputs": [
    {
     "data": {
      "text/plain": "                     id             dateAdded           dateUpdated  \\\n0  AVz3Y-7h3D1zeR_xDAqm  2017-06-30T05:05:40Z  2019-05-01T15:43:09Z   \n1  AVweGPFF_7pvs4fzAAzQ  2016-04-02T04:02:49Z  2019-05-01T15:27:50Z   \n\n             address                                         categories  \\\n0   4203 E Kiehl Ave  Pizza,Restaurant,American restaurants,Pizza Pl...   \n1  25 E Camelback Rd                      Pizza,Pizza Place,Restaurants   \n\n               primaryCategories      city country  \\\n0  Accommodation & Food Services  Sherwood      US   \n1  Accommodation & Food Services   Phoenix      US   \n\n                                       keys   latitude  ...  menus.currency  \\\n0  us/ar/sherwood/4203ekiehlave/-1051391616  34.832300  ...             USD   \n1   us/az/phoenix/25ecamelbackrd/-727422936  33.509266  ...             USD   \n\n                                      menus.dateSeen  menus.description  \\\n0  2018-05-01T04:25:37.197Z,2018-04-16T04:36:02.3...                NaN   \n1  2018-03-03T02:38:06.381Z,2018-01-18T20:18:10.0...                NaN   \n\n     menus.name                name postalCode priceRangeCurrency  \\\n0  Cheese Pizza  Shotgun Dans Pizza      72120                USD   \n1  Pizza Cookie    Sauce Pizza Wine      85012                USD   \n\n  priceRangeMin priceRangeMax province  \n0             0            25       AR  \n1             0            25       AZ  \n\n[2 rows x 24 columns]",
      "text/html": "<div>\n<style scoped>\n    .dataframe tbody tr th:only-of-type {\n        vertical-align: middle;\n    }\n\n    .dataframe tbody tr th {\n        vertical-align: top;\n    }\n\n    .dataframe thead th {\n        text-align: right;\n    }\n</style>\n<table border=\"1\" class=\"dataframe\">\n  <thead>\n    <tr style=\"text-align: right;\">\n      <th></th>\n      <th>id</th>\n      <th>dateAdded</th>\n      <th>dateUpdated</th>\n      <th>address</th>\n      <th>categories</th>\n      <th>primaryCategories</th>\n      <th>city</th>\n      <th>country</th>\n      <th>keys</th>\n      <th>latitude</th>\n      <th>...</th>\n      <th>menus.currency</th>\n      <th>menus.dateSeen</th>\n      <th>menus.description</th>\n      <th>menus.name</th>\n      <th>name</th>\n      <th>postalCode</th>\n      <th>priceRangeCurrency</th>\n      <th>priceRangeMin</th>\n      <th>priceRangeMax</th>\n      <th>province</th>\n    </tr>\n  </thead>\n  <tbody>\n    <tr>\n      <th>0</th>\n      <td>AVz3Y-7h3D1zeR_xDAqm</td>\n      <td>2017-06-30T05:05:40Z</td>\n      <td>2019-05-01T15:43:09Z</td>\n      <td>4203 E Kiehl Ave</td>\n      <td>Pizza,Restaurant,American restaurants,Pizza Pl...</td>\n      <td>Accommodation &amp; Food Services</td>\n      <td>Sherwood</td>\n      <td>US</td>\n      <td>us/ar/sherwood/4203ekiehlave/-1051391616</td>\n      <td>34.832300</td>\n      <td>...</td>\n      <td>USD</td>\n      <td>2018-05-01T04:25:37.197Z,2018-04-16T04:36:02.3...</td>\n      <td>NaN</td>\n      <td>Cheese Pizza</td>\n      <td>Shotgun Dans Pizza</td>\n      <td>72120</td>\n      <td>USD</td>\n      <td>0</td>\n      <td>25</td>\n      <td>AR</td>\n    </tr>\n    <tr>\n      <th>1</th>\n      <td>AVweGPFF_7pvs4fzAAzQ</td>\n      <td>2016-04-02T04:02:49Z</td>\n      <td>2019-05-01T15:27:50Z</td>\n      <td>25 E Camelback Rd</td>\n      <td>Pizza,Pizza Place,Restaurants</td>\n      <td>Accommodation &amp; Food Services</td>\n      <td>Phoenix</td>\n      <td>US</td>\n      <td>us/az/phoenix/25ecamelbackrd/-727422936</td>\n      <td>33.509266</td>\n      <td>...</td>\n      <td>USD</td>\n      <td>2018-03-03T02:38:06.381Z,2018-01-18T20:18:10.0...</td>\n      <td>NaN</td>\n      <td>Pizza Cookie</td>\n      <td>Sauce Pizza Wine</td>\n      <td>85012</td>\n      <td>USD</td>\n      <td>0</td>\n      <td>25</td>\n      <td>AZ</td>\n    </tr>\n  </tbody>\n</table>\n<p>2 rows × 24 columns</p>\n</div>"
     },
     "execution_count": 6,
     "metadata": {},
     "output_type": "execute_result"
    }
   ],
   "source": [
    "pizza.head(2)"
   ]
  },
  {
   "cell_type": "code",
   "execution_count": 7,
   "outputs": [
    {
     "data": {
      "text/plain": "                        id             dateAdded           dateUpdated  \\\n9998  AVz6kzsQFcQ3k02bDhwQ  2017-06-30T19:56:11Z  2018-01-07T10:51:29Z   \n9999  AVwdG9zTkufWRAb52Y2A  2015-10-23T01:57:27Z  2018-01-04T17:57:59Z   \n\n                    address                              categories  \\\n9998         3641 E Main St                 Pizza Place,Restaurants   \n9999  7460 W Lake Mead Blvd  Pizza Place,Restaurant,Fast Food,Pizza   \n\n                  primaryCategories           city country  \\\n9998  Accommodation & Food Services  Saint Charles      US   \n9999  Accommodation & Food Services      Las Vegas      US   \n\n                                            keys  latitude  ...  \\\n9998   us/il/saintcharles/3641emainst/1336179832  41.92130  ...   \n9999  us/nv/lasvegas/7460wlakemeadblvd/330000776  36.19618  ...   \n\n      menus.currency                                     menus.dateSeen  \\\n9998             USD  2017-12-10T18:55:00.000Z,2017-10-28T21:52:00.000Z   \n9999             USD  2017-12-08T19:07:00.000Z,2017-10-28T22:35:00.000Z   \n\n      menus.description                                    menus.name  \\\n9998                NaN  Individual 6\" Cheese Stuffed Deep Dish Pizza   \n9999                NaN                   King Arthur's Supreme Pizza   \n\n                   name postalCode priceRangeCurrency priceRangeMin  \\\n9998   Giordano's Pizza      60174                USD             0   \n9999  Round Table Pizza      89128                USD             0   \n\n     priceRangeMax province  \n9998            25       IL  \n9999            25       NV  \n\n[2 rows x 24 columns]",
      "text/html": "<div>\n<style scoped>\n    .dataframe tbody tr th:only-of-type {\n        vertical-align: middle;\n    }\n\n    .dataframe tbody tr th {\n        vertical-align: top;\n    }\n\n    .dataframe thead th {\n        text-align: right;\n    }\n</style>\n<table border=\"1\" class=\"dataframe\">\n  <thead>\n    <tr style=\"text-align: right;\">\n      <th></th>\n      <th>id</th>\n      <th>dateAdded</th>\n      <th>dateUpdated</th>\n      <th>address</th>\n      <th>categories</th>\n      <th>primaryCategories</th>\n      <th>city</th>\n      <th>country</th>\n      <th>keys</th>\n      <th>latitude</th>\n      <th>...</th>\n      <th>menus.currency</th>\n      <th>menus.dateSeen</th>\n      <th>menus.description</th>\n      <th>menus.name</th>\n      <th>name</th>\n      <th>postalCode</th>\n      <th>priceRangeCurrency</th>\n      <th>priceRangeMin</th>\n      <th>priceRangeMax</th>\n      <th>province</th>\n    </tr>\n  </thead>\n  <tbody>\n    <tr>\n      <th>9998</th>\n      <td>AVz6kzsQFcQ3k02bDhwQ</td>\n      <td>2017-06-30T19:56:11Z</td>\n      <td>2018-01-07T10:51:29Z</td>\n      <td>3641 E Main St</td>\n      <td>Pizza Place,Restaurants</td>\n      <td>Accommodation &amp; Food Services</td>\n      <td>Saint Charles</td>\n      <td>US</td>\n      <td>us/il/saintcharles/3641emainst/1336179832</td>\n      <td>41.92130</td>\n      <td>...</td>\n      <td>USD</td>\n      <td>2017-12-10T18:55:00.000Z,2017-10-28T21:52:00.000Z</td>\n      <td>NaN</td>\n      <td>Individual 6\" Cheese Stuffed Deep Dish Pizza</td>\n      <td>Giordano's Pizza</td>\n      <td>60174</td>\n      <td>USD</td>\n      <td>0</td>\n      <td>25</td>\n      <td>IL</td>\n    </tr>\n    <tr>\n      <th>9999</th>\n      <td>AVwdG9zTkufWRAb52Y2A</td>\n      <td>2015-10-23T01:57:27Z</td>\n      <td>2018-01-04T17:57:59Z</td>\n      <td>7460 W Lake Mead Blvd</td>\n      <td>Pizza Place,Restaurant,Fast Food,Pizza</td>\n      <td>Accommodation &amp; Food Services</td>\n      <td>Las Vegas</td>\n      <td>US</td>\n      <td>us/nv/lasvegas/7460wlakemeadblvd/330000776</td>\n      <td>36.19618</td>\n      <td>...</td>\n      <td>USD</td>\n      <td>2017-12-08T19:07:00.000Z,2017-10-28T22:35:00.000Z</td>\n      <td>NaN</td>\n      <td>King Arthur's Supreme Pizza</td>\n      <td>Round Table Pizza</td>\n      <td>89128</td>\n      <td>USD</td>\n      <td>0</td>\n      <td>25</td>\n      <td>NV</td>\n    </tr>\n  </tbody>\n</table>\n<p>2 rows × 24 columns</p>\n</div>"
     },
     "execution_count": 7,
     "metadata": {},
     "output_type": "execute_result"
    }
   ],
   "source": [
    "pizza.tail(2)"
   ],
   "metadata": {
    "collapsed": false,
    "pycharm": {
     "name": "#%%\n"
    }
   }
  },
  {
   "cell_type": "code",
   "execution_count": 11,
   "outputs": [
    {
     "data": {
      "text/plain": "                        id             dateAdded           dateUpdated  \\\n7341  AVweFWZb_7pvs4fz_4zT  2016-03-29T05:06:14Z  2018-05-26T23:32:51Z   \n4622  AVwcmZPx_7pvs4fzw5zH  2016-12-22T18:59:57Z  2018-07-02T23:19:42Z   \n\n                  address                  categories  \\\n7341  3157 Sugarloaf Pkwy  Restaurant,Bar,Pizza Place   \n4622  12407 N Mo Pac Expy      Restaurant,Pizza Place   \n\n                  primaryCategories           city country  \\\n7341  Accommodation & Food Services  Lawrenceville      US   \n4622  Accommodation & Food Services         Austin      US   \n\n                                                  keys   latitude  ...  \\\n7341  us/ga/lawrenceville/3157sugarloafpkwy/-370000215  33.921219  ...   \n4622           us/tx/austin/12407nmopacexpy/1112396794  30.416873  ...   \n\n      menus.currency                                     menus.dateSeen  \\\n7341             USD                           2018-01-22T09:16:30.203Z   \n4622             USD  2018-06-06T09:15:44.202Z,2018-07-01T15:34:08.6...   \n\n                                      menus.description  \\\n7341  Chicken strips, red onions & bacon topped with...   \n4622  Creamy garlic sauce mozzarella spicy fennel sa...   \n\n                                      menus.name  \\\n7341                       Buffalo Chicken Pizza   \n4622  Spicy Fennel Sausage Pizza Baking Required   \n\n                               name postalCode priceRangeCurrency  \\\n7341  Johnny's New York Style Pizza      30045                USD   \n4622                  Papa Murphy's      78758                USD   \n\n     priceRangeMin priceRangeMax province  \n7341            25            40       GA  \n4622             0            25       TX  \n\n[2 rows x 24 columns]",
      "text/html": "<div>\n<style scoped>\n    .dataframe tbody tr th:only-of-type {\n        vertical-align: middle;\n    }\n\n    .dataframe tbody tr th {\n        vertical-align: top;\n    }\n\n    .dataframe thead th {\n        text-align: right;\n    }\n</style>\n<table border=\"1\" class=\"dataframe\">\n  <thead>\n    <tr style=\"text-align: right;\">\n      <th></th>\n      <th>id</th>\n      <th>dateAdded</th>\n      <th>dateUpdated</th>\n      <th>address</th>\n      <th>categories</th>\n      <th>primaryCategories</th>\n      <th>city</th>\n      <th>country</th>\n      <th>keys</th>\n      <th>latitude</th>\n      <th>...</th>\n      <th>menus.currency</th>\n      <th>menus.dateSeen</th>\n      <th>menus.description</th>\n      <th>menus.name</th>\n      <th>name</th>\n      <th>postalCode</th>\n      <th>priceRangeCurrency</th>\n      <th>priceRangeMin</th>\n      <th>priceRangeMax</th>\n      <th>province</th>\n    </tr>\n  </thead>\n  <tbody>\n    <tr>\n      <th>7341</th>\n      <td>AVweFWZb_7pvs4fz_4zT</td>\n      <td>2016-03-29T05:06:14Z</td>\n      <td>2018-05-26T23:32:51Z</td>\n      <td>3157 Sugarloaf Pkwy</td>\n      <td>Restaurant,Bar,Pizza Place</td>\n      <td>Accommodation &amp; Food Services</td>\n      <td>Lawrenceville</td>\n      <td>US</td>\n      <td>us/ga/lawrenceville/3157sugarloafpkwy/-370000215</td>\n      <td>33.921219</td>\n      <td>...</td>\n      <td>USD</td>\n      <td>2018-01-22T09:16:30.203Z</td>\n      <td>Chicken strips, red onions &amp; bacon topped with...</td>\n      <td>Buffalo Chicken Pizza</td>\n      <td>Johnny's New York Style Pizza</td>\n      <td>30045</td>\n      <td>USD</td>\n      <td>25</td>\n      <td>40</td>\n      <td>GA</td>\n    </tr>\n    <tr>\n      <th>4622</th>\n      <td>AVwcmZPx_7pvs4fzw5zH</td>\n      <td>2016-12-22T18:59:57Z</td>\n      <td>2018-07-02T23:19:42Z</td>\n      <td>12407 N Mo Pac Expy</td>\n      <td>Restaurant,Pizza Place</td>\n      <td>Accommodation &amp; Food Services</td>\n      <td>Austin</td>\n      <td>US</td>\n      <td>us/tx/austin/12407nmopacexpy/1112396794</td>\n      <td>30.416873</td>\n      <td>...</td>\n      <td>USD</td>\n      <td>2018-06-06T09:15:44.202Z,2018-07-01T15:34:08.6...</td>\n      <td>Creamy garlic sauce mozzarella spicy fennel sa...</td>\n      <td>Spicy Fennel Sausage Pizza Baking Required</td>\n      <td>Papa Murphy's</td>\n      <td>78758</td>\n      <td>USD</td>\n      <td>0</td>\n      <td>25</td>\n      <td>TX</td>\n    </tr>\n  </tbody>\n</table>\n<p>2 rows × 24 columns</p>\n</div>"
     },
     "execution_count": 11,
     "metadata": {},
     "output_type": "execute_result"
    }
   ],
   "source": [
    "pizza.sample(2)"
   ],
   "metadata": {
    "collapsed": false,
    "pycharm": {
     "name": "#%%\n"
    }
   }
  },
  {
   "cell_type": "code",
   "execution_count": null,
   "outputs": [],
   "source": [],
   "metadata": {
    "collapsed": false,
    "pycharm": {
     "name": "#%%\n"
    }
   }
  },
  {
   "cell_type": "code",
   "execution_count": 3,
   "metadata": {
    "pycharm": {
     "name": "#%%\n"
    }
   },
   "outputs": [],
   "source": [
    "# Первые строчки таблицы"
   ]
  },
  {
   "cell_type": "code",
   "execution_count": 12,
   "metadata": {
    "pycharm": {
     "name": "#%%\n"
    }
   },
   "outputs": [
    {
     "name": "stdout",
     "output_type": "stream",
     "text": [
      "<class 'pandas.core.frame.DataFrame'>\n",
      "RangeIndex: 10000 entries, 0 to 9999\n",
      "Data columns (total 24 columns):\n",
      " #   Column              Non-Null Count  Dtype  \n",
      "---  ------              --------------  -----  \n",
      " 0   id                  10000 non-null  object \n",
      " 1   dateAdded           10000 non-null  object \n",
      " 2   dateUpdated         10000 non-null  object \n",
      " 3   address             10000 non-null  object \n",
      " 4   categories          10000 non-null  object \n",
      " 5   primaryCategories   10000 non-null  object \n",
      " 6   city                10000 non-null  object \n",
      " 7   country             10000 non-null  object \n",
      " 8   keys                10000 non-null  object \n",
      " 9   latitude            10000 non-null  float64\n",
      " 10  longitude           10000 non-null  float64\n",
      " 11  menuPageURL         1679 non-null   object \n",
      " 12  menus.amountMax     10000 non-null  float64\n",
      " 13  menus.amountMin     10000 non-null  float64\n",
      " 14  menus.currency      10000 non-null  object \n",
      " 15  menus.dateSeen      10000 non-null  object \n",
      " 16  menus.description   3718 non-null   object \n",
      " 17  menus.name          10000 non-null  object \n",
      " 18  name                10000 non-null  object \n",
      " 19  postalCode          9996 non-null   object \n",
      " 20  priceRangeCurrency  10000 non-null  object \n",
      " 21  priceRangeMin       10000 non-null  int64  \n",
      " 22  priceRangeMax       10000 non-null  int64  \n",
      " 23  province            10000 non-null  object \n",
      "dtypes: float64(4), int64(2), object(18)\n",
      "memory usage: 1.8+ MB\n"
     ]
    }
   ],
   "source": [
    "# Информация о таблице\n",
    "pizza.info()"
   ]
  },
  {
   "cell_type": "code",
   "execution_count": 5,
   "metadata": {
    "pycharm": {
     "name": "#%%\n"
    }
   },
   "outputs": [],
   "source": [
    "# Если нужно удалить колонки\n",
    "pizza = pizza.drop(['address','dateUpdated'], axis=1)"
   ]
  },
  {
   "cell_type": "code",
   "execution_count": 14,
   "outputs": [
    {
     "ename": "KeyError",
     "evalue": "\"['address' 'dateUpdated'] not found in axis\"",
     "output_type": "error",
     "traceback": [
      "\u001B[0;31m---------------------------------------------------------------------------\u001B[0m",
      "\u001B[0;31mKeyError\u001B[0m                                  Traceback (most recent call last)",
      "\u001B[0;32m/var/folders/9z/_pdr4vys3c9_sdhkgcm_5s540000gn/T/ipykernel_10181/4143484749.py\u001B[0m in \u001B[0;36m<module>\u001B[0;34m\u001B[0m\n\u001B[0;32m----> 1\u001B[0;31m \u001B[0mpizza\u001B[0m\u001B[0;34m.\u001B[0m\u001B[0mdrop\u001B[0m\u001B[0;34m(\u001B[0m\u001B[0;34m[\u001B[0m\u001B[0;34m'address'\u001B[0m\u001B[0;34m,\u001B[0m\u001B[0;34m'dateUpdated'\u001B[0m\u001B[0;34m]\u001B[0m\u001B[0;34m,\u001B[0m \u001B[0maxis\u001B[0m\u001B[0;34m=\u001B[0m\u001B[0;36m1\u001B[0m\u001B[0;34m,\u001B[0m \u001B[0minplace\u001B[0m\u001B[0;34m=\u001B[0m\u001B[0;32mTrue\u001B[0m\u001B[0;34m)\u001B[0m\u001B[0;34m\u001B[0m\u001B[0;34m\u001B[0m\u001B[0m\n\u001B[0m",
      "\u001B[0;32m~/opt/anaconda3/lib/python3.9/site-packages/pandas/util/_decorators.py\u001B[0m in \u001B[0;36mwrapper\u001B[0;34m(*args, **kwargs)\u001B[0m\n\u001B[1;32m    309\u001B[0m                     \u001B[0mstacklevel\u001B[0m\u001B[0;34m=\u001B[0m\u001B[0mstacklevel\u001B[0m\u001B[0;34m,\u001B[0m\u001B[0;34m\u001B[0m\u001B[0;34m\u001B[0m\u001B[0m\n\u001B[1;32m    310\u001B[0m                 )\n\u001B[0;32m--> 311\u001B[0;31m             \u001B[0;32mreturn\u001B[0m \u001B[0mfunc\u001B[0m\u001B[0;34m(\u001B[0m\u001B[0;34m*\u001B[0m\u001B[0margs\u001B[0m\u001B[0;34m,\u001B[0m \u001B[0;34m**\u001B[0m\u001B[0mkwargs\u001B[0m\u001B[0;34m)\u001B[0m\u001B[0;34m\u001B[0m\u001B[0;34m\u001B[0m\u001B[0m\n\u001B[0m\u001B[1;32m    312\u001B[0m \u001B[0;34m\u001B[0m\u001B[0m\n\u001B[1;32m    313\u001B[0m         \u001B[0;32mreturn\u001B[0m \u001B[0mwrapper\u001B[0m\u001B[0;34m\u001B[0m\u001B[0;34m\u001B[0m\u001B[0m\n",
      "\u001B[0;32m~/opt/anaconda3/lib/python3.9/site-packages/pandas/core/frame.py\u001B[0m in \u001B[0;36mdrop\u001B[0;34m(self, labels, axis, index, columns, level, inplace, errors)\u001B[0m\n\u001B[1;32m   4904\u001B[0m                 \u001B[0mweight\u001B[0m  \u001B[0;36m1.0\u001B[0m     \u001B[0;36m0.8\u001B[0m\u001B[0;34m\u001B[0m\u001B[0;34m\u001B[0m\u001B[0m\n\u001B[1;32m   4905\u001B[0m         \"\"\"\n\u001B[0;32m-> 4906\u001B[0;31m         return super().drop(\n\u001B[0m\u001B[1;32m   4907\u001B[0m             \u001B[0mlabels\u001B[0m\u001B[0;34m=\u001B[0m\u001B[0mlabels\u001B[0m\u001B[0;34m,\u001B[0m\u001B[0;34m\u001B[0m\u001B[0;34m\u001B[0m\u001B[0m\n\u001B[1;32m   4908\u001B[0m             \u001B[0maxis\u001B[0m\u001B[0;34m=\u001B[0m\u001B[0maxis\u001B[0m\u001B[0;34m,\u001B[0m\u001B[0;34m\u001B[0m\u001B[0;34m\u001B[0m\u001B[0m\n",
      "\u001B[0;32m~/opt/anaconda3/lib/python3.9/site-packages/pandas/core/generic.py\u001B[0m in \u001B[0;36mdrop\u001B[0;34m(self, labels, axis, index, columns, level, inplace, errors)\u001B[0m\n\u001B[1;32m   4148\u001B[0m         \u001B[0;32mfor\u001B[0m \u001B[0maxis\u001B[0m\u001B[0;34m,\u001B[0m \u001B[0mlabels\u001B[0m \u001B[0;32min\u001B[0m \u001B[0maxes\u001B[0m\u001B[0;34m.\u001B[0m\u001B[0mitems\u001B[0m\u001B[0;34m(\u001B[0m\u001B[0;34m)\u001B[0m\u001B[0;34m:\u001B[0m\u001B[0;34m\u001B[0m\u001B[0;34m\u001B[0m\u001B[0m\n\u001B[1;32m   4149\u001B[0m             \u001B[0;32mif\u001B[0m \u001B[0mlabels\u001B[0m \u001B[0;32mis\u001B[0m \u001B[0;32mnot\u001B[0m \u001B[0;32mNone\u001B[0m\u001B[0;34m:\u001B[0m\u001B[0;34m\u001B[0m\u001B[0;34m\u001B[0m\u001B[0m\n\u001B[0;32m-> 4150\u001B[0;31m                 \u001B[0mobj\u001B[0m \u001B[0;34m=\u001B[0m \u001B[0mobj\u001B[0m\u001B[0;34m.\u001B[0m\u001B[0m_drop_axis\u001B[0m\u001B[0;34m(\u001B[0m\u001B[0mlabels\u001B[0m\u001B[0;34m,\u001B[0m \u001B[0maxis\u001B[0m\u001B[0;34m,\u001B[0m \u001B[0mlevel\u001B[0m\u001B[0;34m=\u001B[0m\u001B[0mlevel\u001B[0m\u001B[0;34m,\u001B[0m \u001B[0merrors\u001B[0m\u001B[0;34m=\u001B[0m\u001B[0merrors\u001B[0m\u001B[0;34m)\u001B[0m\u001B[0;34m\u001B[0m\u001B[0;34m\u001B[0m\u001B[0m\n\u001B[0m\u001B[1;32m   4151\u001B[0m \u001B[0;34m\u001B[0m\u001B[0m\n\u001B[1;32m   4152\u001B[0m         \u001B[0;32mif\u001B[0m \u001B[0minplace\u001B[0m\u001B[0;34m:\u001B[0m\u001B[0;34m\u001B[0m\u001B[0;34m\u001B[0m\u001B[0m\n",
      "\u001B[0;32m~/opt/anaconda3/lib/python3.9/site-packages/pandas/core/generic.py\u001B[0m in \u001B[0;36m_drop_axis\u001B[0;34m(self, labels, axis, level, errors)\u001B[0m\n\u001B[1;32m   4183\u001B[0m                 \u001B[0mnew_axis\u001B[0m \u001B[0;34m=\u001B[0m \u001B[0maxis\u001B[0m\u001B[0;34m.\u001B[0m\u001B[0mdrop\u001B[0m\u001B[0;34m(\u001B[0m\u001B[0mlabels\u001B[0m\u001B[0;34m,\u001B[0m \u001B[0mlevel\u001B[0m\u001B[0;34m=\u001B[0m\u001B[0mlevel\u001B[0m\u001B[0;34m,\u001B[0m \u001B[0merrors\u001B[0m\u001B[0;34m=\u001B[0m\u001B[0merrors\u001B[0m\u001B[0;34m)\u001B[0m\u001B[0;34m\u001B[0m\u001B[0;34m\u001B[0m\u001B[0m\n\u001B[1;32m   4184\u001B[0m             \u001B[0;32melse\u001B[0m\u001B[0;34m:\u001B[0m\u001B[0;34m\u001B[0m\u001B[0;34m\u001B[0m\u001B[0m\n\u001B[0;32m-> 4185\u001B[0;31m                 \u001B[0mnew_axis\u001B[0m \u001B[0;34m=\u001B[0m \u001B[0maxis\u001B[0m\u001B[0;34m.\u001B[0m\u001B[0mdrop\u001B[0m\u001B[0;34m(\u001B[0m\u001B[0mlabels\u001B[0m\u001B[0;34m,\u001B[0m \u001B[0merrors\u001B[0m\u001B[0;34m=\u001B[0m\u001B[0merrors\u001B[0m\u001B[0;34m)\u001B[0m\u001B[0;34m\u001B[0m\u001B[0;34m\u001B[0m\u001B[0m\n\u001B[0m\u001B[1;32m   4186\u001B[0m             \u001B[0mresult\u001B[0m \u001B[0;34m=\u001B[0m \u001B[0mself\u001B[0m\u001B[0;34m.\u001B[0m\u001B[0mreindex\u001B[0m\u001B[0;34m(\u001B[0m\u001B[0;34m**\u001B[0m\u001B[0;34m{\u001B[0m\u001B[0maxis_name\u001B[0m\u001B[0;34m:\u001B[0m \u001B[0mnew_axis\u001B[0m\u001B[0;34m}\u001B[0m\u001B[0;34m)\u001B[0m\u001B[0;34m\u001B[0m\u001B[0;34m\u001B[0m\u001B[0m\n\u001B[1;32m   4187\u001B[0m \u001B[0;34m\u001B[0m\u001B[0m\n",
      "\u001B[0;32m~/opt/anaconda3/lib/python3.9/site-packages/pandas/core/indexes/base.py\u001B[0m in \u001B[0;36mdrop\u001B[0;34m(self, labels, errors)\u001B[0m\n\u001B[1;32m   6015\u001B[0m         \u001B[0;32mif\u001B[0m \u001B[0mmask\u001B[0m\u001B[0;34m.\u001B[0m\u001B[0many\u001B[0m\u001B[0;34m(\u001B[0m\u001B[0;34m)\u001B[0m\u001B[0;34m:\u001B[0m\u001B[0;34m\u001B[0m\u001B[0;34m\u001B[0m\u001B[0m\n\u001B[1;32m   6016\u001B[0m             \u001B[0;32mif\u001B[0m \u001B[0merrors\u001B[0m \u001B[0;34m!=\u001B[0m \u001B[0;34m\"ignore\"\u001B[0m\u001B[0;34m:\u001B[0m\u001B[0;34m\u001B[0m\u001B[0;34m\u001B[0m\u001B[0m\n\u001B[0;32m-> 6017\u001B[0;31m                 \u001B[0;32mraise\u001B[0m \u001B[0mKeyError\u001B[0m\u001B[0;34m(\u001B[0m\u001B[0;34mf\"{labels[mask]} not found in axis\"\u001B[0m\u001B[0;34m)\u001B[0m\u001B[0;34m\u001B[0m\u001B[0;34m\u001B[0m\u001B[0m\n\u001B[0m\u001B[1;32m   6018\u001B[0m             \u001B[0mindexer\u001B[0m \u001B[0;34m=\u001B[0m \u001B[0mindexer\u001B[0m\u001B[0;34m[\u001B[0m\u001B[0;34m~\u001B[0m\u001B[0mmask\u001B[0m\u001B[0;34m]\u001B[0m\u001B[0;34m\u001B[0m\u001B[0;34m\u001B[0m\u001B[0m\n\u001B[1;32m   6019\u001B[0m         \u001B[0;32mreturn\u001B[0m \u001B[0mself\u001B[0m\u001B[0;34m.\u001B[0m\u001B[0mdelete\u001B[0m\u001B[0;34m(\u001B[0m\u001B[0mindexer\u001B[0m\u001B[0;34m)\u001B[0m\u001B[0;34m\u001B[0m\u001B[0;34m\u001B[0m\u001B[0m\n",
      "\u001B[0;31mKeyError\u001B[0m: \"['address' 'dateUpdated'] not found in axis\""
     ]
    }
   ],
   "source": [
    "pizza.drop(['address','dateUpdated'], axis=1, inplace=True)"
   ],
   "metadata": {
    "collapsed": false,
    "pycharm": {
     "name": "#%%\n"
    }
   }
  },
  {
   "cell_type": "code",
   "execution_count": 15,
   "metadata": {
    "pycharm": {
     "name": "#%%\n"
    }
   },
   "outputs": [
    {
     "data": {
      "text/plain": "                     id             dateAdded  \\\n0  AVz3Y-7h3D1zeR_xDAqm  2017-06-30T05:05:40Z   \n1  AVweGPFF_7pvs4fzAAzQ  2016-04-02T04:02:49Z   \n2  AVwdRGa9_7pvs4fz4E3K  2016-03-03T18:39:49Z   \n3  AVwdX4psIN2L1WUfvJB1  2016-03-29T05:08:59Z   \n4  AVwdaeTtkufWRAb55pSH  2016-03-31T02:34:04Z   \n\n                                          categories  \\\n0  Pizza,Restaurant,American restaurants,Pizza Pl...   \n1                      Pizza,Pizza Place,Restaurants   \n2                 Restaurant,Pizza Place,Restaurants   \n3       Pizza,Carry-out food,Pizza Place,Restaurants   \n4  Pizza,American restaurants,Pizza Place,Pizza e...   \n\n               primaryCategories             city country  \\\n0  Accommodation & Food Services         Sherwood      US   \n1  Accommodation & Food Services          Phoenix      US   \n2  Accommodation & Food Services       Cincinnati      US   \n3  Accommodation & Food Services  Madison Heights      US   \n4  Accommodation & Food Services        Baltimore      US   \n\n                                           keys   latitude   longitude  \\\n0      us/ar/sherwood/4203ekiehlave/-1051391616  34.832300  -92.183800   \n1       us/az/phoenix/25ecamelbackrd/-727422936  33.509266 -112.073044   \n2     us/oh/cincinnati/3703paxtonave/-619797122  39.144883  -84.432685   \n3  us/mi/madisonheights/30495johnrrd/-874863116  42.516669  -83.106630   \n4    us/md/baltimore/3600easternave/-1270965359  39.286630  -76.566984   \n\n                                         menuPageURL  ...  menus.currency  \\\n0  http://www.citysearch.com/profile/menu/1550074...  ...             USD   \n1                                                NaN  ...             USD   \n2  http://www.citysearch.com/profile/menu/8160503...  ...             USD   \n3                                                NaN  ...             USD   \n4                                                NaN  ...             USD   \n\n                                      menus.dateSeen  \\\n0  2018-05-01T04:25:37.197Z,2018-04-16T04:36:02.3...   \n1  2018-03-03T02:38:06.381Z,2018-01-18T20:18:10.0...   \n2  2018-04-10T07:58:34.585Z,2018-04-21T05:43:21.4...   \n3          2016-10-20T21:50:02Z,2016-03-29T05:08:59Z   \n4                               2016-03-31T02:34:04Z   \n\n                                   menus.description    menus.name  \\\n0                                                NaN  Cheese Pizza   \n1                                                NaN  Pizza Cookie   \n2  a saucelessampcomma double cheese pizza with a...  Pizza Blanca   \n3                                                NaN   Small Pizza   \n4                                                NaN     Pizza Sub   \n\n                  name postalCode priceRangeCurrency priceRangeMin  \\\n0   Shotgun Dans Pizza      72120                USD             0   \n1     Sauce Pizza Wine      85012                USD             0   \n2        Mios Pizzeria      45209                USD             0   \n3  Hungry Howies Pizza      48071                USD            25   \n4     Spartan Pizzeria      21224                USD             0   \n\n  priceRangeMax  province  \n0            25        AR  \n1            25        AZ  \n2            25        OH  \n3            40        MI  \n4            25        MD  \n\n[5 rows x 22 columns]",
      "text/html": "<div>\n<style scoped>\n    .dataframe tbody tr th:only-of-type {\n        vertical-align: middle;\n    }\n\n    .dataframe tbody tr th {\n        vertical-align: top;\n    }\n\n    .dataframe thead th {\n        text-align: right;\n    }\n</style>\n<table border=\"1\" class=\"dataframe\">\n  <thead>\n    <tr style=\"text-align: right;\">\n      <th></th>\n      <th>id</th>\n      <th>dateAdded</th>\n      <th>categories</th>\n      <th>primaryCategories</th>\n      <th>city</th>\n      <th>country</th>\n      <th>keys</th>\n      <th>latitude</th>\n      <th>longitude</th>\n      <th>menuPageURL</th>\n      <th>...</th>\n      <th>menus.currency</th>\n      <th>menus.dateSeen</th>\n      <th>menus.description</th>\n      <th>menus.name</th>\n      <th>name</th>\n      <th>postalCode</th>\n      <th>priceRangeCurrency</th>\n      <th>priceRangeMin</th>\n      <th>priceRangeMax</th>\n      <th>province</th>\n    </tr>\n  </thead>\n  <tbody>\n    <tr>\n      <th>0</th>\n      <td>AVz3Y-7h3D1zeR_xDAqm</td>\n      <td>2017-06-30T05:05:40Z</td>\n      <td>Pizza,Restaurant,American restaurants,Pizza Pl...</td>\n      <td>Accommodation &amp; Food Services</td>\n      <td>Sherwood</td>\n      <td>US</td>\n      <td>us/ar/sherwood/4203ekiehlave/-1051391616</td>\n      <td>34.832300</td>\n      <td>-92.183800</td>\n      <td>http://www.citysearch.com/profile/menu/1550074...</td>\n      <td>...</td>\n      <td>USD</td>\n      <td>2018-05-01T04:25:37.197Z,2018-04-16T04:36:02.3...</td>\n      <td>NaN</td>\n      <td>Cheese Pizza</td>\n      <td>Shotgun Dans Pizza</td>\n      <td>72120</td>\n      <td>USD</td>\n      <td>0</td>\n      <td>25</td>\n      <td>AR</td>\n    </tr>\n    <tr>\n      <th>1</th>\n      <td>AVweGPFF_7pvs4fzAAzQ</td>\n      <td>2016-04-02T04:02:49Z</td>\n      <td>Pizza,Pizza Place,Restaurants</td>\n      <td>Accommodation &amp; Food Services</td>\n      <td>Phoenix</td>\n      <td>US</td>\n      <td>us/az/phoenix/25ecamelbackrd/-727422936</td>\n      <td>33.509266</td>\n      <td>-112.073044</td>\n      <td>NaN</td>\n      <td>...</td>\n      <td>USD</td>\n      <td>2018-03-03T02:38:06.381Z,2018-01-18T20:18:10.0...</td>\n      <td>NaN</td>\n      <td>Pizza Cookie</td>\n      <td>Sauce Pizza Wine</td>\n      <td>85012</td>\n      <td>USD</td>\n      <td>0</td>\n      <td>25</td>\n      <td>AZ</td>\n    </tr>\n    <tr>\n      <th>2</th>\n      <td>AVwdRGa9_7pvs4fz4E3K</td>\n      <td>2016-03-03T18:39:49Z</td>\n      <td>Restaurant,Pizza Place,Restaurants</td>\n      <td>Accommodation &amp; Food Services</td>\n      <td>Cincinnati</td>\n      <td>US</td>\n      <td>us/oh/cincinnati/3703paxtonave/-619797122</td>\n      <td>39.144883</td>\n      <td>-84.432685</td>\n      <td>http://www.citysearch.com/profile/menu/8160503...</td>\n      <td>...</td>\n      <td>USD</td>\n      <td>2018-04-10T07:58:34.585Z,2018-04-21T05:43:21.4...</td>\n      <td>a saucelessampcomma double cheese pizza with a...</td>\n      <td>Pizza Blanca</td>\n      <td>Mios Pizzeria</td>\n      <td>45209</td>\n      <td>USD</td>\n      <td>0</td>\n      <td>25</td>\n      <td>OH</td>\n    </tr>\n    <tr>\n      <th>3</th>\n      <td>AVwdX4psIN2L1WUfvJB1</td>\n      <td>2016-03-29T05:08:59Z</td>\n      <td>Pizza,Carry-out food,Pizza Place,Restaurants</td>\n      <td>Accommodation &amp; Food Services</td>\n      <td>Madison Heights</td>\n      <td>US</td>\n      <td>us/mi/madisonheights/30495johnrrd/-874863116</td>\n      <td>42.516669</td>\n      <td>-83.106630</td>\n      <td>NaN</td>\n      <td>...</td>\n      <td>USD</td>\n      <td>2016-10-20T21:50:02Z,2016-03-29T05:08:59Z</td>\n      <td>NaN</td>\n      <td>Small Pizza</td>\n      <td>Hungry Howies Pizza</td>\n      <td>48071</td>\n      <td>USD</td>\n      <td>25</td>\n      <td>40</td>\n      <td>MI</td>\n    </tr>\n    <tr>\n      <th>4</th>\n      <td>AVwdaeTtkufWRAb55pSH</td>\n      <td>2016-03-31T02:34:04Z</td>\n      <td>Pizza,American restaurants,Pizza Place,Pizza e...</td>\n      <td>Accommodation &amp; Food Services</td>\n      <td>Baltimore</td>\n      <td>US</td>\n      <td>us/md/baltimore/3600easternave/-1270965359</td>\n      <td>39.286630</td>\n      <td>-76.566984</td>\n      <td>NaN</td>\n      <td>...</td>\n      <td>USD</td>\n      <td>2016-03-31T02:34:04Z</td>\n      <td>NaN</td>\n      <td>Pizza Sub</td>\n      <td>Spartan Pizzeria</td>\n      <td>21224</td>\n      <td>USD</td>\n      <td>0</td>\n      <td>25</td>\n      <td>MD</td>\n    </tr>\n  </tbody>\n</table>\n<p>5 rows × 22 columns</p>\n</div>"
     },
     "execution_count": 15,
     "metadata": {},
     "output_type": "execute_result"
    }
   ],
   "source": [
    "pizza.head()"
   ]
  },
  {
   "cell_type": "code",
   "execution_count": 6,
   "outputs": [],
   "source": [],
   "metadata": {
    "collapsed": false,
    "pycharm": {
     "name": "#%%\n"
    }
   }
  },
  {
   "cell_type": "code",
   "execution_count": 18,
   "metadata": {
    "pycharm": {
     "name": "#%%\n"
    }
   },
   "outputs": [
    {
     "data": {
      "text/plain": "Index(['id', 'dateAdded', 'categories', 'primaryCategories', 'city', 'country',\n       'keys', 'latitude', 'longitude', 'menuPageURL', 'menus.amountMax',\n       'menus.amountMin', 'menus.currency', 'menus.dateSeen',\n       'menus.description', 'menus.name', 'name', 'postalCode',\n       'priceRangeCurrency', 'priceRangeMin', 'priceRangeMax', 'province_'],\n      dtype='object')"
     },
     "execution_count": 18,
     "metadata": {},
     "output_type": "execute_result"
    }
   ],
   "source": [
    "# Выводим названия колонок\n",
    "pizza.columns"
   ]
  },
  {
   "cell_type": "code",
   "execution_count": 24,
   "outputs": [],
   "source": [
    "pizza.columns = ['id', 'dateAdded', 'categories', 'primaryCategories', 'city', 'country',\n",
    "       'keys', 'latitude', 'longitude', 'menuPageURL', 'menus.amountMax',\n",
    "       'menus.amountMin', 'menus.currency', 'menus.dateSeen',\n",
    "       'menus.description', 'menus.name', 'name', 'postalCode',\n",
    "       'priceRangeCurrency', 'priceRangeMin', 'priceRangeMax', 'province']"
   ],
   "metadata": {
    "collapsed": false,
    "pycharm": {
     "name": "#%%\n"
    }
   }
  },
  {
   "cell_type": "code",
   "execution_count": 22,
   "outputs": [],
   "source": [
    "pizza = pizza.rename(columns={'province':'province__'})"
   ],
   "metadata": {
    "collapsed": false,
    "pycharm": {
     "name": "#%%\n"
    }
   }
  },
  {
   "cell_type": "code",
   "execution_count": 25,
   "outputs": [
    {
     "data": {
      "text/plain": "                     id             dateAdded  \\\n0  AVz3Y-7h3D1zeR_xDAqm  2017-06-30T05:05:40Z   \n1  AVweGPFF_7pvs4fzAAzQ  2016-04-02T04:02:49Z   \n2  AVwdRGa9_7pvs4fz4E3K  2016-03-03T18:39:49Z   \n3  AVwdX4psIN2L1WUfvJB1  2016-03-29T05:08:59Z   \n4  AVwdaeTtkufWRAb55pSH  2016-03-31T02:34:04Z   \n\n                                          categories  \\\n0  Pizza,Restaurant,American restaurants,Pizza Pl...   \n1                      Pizza,Pizza Place,Restaurants   \n2                 Restaurant,Pizza Place,Restaurants   \n3       Pizza,Carry-out food,Pizza Place,Restaurants   \n4  Pizza,American restaurants,Pizza Place,Pizza e...   \n\n               primaryCategories             city country  \\\n0  Accommodation & Food Services         Sherwood      US   \n1  Accommodation & Food Services          Phoenix      US   \n2  Accommodation & Food Services       Cincinnati      US   \n3  Accommodation & Food Services  Madison Heights      US   \n4  Accommodation & Food Services        Baltimore      US   \n\n                                           keys   latitude   longitude  \\\n0      us/ar/sherwood/4203ekiehlave/-1051391616  34.832300  -92.183800   \n1       us/az/phoenix/25ecamelbackrd/-727422936  33.509266 -112.073044   \n2     us/oh/cincinnati/3703paxtonave/-619797122  39.144883  -84.432685   \n3  us/mi/madisonheights/30495johnrrd/-874863116  42.516669  -83.106630   \n4    us/md/baltimore/3600easternave/-1270965359  39.286630  -76.566984   \n\n                                         menuPageURL  ...  menus.currency  \\\n0  http://www.citysearch.com/profile/menu/1550074...  ...             USD   \n1                                                NaN  ...             USD   \n2  http://www.citysearch.com/profile/menu/8160503...  ...             USD   \n3                                                NaN  ...             USD   \n4                                                NaN  ...             USD   \n\n                                      menus.dateSeen  \\\n0  2018-05-01T04:25:37.197Z,2018-04-16T04:36:02.3...   \n1  2018-03-03T02:38:06.381Z,2018-01-18T20:18:10.0...   \n2  2018-04-10T07:58:34.585Z,2018-04-21T05:43:21.4...   \n3          2016-10-20T21:50:02Z,2016-03-29T05:08:59Z   \n4                               2016-03-31T02:34:04Z   \n\n                                   menus.description    menus.name  \\\n0                                                NaN  Cheese Pizza   \n1                                                NaN  Pizza Cookie   \n2  a saucelessampcomma double cheese pizza with a...  Pizza Blanca   \n3                                                NaN   Small Pizza   \n4                                                NaN     Pizza Sub   \n\n                  name postalCode priceRangeCurrency priceRangeMin  \\\n0   Shotgun Dans Pizza      72120                USD             0   \n1     Sauce Pizza Wine      85012                USD             0   \n2        Mios Pizzeria      45209                USD             0   \n3  Hungry Howies Pizza      48071                USD            25   \n4     Spartan Pizzeria      21224                USD             0   \n\n  priceRangeMax  province  \n0            25        AR  \n1            25        AZ  \n2            25        OH  \n3            40        MI  \n4            25        MD  \n\n[5 rows x 22 columns]",
      "text/html": "<div>\n<style scoped>\n    .dataframe tbody tr th:only-of-type {\n        vertical-align: middle;\n    }\n\n    .dataframe tbody tr th {\n        vertical-align: top;\n    }\n\n    .dataframe thead th {\n        text-align: right;\n    }\n</style>\n<table border=\"1\" class=\"dataframe\">\n  <thead>\n    <tr style=\"text-align: right;\">\n      <th></th>\n      <th>id</th>\n      <th>dateAdded</th>\n      <th>categories</th>\n      <th>primaryCategories</th>\n      <th>city</th>\n      <th>country</th>\n      <th>keys</th>\n      <th>latitude</th>\n      <th>longitude</th>\n      <th>menuPageURL</th>\n      <th>...</th>\n      <th>menus.currency</th>\n      <th>menus.dateSeen</th>\n      <th>menus.description</th>\n      <th>menus.name</th>\n      <th>name</th>\n      <th>postalCode</th>\n      <th>priceRangeCurrency</th>\n      <th>priceRangeMin</th>\n      <th>priceRangeMax</th>\n      <th>province</th>\n    </tr>\n  </thead>\n  <tbody>\n    <tr>\n      <th>0</th>\n      <td>AVz3Y-7h3D1zeR_xDAqm</td>\n      <td>2017-06-30T05:05:40Z</td>\n      <td>Pizza,Restaurant,American restaurants,Pizza Pl...</td>\n      <td>Accommodation &amp; Food Services</td>\n      <td>Sherwood</td>\n      <td>US</td>\n      <td>us/ar/sherwood/4203ekiehlave/-1051391616</td>\n      <td>34.832300</td>\n      <td>-92.183800</td>\n      <td>http://www.citysearch.com/profile/menu/1550074...</td>\n      <td>...</td>\n      <td>USD</td>\n      <td>2018-05-01T04:25:37.197Z,2018-04-16T04:36:02.3...</td>\n      <td>NaN</td>\n      <td>Cheese Pizza</td>\n      <td>Shotgun Dans Pizza</td>\n      <td>72120</td>\n      <td>USD</td>\n      <td>0</td>\n      <td>25</td>\n      <td>AR</td>\n    </tr>\n    <tr>\n      <th>1</th>\n      <td>AVweGPFF_7pvs4fzAAzQ</td>\n      <td>2016-04-02T04:02:49Z</td>\n      <td>Pizza,Pizza Place,Restaurants</td>\n      <td>Accommodation &amp; Food Services</td>\n      <td>Phoenix</td>\n      <td>US</td>\n      <td>us/az/phoenix/25ecamelbackrd/-727422936</td>\n      <td>33.509266</td>\n      <td>-112.073044</td>\n      <td>NaN</td>\n      <td>...</td>\n      <td>USD</td>\n      <td>2018-03-03T02:38:06.381Z,2018-01-18T20:18:10.0...</td>\n      <td>NaN</td>\n      <td>Pizza Cookie</td>\n      <td>Sauce Pizza Wine</td>\n      <td>85012</td>\n      <td>USD</td>\n      <td>0</td>\n      <td>25</td>\n      <td>AZ</td>\n    </tr>\n    <tr>\n      <th>2</th>\n      <td>AVwdRGa9_7pvs4fz4E3K</td>\n      <td>2016-03-03T18:39:49Z</td>\n      <td>Restaurant,Pizza Place,Restaurants</td>\n      <td>Accommodation &amp; Food Services</td>\n      <td>Cincinnati</td>\n      <td>US</td>\n      <td>us/oh/cincinnati/3703paxtonave/-619797122</td>\n      <td>39.144883</td>\n      <td>-84.432685</td>\n      <td>http://www.citysearch.com/profile/menu/8160503...</td>\n      <td>...</td>\n      <td>USD</td>\n      <td>2018-04-10T07:58:34.585Z,2018-04-21T05:43:21.4...</td>\n      <td>a saucelessampcomma double cheese pizza with a...</td>\n      <td>Pizza Blanca</td>\n      <td>Mios Pizzeria</td>\n      <td>45209</td>\n      <td>USD</td>\n      <td>0</td>\n      <td>25</td>\n      <td>OH</td>\n    </tr>\n    <tr>\n      <th>3</th>\n      <td>AVwdX4psIN2L1WUfvJB1</td>\n      <td>2016-03-29T05:08:59Z</td>\n      <td>Pizza,Carry-out food,Pizza Place,Restaurants</td>\n      <td>Accommodation &amp; Food Services</td>\n      <td>Madison Heights</td>\n      <td>US</td>\n      <td>us/mi/madisonheights/30495johnrrd/-874863116</td>\n      <td>42.516669</td>\n      <td>-83.106630</td>\n      <td>NaN</td>\n      <td>...</td>\n      <td>USD</td>\n      <td>2016-10-20T21:50:02Z,2016-03-29T05:08:59Z</td>\n      <td>NaN</td>\n      <td>Small Pizza</td>\n      <td>Hungry Howies Pizza</td>\n      <td>48071</td>\n      <td>USD</td>\n      <td>25</td>\n      <td>40</td>\n      <td>MI</td>\n    </tr>\n    <tr>\n      <th>4</th>\n      <td>AVwdaeTtkufWRAb55pSH</td>\n      <td>2016-03-31T02:34:04Z</td>\n      <td>Pizza,American restaurants,Pizza Place,Pizza e...</td>\n      <td>Accommodation &amp; Food Services</td>\n      <td>Baltimore</td>\n      <td>US</td>\n      <td>us/md/baltimore/3600easternave/-1270965359</td>\n      <td>39.286630</td>\n      <td>-76.566984</td>\n      <td>NaN</td>\n      <td>...</td>\n      <td>USD</td>\n      <td>2016-03-31T02:34:04Z</td>\n      <td>NaN</td>\n      <td>Pizza Sub</td>\n      <td>Spartan Pizzeria</td>\n      <td>21224</td>\n      <td>USD</td>\n      <td>0</td>\n      <td>25</td>\n      <td>MD</td>\n    </tr>\n  </tbody>\n</table>\n<p>5 rows × 22 columns</p>\n</div>"
     },
     "execution_count": 25,
     "metadata": {},
     "output_type": "execute_result"
    }
   ],
   "source": [
    "pizza.head()"
   ],
   "metadata": {
    "collapsed": false,
    "pycharm": {
     "name": "#%%\n"
    }
   }
  },
  {
   "cell_type": "code",
   "execution_count": null,
   "outputs": [],
   "source": [],
   "metadata": {
    "collapsed": false,
    "pycharm": {
     "name": "#%%\n"
    }
   }
  },
  {
   "cell_type": "code",
   "execution_count": 26,
   "outputs": [],
   "source": [
    "def print_hello():\n",
    "    print('hello')"
   ],
   "metadata": {
    "collapsed": false,
    "pycharm": {
     "name": "#%%\n"
    }
   }
  },
  {
   "cell_type": "code",
   "execution_count": 27,
   "outputs": [
    {
     "name": "stdout",
     "output_type": "stream",
     "text": [
      "hello\n"
     ]
    }
   ],
   "source": [
    "print_hello()"
   ],
   "metadata": {
    "collapsed": false,
    "pycharm": {
     "name": "#%%\n"
    }
   }
  },
  {
   "cell_type": "code",
   "execution_count": 28,
   "outputs": [],
   "source": [
    "def print_hello(name):\n",
    "    print(f'hello {name}')"
   ],
   "metadata": {
    "collapsed": false,
    "pycharm": {
     "name": "#%%\n"
    }
   }
  },
  {
   "cell_type": "code",
   "execution_count": 29,
   "outputs": [
    {
     "name": "stdout",
     "output_type": "stream",
     "text": [
      "hello ALex\n"
     ]
    }
   ],
   "source": [
    "print_hello('ALex')"
   ],
   "metadata": {
    "collapsed": false,
    "pycharm": {
     "name": "#%%\n"
    }
   }
  },
  {
   "cell_type": "code",
   "execution_count": 31,
   "outputs": [
    {
     "name": "stdout",
     "output_type": "stream",
     "text": [
      "hello ALex\n"
     ]
    },
    {
     "data": {
      "text/plain": "NoneType"
     },
     "execution_count": 31,
     "metadata": {},
     "output_type": "execute_result"
    }
   ],
   "source": [
    "func_result = print_hello('ALex')\n",
    "type(func_result)"
   ],
   "metadata": {
    "collapsed": false,
    "pycharm": {
     "name": "#%%\n"
    }
   }
  },
  {
   "cell_type": "code",
   "execution_count": null,
   "outputs": [],
   "source": [],
   "metadata": {
    "collapsed": false,
    "pycharm": {
     "name": "#%%\n"
    }
   }
  },
  {
   "cell_type": "code",
   "execution_count": 33,
   "outputs": [],
   "source": [
    "def print_hello(name):\n",
    "    print(f'hello {name}')\n",
    "    return f'hello {name}'"
   ],
   "metadata": {
    "collapsed": false,
    "pycharm": {
     "name": "#%%\n"
    }
   }
  },
  {
   "cell_type": "code",
   "execution_count": 36,
   "outputs": [
    {
     "name": "stdout",
     "output_type": "stream",
     "text": [
      "hello ALex\n",
      "<class 'str'>\n",
      "hello ALex\n"
     ]
    }
   ],
   "source": [
    "func_result = print_hello('ALex')\n",
    "print(type(func_result))\n",
    "print(func_result)"
   ],
   "metadata": {
    "collapsed": false,
    "pycharm": {
     "name": "#%%\n"
    }
   }
  },
  {
   "cell_type": "code",
   "execution_count": 37,
   "outputs": [],
   "source": [
    "a = lambda x:len(x)"
   ],
   "metadata": {
    "collapsed": false,
    "pycharm": {
     "name": "#%%\n"
    }
   }
  },
  {
   "cell_type": "code",
   "execution_count": 39,
   "outputs": [
    {
     "data": {
      "text/plain": "6"
     },
     "execution_count": 39,
     "metadata": {},
     "output_type": "execute_result"
    }
   ],
   "source": [
    "a('hello ')"
   ],
   "metadata": {
    "collapsed": false,
    "pycharm": {
     "name": "#%%\n"
    }
   }
  },
  {
   "cell_type": "code",
   "execution_count": 41,
   "outputs": [
    {
     "data": {
      "text/plain": "125"
     },
     "execution_count": 41,
     "metadata": {},
     "output_type": "execute_result"
    }
   ],
   "source": [
    "cube = lambda x:x**3\n",
    "cube(5)"
   ],
   "metadata": {
    "collapsed": false,
    "pycharm": {
     "name": "#%%\n"
    }
   }
  },
  {
   "cell_type": "code",
   "execution_count": 43,
   "outputs": [
    {
     "data": {
      "text/plain": "125"
     },
     "execution_count": 43,
     "metadata": {},
     "output_type": "execute_result"
    }
   ],
   "source": [
    "def cube(x):\n",
    "    return x**3\n",
    "cube(5)"
   ],
   "metadata": {
    "collapsed": false,
    "pycharm": {
     "name": "#%%\n"
    }
   }
  },
  {
   "cell_type": "code",
   "execution_count": 44,
   "outputs": [
    {
     "data": {
      "text/plain": "0       18\n1       16\n2       13\n3       19\n4       16\n        ..\n9995    18\n9996    18\n9997    16\n9998    16\n9999    17\nName: name, Length: 10000, dtype: int64"
     },
     "execution_count": 44,
     "metadata": {},
     "output_type": "execute_result"
    }
   ],
   "source": [
    "pizza.name.apply(lambda x:len(x))"
   ],
   "metadata": {
    "collapsed": false,
    "pycharm": {
     "name": "#%%\n"
    }
   }
  },
  {
   "cell_type": "code",
   "execution_count": 48,
   "outputs": [
    {
     "data": {
      "text/plain": "0       30\n1       28\n2       25\n3       30\n4       25\n        ..\n9995    35\n9996    45\n9997    63\n9998    60\n9999    44\nLength: 10000, dtype: int64"
     },
     "execution_count": 48,
     "metadata": {},
     "output_type": "execute_result"
    }
   ],
   "source": [
    "pizza[['menus.name', 'name']].apply(lambda x:len(x[0] + x[1]) , axis=1)"
   ],
   "metadata": {
    "collapsed": false,
    "pycharm": {
     "name": "#%%\n"
    }
   }
  },
  {
   "cell_type": "code",
   "execution_count": 49,
   "metadata": {
    "pycharm": {
     "name": "#%%\n"
    }
   },
   "outputs": [],
   "source": [
    "pizza['pizzeria_name_len'] = pizza.name.apply(lambda x:len(x) )"
   ]
  },
  {
   "cell_type": "code",
   "execution_count": 10,
   "outputs": [
    {
     "data": {
      "text/plain": "                                      menus.description  \\\n0                                                   NaN   \n1                                                   NaN   \n2     a saucelessampcomma double cheese pizza with a...   \n3                                                   NaN   \n4                                                   NaN   \n...                                                 ...   \n9995                                                NaN   \n9996                                                NaN   \n9997                                                NaN   \n9998                                                NaN   \n9999                                                NaN   \n\n                                           menus.name  \n0                                        Cheese Pizza  \n1                                        Pizza Cookie  \n2                                        Pizza Blanca  \n3                                         Small Pizza  \n4                                           Pizza Sub  \n...                                               ...  \n9995                                Super Steak Pizza  \n9996                      Large Cheese & 1 Item Pizza  \n9997  Individual 6\" Pepperoni Stuffed Deep Dish Pizza  \n9998     Individual 6\" Cheese Stuffed Deep Dish Pizza  \n9999                      King Arthur's Supreme Pizza  \n\n[10000 rows x 2 columns]",
      "text/html": "<div>\n<style scoped>\n    .dataframe tbody tr th:only-of-type {\n        vertical-align: middle;\n    }\n\n    .dataframe tbody tr th {\n        vertical-align: top;\n    }\n\n    .dataframe thead th {\n        text-align: right;\n    }\n</style>\n<table border=\"1\" class=\"dataframe\">\n  <thead>\n    <tr style=\"text-align: right;\">\n      <th></th>\n      <th>menus.description</th>\n      <th>menus.name</th>\n    </tr>\n  </thead>\n  <tbody>\n    <tr>\n      <th>0</th>\n      <td>NaN</td>\n      <td>Cheese Pizza</td>\n    </tr>\n    <tr>\n      <th>1</th>\n      <td>NaN</td>\n      <td>Pizza Cookie</td>\n    </tr>\n    <tr>\n      <th>2</th>\n      <td>a saucelessampcomma double cheese pizza with a...</td>\n      <td>Pizza Blanca</td>\n    </tr>\n    <tr>\n      <th>3</th>\n      <td>NaN</td>\n      <td>Small Pizza</td>\n    </tr>\n    <tr>\n      <th>4</th>\n      <td>NaN</td>\n      <td>Pizza Sub</td>\n    </tr>\n    <tr>\n      <th>...</th>\n      <td>...</td>\n      <td>...</td>\n    </tr>\n    <tr>\n      <th>9995</th>\n      <td>NaN</td>\n      <td>Super Steak Pizza</td>\n    </tr>\n    <tr>\n      <th>9996</th>\n      <td>NaN</td>\n      <td>Large Cheese &amp; 1 Item Pizza</td>\n    </tr>\n    <tr>\n      <th>9997</th>\n      <td>NaN</td>\n      <td>Individual 6\" Pepperoni Stuffed Deep Dish Pizza</td>\n    </tr>\n    <tr>\n      <th>9998</th>\n      <td>NaN</td>\n      <td>Individual 6\" Cheese Stuffed Deep Dish Pizza</td>\n    </tr>\n    <tr>\n      <th>9999</th>\n      <td>NaN</td>\n      <td>King Arthur's Supreme Pizza</td>\n    </tr>\n  </tbody>\n</table>\n<p>10000 rows × 2 columns</p>\n</div>"
     },
     "execution_count": 10,
     "metadata": {},
     "output_type": "execute_result"
    }
   ],
   "source": [
    "pizza[['menus.description', 'menus.name']]"
   ],
   "metadata": {
    "collapsed": false,
    "pycharm": {
     "name": "#%%\n"
    }
   }
  },
  {
   "cell_type": "code",
   "execution_count": 11,
   "metadata": {
    "pycharm": {
     "name": "#%%\n"
    }
   },
   "outputs": [
    {
     "data": {
      "text/plain": "1827"
     },
     "execution_count": 11,
     "metadata": {},
     "output_type": "execute_result"
    }
   ],
   "source": [
    "# Количество уникальных значений в колонке\n",
    "pizza.name.nunique()"
   ]
  },
  {
   "cell_type": "code",
   "execution_count": 51,
   "metadata": {
    "pycharm": {
     "name": "#%%\n"
    }
   },
   "outputs": [
    {
     "data": {
      "text/plain": "array(['Shotgun Dans Pizza', 'Sauce Pizza Wine', 'Mios Pizzeria', ...,\n       'Bella Italia', 'Wood and Fire', \"Carbone's Pizzeria\"],\n      dtype=object)"
     },
     "execution_count": 51,
     "metadata": {},
     "output_type": "execute_result"
    }
   ],
   "source": [
    "# Уникальные значения в колонке\n",
    "pizza.name.unique()"
   ]
  },
  {
   "cell_type": "code",
   "execution_count": 58,
   "outputs": [
    {
     "data": {
      "text/plain": "California Pizza Kitchen                    2.6%\nPapa Murphy's                               2.1%\nPapa John's Pizza                           1.2%\nPapa Murphys                                0.7%\nGino's Pizzeria                             0.7%\n                                            ... \nCasa Mia Italian Restaurant and Pizzeria    0.0%\nLubos New York Pizza                        0.0%\nJaspares Pizza Fine Italian Food            0.0%\nRed Brick Pizza                             0.0%\nShotgun Dans Pizza                          0.0%\nName: name, Length: 1827, dtype: object"
     },
     "execution_count": 58,
     "metadata": {},
     "output_type": "execute_result"
    }
   ],
   "source": [
    "pizza.name.value_counts(normalize=True)"
   ],
   "metadata": {
    "collapsed": false,
    "pycharm": {
     "name": "#%%\n"
    }
   }
  },
  {
   "cell_type": "code",
   "execution_count": 72,
   "outputs": [
    {
     "data": {
      "text/plain": "                        id             dateAdded  \\\n0     AVz3Y-7h3D1zeR_xDAqm  2017-06-30T05:05:40Z   \n1     AVweGPFF_7pvs4fzAAzQ  2016-04-02T04:02:49Z   \n2     AVwdRGa9_7pvs4fz4E3K  2016-03-03T18:39:49Z   \n3     AVwdX4psIN2L1WUfvJB1  2016-03-29T05:08:59Z   \n4     AVwdaeTtkufWRAb55pSH  2016-03-31T02:34:04Z   \n...                    ...                   ...   \n9995  AVwdKXFYByjofQCxmIyZ  2016-03-21T00:12:46Z   \n9996  AVwdKXFYByjofQCxmIyZ  2016-03-21T00:12:46Z   \n9997  AVz6kzsQFcQ3k02bDhwQ  2017-06-30T19:56:11Z   \n9998  AVz6kzsQFcQ3k02bDhwQ  2017-06-30T19:56:11Z   \n9999  AVwdG9zTkufWRAb52Y2A  2015-10-23T01:57:27Z   \n\n                                             categories  \\\n0     Pizza,Restaurant,American restaurants,Pizza Pl...   \n1                         Pizza,Pizza Place,Restaurants   \n2                    Restaurant,Pizza Place,Restaurants   \n3          Pizza,Carry-out food,Pizza Place,Restaurants   \n4     Pizza,American restaurants,Pizza Place,Pizza e...   \n...                                                 ...   \n9995                                        Pizza Place   \n9996                                        Pizza Place   \n9997                            Pizza Place,Restaurants   \n9998                            Pizza Place,Restaurants   \n9999             Pizza Place,Restaurant,Fast Food,Pizza   \n\n                  primaryCategories             city country  \\\n0     Accommodation & Food Services         Sherwood      US   \n1     Accommodation & Food Services          Phoenix      US   \n2     Accommodation & Food Services       Cincinnati      US   \n3     Accommodation & Food Services  Madison Heights      US   \n4     Accommodation & Food Services        Baltimore      US   \n...                             ...              ...     ...   \n9995  Accommodation & Food Services          Buffalo      US   \n9996  Accommodation & Food Services          Buffalo      US   \n9997  Accommodation & Food Services    Saint Charles      US   \n9998  Accommodation & Food Services    Saint Charles      US   \n9999  Accommodation & Food Services        Las Vegas      US   \n\n                                              keys   latitude   longitude  \\\n0         us/ar/sherwood/4203ekiehlave/-1051391616  34.832300  -92.183800   \n1          us/az/phoenix/25ecamelbackrd/-727422936  33.509266 -112.073044   \n2        us/oh/cincinnati/3703paxtonave/-619797122  39.144883  -84.432685   \n3     us/mi/madisonheights/30495johnrrd/-874863116  42.516669  -83.106630   \n4       us/md/baltimore/3600easternave/-1270965359  39.286630  -76.566984   \n...                                            ...        ...         ...   \n9995       us/ny/buffalo/1126elovejoyst/1921210585  42.889759  -78.806747   \n9996       us/ny/buffalo/1126elovejoyst/1921210585  42.889759  -78.806747   \n9997     us/il/saintcharles/3641emainst/1336179832  41.921300  -88.275300   \n9998     us/il/saintcharles/3641emainst/1336179832  41.921300  -88.275300   \n9999    us/nv/lasvegas/7460wlakemeadblvd/330000776  36.196180 -115.256240   \n\n                                            menuPageURL  ...  \\\n0     http://www.citysearch.com/profile/menu/1550074...  ...   \n1                                                   NaN  ...   \n2     http://www.citysearch.com/profile/menu/8160503...  ...   \n3                                                   NaN  ...   \n4                                                   NaN  ...   \n...                                                 ...  ...   \n9995                                                NaN  ...   \n9996                                                NaN  ...   \n9997  http://www.citysearch.com/profile/menu/3773628...  ...   \n9998  http://www.citysearch.com/profile/menu/3773628...  ...   \n9999    http://www.singlepage.com/round-table-pizza-234  ...   \n\n                                         menus.dateSeen  \\\n0     2018-05-01T04:25:37.197Z,2018-04-16T04:36:02.3...   \n1     2018-03-03T02:38:06.381Z,2018-01-18T20:18:10.0...   \n2     2018-04-10T07:58:34.585Z,2018-04-21T05:43:21.4...   \n3             2016-10-20T21:50:02Z,2016-03-29T05:08:59Z   \n4                                  2016-03-31T02:34:04Z   \n...                                                 ...   \n9995  2017-12-11T12:44:00.000Z,2016-03-21T00:13:00.0...   \n9996                           2017-12-11T12:44:00.000Z   \n9997  2017-12-10T18:55:00.000Z,2017-10-28T21:52:00.000Z   \n9998  2017-12-10T18:55:00.000Z,2017-10-28T21:52:00.000Z   \n9999  2017-12-08T19:07:00.000Z,2017-10-28T22:35:00.000Z   \n\n                                      menus.description  \\\n0                                                   NaN   \n1                                                   NaN   \n2     a saucelessampcomma double cheese pizza with a...   \n3                                                   NaN   \n4                                                   NaN   \n...                                                 ...   \n9995                                                NaN   \n9996                                                NaN   \n9997                                                NaN   \n9998                                                NaN   \n9999                                                NaN   \n\n                                           menus.name                 name  \\\n0                                        Cheese Pizza   Shotgun Dans Pizza   \n1                                        Pizza Cookie     Sauce Pizza Wine   \n2                                        Pizza Blanca        Mios Pizzeria   \n3                                         Small Pizza  Hungry Howies Pizza   \n4                                           Pizza Sub     Spartan Pizzeria   \n...                                               ...                  ...   \n9995                                Super Steak Pizza   Carbone's Pizzeria   \n9996                      Large Cheese & 1 Item Pizza   Carbone's Pizzeria   \n9997  Individual 6\" Pepperoni Stuffed Deep Dish Pizza     Giordano's Pizza   \n9998     Individual 6\" Cheese Stuffed Deep Dish Pizza     Giordano's Pizza   \n9999                      King Arthur's Supreme Pizza    Round Table Pizza   \n\n     postalCode priceRangeCurrency priceRangeMin priceRangeMax province  \\\n0         72120                USD             0            25       AR   \n1         85012                USD             0            25       AZ   \n2         45209                USD             0            25       OH   \n3         48071                USD            25            40       MI   \n4         21224                USD             0            25       MD   \n...         ...                ...           ...           ...      ...   \n9995      14206                USD             0            25       NY   \n9996      14206                USD             0            25       NY   \n9997      60174                USD             0            25       IL   \n9998      60174                USD             0            25       IL   \n9999      89128                USD             0            25       NV   \n\n      pizzeria_name_len  \n0                    18  \n1                    16  \n2                    13  \n3                    19  \n4                    16  \n...                 ...  \n9995                 18  \n9996                 18  \n9997                 16  \n9998                 16  \n9999                 17  \n\n[10000 rows x 23 columns]",
      "text/html": "<div>\n<style scoped>\n    .dataframe tbody tr th:only-of-type {\n        vertical-align: middle;\n    }\n\n    .dataframe tbody tr th {\n        vertical-align: top;\n    }\n\n    .dataframe thead th {\n        text-align: right;\n    }\n</style>\n<table border=\"1\" class=\"dataframe\">\n  <thead>\n    <tr style=\"text-align: right;\">\n      <th></th>\n      <th>id</th>\n      <th>dateAdded</th>\n      <th>categories</th>\n      <th>primaryCategories</th>\n      <th>city</th>\n      <th>country</th>\n      <th>keys</th>\n      <th>latitude</th>\n      <th>longitude</th>\n      <th>menuPageURL</th>\n      <th>...</th>\n      <th>menus.dateSeen</th>\n      <th>menus.description</th>\n      <th>menus.name</th>\n      <th>name</th>\n      <th>postalCode</th>\n      <th>priceRangeCurrency</th>\n      <th>priceRangeMin</th>\n      <th>priceRangeMax</th>\n      <th>province</th>\n      <th>pizzeria_name_len</th>\n    </tr>\n  </thead>\n  <tbody>\n    <tr>\n      <th>0</th>\n      <td>AVz3Y-7h3D1zeR_xDAqm</td>\n      <td>2017-06-30T05:05:40Z</td>\n      <td>Pizza,Restaurant,American restaurants,Pizza Pl...</td>\n      <td>Accommodation &amp; Food Services</td>\n      <td>Sherwood</td>\n      <td>US</td>\n      <td>us/ar/sherwood/4203ekiehlave/-1051391616</td>\n      <td>34.832300</td>\n      <td>-92.183800</td>\n      <td>http://www.citysearch.com/profile/menu/1550074...</td>\n      <td>...</td>\n      <td>2018-05-01T04:25:37.197Z,2018-04-16T04:36:02.3...</td>\n      <td>NaN</td>\n      <td>Cheese Pizza</td>\n      <td>Shotgun Dans Pizza</td>\n      <td>72120</td>\n      <td>USD</td>\n      <td>0</td>\n      <td>25</td>\n      <td>AR</td>\n      <td>18</td>\n    </tr>\n    <tr>\n      <th>1</th>\n      <td>AVweGPFF_7pvs4fzAAzQ</td>\n      <td>2016-04-02T04:02:49Z</td>\n      <td>Pizza,Pizza Place,Restaurants</td>\n      <td>Accommodation &amp; Food Services</td>\n      <td>Phoenix</td>\n      <td>US</td>\n      <td>us/az/phoenix/25ecamelbackrd/-727422936</td>\n      <td>33.509266</td>\n      <td>-112.073044</td>\n      <td>NaN</td>\n      <td>...</td>\n      <td>2018-03-03T02:38:06.381Z,2018-01-18T20:18:10.0...</td>\n      <td>NaN</td>\n      <td>Pizza Cookie</td>\n      <td>Sauce Pizza Wine</td>\n      <td>85012</td>\n      <td>USD</td>\n      <td>0</td>\n      <td>25</td>\n      <td>AZ</td>\n      <td>16</td>\n    </tr>\n    <tr>\n      <th>2</th>\n      <td>AVwdRGa9_7pvs4fz4E3K</td>\n      <td>2016-03-03T18:39:49Z</td>\n      <td>Restaurant,Pizza Place,Restaurants</td>\n      <td>Accommodation &amp; Food Services</td>\n      <td>Cincinnati</td>\n      <td>US</td>\n      <td>us/oh/cincinnati/3703paxtonave/-619797122</td>\n      <td>39.144883</td>\n      <td>-84.432685</td>\n      <td>http://www.citysearch.com/profile/menu/8160503...</td>\n      <td>...</td>\n      <td>2018-04-10T07:58:34.585Z,2018-04-21T05:43:21.4...</td>\n      <td>a saucelessampcomma double cheese pizza with a...</td>\n      <td>Pizza Blanca</td>\n      <td>Mios Pizzeria</td>\n      <td>45209</td>\n      <td>USD</td>\n      <td>0</td>\n      <td>25</td>\n      <td>OH</td>\n      <td>13</td>\n    </tr>\n    <tr>\n      <th>3</th>\n      <td>AVwdX4psIN2L1WUfvJB1</td>\n      <td>2016-03-29T05:08:59Z</td>\n      <td>Pizza,Carry-out food,Pizza Place,Restaurants</td>\n      <td>Accommodation &amp; Food Services</td>\n      <td>Madison Heights</td>\n      <td>US</td>\n      <td>us/mi/madisonheights/30495johnrrd/-874863116</td>\n      <td>42.516669</td>\n      <td>-83.106630</td>\n      <td>NaN</td>\n      <td>...</td>\n      <td>2016-10-20T21:50:02Z,2016-03-29T05:08:59Z</td>\n      <td>NaN</td>\n      <td>Small Pizza</td>\n      <td>Hungry Howies Pizza</td>\n      <td>48071</td>\n      <td>USD</td>\n      <td>25</td>\n      <td>40</td>\n      <td>MI</td>\n      <td>19</td>\n    </tr>\n    <tr>\n      <th>4</th>\n      <td>AVwdaeTtkufWRAb55pSH</td>\n      <td>2016-03-31T02:34:04Z</td>\n      <td>Pizza,American restaurants,Pizza Place,Pizza e...</td>\n      <td>Accommodation &amp; Food Services</td>\n      <td>Baltimore</td>\n      <td>US</td>\n      <td>us/md/baltimore/3600easternave/-1270965359</td>\n      <td>39.286630</td>\n      <td>-76.566984</td>\n      <td>NaN</td>\n      <td>...</td>\n      <td>2016-03-31T02:34:04Z</td>\n      <td>NaN</td>\n      <td>Pizza Sub</td>\n      <td>Spartan Pizzeria</td>\n      <td>21224</td>\n      <td>USD</td>\n      <td>0</td>\n      <td>25</td>\n      <td>MD</td>\n      <td>16</td>\n    </tr>\n    <tr>\n      <th>...</th>\n      <td>...</td>\n      <td>...</td>\n      <td>...</td>\n      <td>...</td>\n      <td>...</td>\n      <td>...</td>\n      <td>...</td>\n      <td>...</td>\n      <td>...</td>\n      <td>...</td>\n      <td>...</td>\n      <td>...</td>\n      <td>...</td>\n      <td>...</td>\n      <td>...</td>\n      <td>...</td>\n      <td>...</td>\n      <td>...</td>\n      <td>...</td>\n      <td>...</td>\n      <td>...</td>\n    </tr>\n    <tr>\n      <th>9995</th>\n      <td>AVwdKXFYByjofQCxmIyZ</td>\n      <td>2016-03-21T00:12:46Z</td>\n      <td>Pizza Place</td>\n      <td>Accommodation &amp; Food Services</td>\n      <td>Buffalo</td>\n      <td>US</td>\n      <td>us/ny/buffalo/1126elovejoyst/1921210585</td>\n      <td>42.889759</td>\n      <td>-78.806747</td>\n      <td>NaN</td>\n      <td>...</td>\n      <td>2017-12-11T12:44:00.000Z,2016-03-21T00:13:00.0...</td>\n      <td>NaN</td>\n      <td>Super Steak Pizza</td>\n      <td>Carbone's Pizzeria</td>\n      <td>14206</td>\n      <td>USD</td>\n      <td>0</td>\n      <td>25</td>\n      <td>NY</td>\n      <td>18</td>\n    </tr>\n    <tr>\n      <th>9996</th>\n      <td>AVwdKXFYByjofQCxmIyZ</td>\n      <td>2016-03-21T00:12:46Z</td>\n      <td>Pizza Place</td>\n      <td>Accommodation &amp; Food Services</td>\n      <td>Buffalo</td>\n      <td>US</td>\n      <td>us/ny/buffalo/1126elovejoyst/1921210585</td>\n      <td>42.889759</td>\n      <td>-78.806747</td>\n      <td>NaN</td>\n      <td>...</td>\n      <td>2017-12-11T12:44:00.000Z</td>\n      <td>NaN</td>\n      <td>Large Cheese &amp; 1 Item Pizza</td>\n      <td>Carbone's Pizzeria</td>\n      <td>14206</td>\n      <td>USD</td>\n      <td>0</td>\n      <td>25</td>\n      <td>NY</td>\n      <td>18</td>\n    </tr>\n    <tr>\n      <th>9997</th>\n      <td>AVz6kzsQFcQ3k02bDhwQ</td>\n      <td>2017-06-30T19:56:11Z</td>\n      <td>Pizza Place,Restaurants</td>\n      <td>Accommodation &amp; Food Services</td>\n      <td>Saint Charles</td>\n      <td>US</td>\n      <td>us/il/saintcharles/3641emainst/1336179832</td>\n      <td>41.921300</td>\n      <td>-88.275300</td>\n      <td>http://www.citysearch.com/profile/menu/3773628...</td>\n      <td>...</td>\n      <td>2017-12-10T18:55:00.000Z,2017-10-28T21:52:00.000Z</td>\n      <td>NaN</td>\n      <td>Individual 6\" Pepperoni Stuffed Deep Dish Pizza</td>\n      <td>Giordano's Pizza</td>\n      <td>60174</td>\n      <td>USD</td>\n      <td>0</td>\n      <td>25</td>\n      <td>IL</td>\n      <td>16</td>\n    </tr>\n    <tr>\n      <th>9998</th>\n      <td>AVz6kzsQFcQ3k02bDhwQ</td>\n      <td>2017-06-30T19:56:11Z</td>\n      <td>Pizza Place,Restaurants</td>\n      <td>Accommodation &amp; Food Services</td>\n      <td>Saint Charles</td>\n      <td>US</td>\n      <td>us/il/saintcharles/3641emainst/1336179832</td>\n      <td>41.921300</td>\n      <td>-88.275300</td>\n      <td>http://www.citysearch.com/profile/menu/3773628...</td>\n      <td>...</td>\n      <td>2017-12-10T18:55:00.000Z,2017-10-28T21:52:00.000Z</td>\n      <td>NaN</td>\n      <td>Individual 6\" Cheese Stuffed Deep Dish Pizza</td>\n      <td>Giordano's Pizza</td>\n      <td>60174</td>\n      <td>USD</td>\n      <td>0</td>\n      <td>25</td>\n      <td>IL</td>\n      <td>16</td>\n    </tr>\n    <tr>\n      <th>9999</th>\n      <td>AVwdG9zTkufWRAb52Y2A</td>\n      <td>2015-10-23T01:57:27Z</td>\n      <td>Pizza Place,Restaurant,Fast Food,Pizza</td>\n      <td>Accommodation &amp; Food Services</td>\n      <td>Las Vegas</td>\n      <td>US</td>\n      <td>us/nv/lasvegas/7460wlakemeadblvd/330000776</td>\n      <td>36.196180</td>\n      <td>-115.256240</td>\n      <td>http://www.singlepage.com/round-table-pizza-234</td>\n      <td>...</td>\n      <td>2017-12-08T19:07:00.000Z,2017-10-28T22:35:00.000Z</td>\n      <td>NaN</td>\n      <td>King Arthur's Supreme Pizza</td>\n      <td>Round Table Pizza</td>\n      <td>89128</td>\n      <td>USD</td>\n      <td>0</td>\n      <td>25</td>\n      <td>NV</td>\n      <td>17</td>\n    </tr>\n  </tbody>\n</table>\n<p>10000 rows × 23 columns</p>\n</div>"
     },
     "execution_count": 72,
     "metadata": {},
     "output_type": "execute_result"
    }
   ],
   "source": [
    "pizza"
   ],
   "metadata": {
    "collapsed": false,
    "pycharm": {
     "name": "#%%\n"
    }
   }
  },
  {
   "cell_type": "code",
   "execution_count": 73,
   "outputs": [
    {
     "data": {
      "text/plain": "province\nAK       3\nAL       5\nAR      40\nAZ     288\nCA    1386\nCO     138\nCT       2\nDE      19\nFL     601\nGA     214\nHI       2\nIA      53\nID       6\nIL     381\nIN     219\nKS      38\nKY      77\nLA      25\nMD     118\nMI     366\nMN      96\nMO      95\nMS       8\nMT       2\nNC     256\nND       3\nNE      25\nNJ       4\nNM      46\nNV     149\nNY    2640\nOH     324\nOK      27\nOR     122\nPA     814\nSC      81\nSD       3\nTN      66\nTX     485\nUT     107\nVA     237\nWA     262\nWI     140\nWV      27\nName: name, dtype: int64"
     },
     "execution_count": 73,
     "metadata": {},
     "output_type": "execute_result"
    }
   ],
   "source": [
    "pizza.groupby('province')['name'].count()"
   ],
   "metadata": {
    "collapsed": false,
    "pycharm": {
     "name": "#%%\n"
    }
   }
  },
  {
   "cell_type": "code",
   "execution_count": 74,
   "outputs": [
    {
     "data": {
      "text/plain": "province\nAK      3\nAL      3\nAR     10\nAZ     50\nCA    219\nCO     35\nCT      1\nDE      7\nFL    145\nGA     53\nHI      1\nIA     15\nID      4\nIL    111\nIN     52\nKS     12\nKY     21\nLA     10\nMD     32\nMI     79\nMN     23\nMO     28\nMS      7\nMT      1\nNC     62\nND      1\nNE      9\nNJ      1\nNM     11\nNV     19\nNY    395\nOH     82\nOK     11\nOR     28\nPA    172\nSC     26\nSD      2\nTN     25\nTX    117\nUT     15\nVA     52\nWA     49\nWI     32\nWV      6\nName: name, dtype: int64"
     },
     "execution_count": 74,
     "metadata": {},
     "output_type": "execute_result"
    }
   ],
   "source": [
    "pizza.groupby('province')['name'].nunique()"
   ],
   "metadata": {
    "collapsed": false,
    "pycharm": {
     "name": "#%%\n"
    }
   }
  },
  {
   "cell_type": "code",
   "execution_count": 78,
   "outputs": [
    {
     "data": {
      "text/plain": "6.017526021708502"
     },
     "execution_count": 78,
     "metadata": {},
     "output_type": "execute_result"
    }
   ],
   "source": [
    "pizza['priceRangeMax'].std()"
   ],
   "metadata": {
    "collapsed": false,
    "pycharm": {
     "name": "#%%\n"
    }
   }
  },
  {
   "cell_type": "code",
   "execution_count": 79,
   "outputs": [
    {
     "data": {
      "text/plain": "27.7642"
     },
     "execution_count": 79,
     "metadata": {},
     "output_type": "execute_result"
    }
   ],
   "source": [
    "pizza.priceRangeMax.mean()"
   ],
   "metadata": {
    "collapsed": false,
    "pycharm": {
     "name": "#%%\n"
    }
   }
  },
  {
   "cell_type": "code",
   "execution_count": 77,
   "outputs": [
    {
     "data": {
      "text/plain": "province\nAK    0.000000\nAL    8.215838\nAR    7.442084\nAZ    7.097005\nCA    7.047898\nCO    5.891024\nCT    0.000000\nDE    0.000000\nFL    6.306293\nGA    7.193338\nHI    0.000000\nIA    6.833602\nID    6.123724\nIL    5.977579\nIN    6.248874\nKS    2.433321\nKY    5.979716\nLA    6.123724\nMD    6.485617\nMI    4.698504\nMN    5.474973\nMO    7.228862\nMS    6.943651\nMT    0.000000\nNC    6.728469\nND    0.000000\nNE    6.873864\nNJ    0.000000\nNM    3.092769\nNV    3.184641\nNY    5.276878\nOH    6.596839\nOK    6.979824\nOR    7.788614\nPA    4.260649\nSC    5.170697\nSD    8.660254\nTN    5.419468\nTX    6.351156\nUT    3.726451\nVA    6.464452\nWA    4.611326\nWI    3.494233\nWV    7.205767\nName: priceRangeMax, dtype: float64"
     },
     "execution_count": 77,
     "metadata": {},
     "output_type": "execute_result"
    }
   ],
   "source": [
    "pizza.groupby('province')['priceRangeMax'].std()"
   ],
   "metadata": {
    "collapsed": false,
    "pycharm": {
     "name": "#%%\n"
    }
   }
  },
  {
   "cell_type": "code",
   "execution_count": 81,
   "outputs": [
    {
     "data": {
      "text/plain": "{'AK': array(['Guidos', \"Papa John's Pizza\", 'Little Caesars Pizza'],\n       dtype=object),\n 'AL': array(['Tortugas', 'Pasquales Pizza', 'Brick Oven Pizza Co Tiger Town'],\n       dtype=object),\n 'AR': array(['Shotgun Dans Pizza', 'Larrys Pizza Conway', 'US Pizza Co',\n        \"Mazzio's Pizza\", 'Sky Bar Gourmet Pizzeria', \"Larry's Pizza\",\n        \"Fratelli's Wood-Fired Pizza\", \"Gusano's Pizza\", 'U.S. Pizza Co.',\n        \"Papa's Pub & Pizzaria\"], dtype=object),\n 'AZ': array(['Sauce Pizza Wine', 'Hungry Howies Pizza', 'Arizona Pizza Company',\n        'Pomo', \"Ray's Pizza\", 'Redendos Pizzeria',\n        'Guss New York Style Pizza', 'Peter Piper Pizza', 'Pizza On 87',\n        'Palermos Pizza 2', 'Streets of New York', 'Moon Dogs Pizza',\n        'Famous Pizza', 'Prima Pizza', 'Barros Pizza',\n        'Captain Tonys Pizza And Pasta Emporium', 'Luckys Pizza',\n        'Brothers Pizza', 'Brooklyn Boys Italian Restaurant',\n        'Little Caesars Pizza', 'Chrissy Ninos Pizza',\n        'Magpies Gourmet Pizza', 'Venezias Pizzeria',\n        \"Sal's Gilbert Pizza\", \"Mario's Pizza\", 'Il Bosco',\n        \"Barro's Pizza\", 'Sauce', 'Brooklyn Pizza Company',\n        'Federal Pizza', 'Humble Pie', \"Little Caesar's Pizza\",\n        \"Grimaldi's Pizzeria\", \"Raffaele's Pizza\", \"Rosati's Pizza\",\n        \"Venezia's Pizzeria\", 'Slices Pizza', \"Papa John's Pizza\",\n        'LAMP Pizzeria', \"Fratelli's Pizza\", \"Hungry Howie's Pizza\",\n        \"Lucky's Pizza\", 'Streets Of New York', 'Sourdough Pizza',\n        'Nicks Italian Bistro', \"Buono's New York Style Pizza\",\n        'NYPD Pizza', 'Monkey Business',\n        'Buca di Beppo Italian Restaurant',\n        \"Oggi's Pizza & Brewing Company\"], dtype=object),\n 'CA': array(['La Vals', 'Domenicos Jr', 'Pizza Box', 'Pizza Boy',\n        'Romanos Chicago Pizzeria', 'Alex DiPeppes', 'Bowzers Pizza',\n        'zpizza', 'Ball Park Pizza', 'Patxi’s Pizza',\n        'Mountain Mikes Pizza', 'Straw Hat Pizza',\n        'Pizza Port Brewing Company', 'Danos Pizzeria',\n        'Crispy Crust Pizza', 'Romanos Family Italian Restaurant',\n        'Fuoco Pizzeria Napoletana', 'Villagio Pizzeria', 'Razzos',\n        'Papis Pizzeria', 'Rubinos Pizza', 'Toppers Pizza',\n        'Totos Pizzeria Restaurant', 'The Big Cheese Pizza Co',\n        'Rustys Pizza Parlor', 'Rosaria Pizza', 'Lake Tahoe Pizza Company',\n        'Papa Dans Pizza', 'Riviera Village Pizza', 'Big mama papas pizza',\n        'Old Chicago Pizza', 'Station Pizza Deli', 'Pitfire Artisan Pizza',\n        'Toppers Pizza Place', 'Pizza Factory', 'Gioia Pizzeria',\n        'Escape From New York Pizza', 'Luigis Pizza Parlor',\n        'Giant Pizza King', 'Ginas Pizza', 'Unique Pizza',\n        'Top Class Pizza', 'Upper Crust Pizza', 'Papa Johns Pizza',\n        'Red West Pizza', 'Sams Pizza', 'M Pizza',\n        'Hoboken Pizza Beer Joint', 'Joe Peeps Pizza',\n        'Stuft Pizza Brewing', 'Gina Marias Pizzaria', 'New York Pizzeria',\n        'Flippin Pizza', 'Topanga Pizza and Cafe', 'Ascona Pizza Company',\n        'North End Pizzeria', 'Valentinos Pizza', 'Ghiringhellis Pizzeria',\n        'Danos Giant Manhattan Pizza', 'Maldonados Pizzeria',\n        'Pitfire Pizza', 'Jerseys Pizza', 'Stelladoro Pizza', 'Pizza Show',\n        'Sbarro', 'Whatta Lotta Pizza', 'Little Caesars Pizza',\n        'Stella Barra', 'Justa Pizza', \"Mountain Mike's Pizza\",\n        'California Pizza Kitchen', \"Pop's Wood Fired Pizza\",\n        'Mythic Pizza', 'Village Pizzeria', 'Klondikes Pizza',\n        'Blue Line Pizza', \"Gumba's\", 'That Pizza Place',\n        \"Today's Pizza & Salad\", \"Big Mama's & Papa's Pizzeria\",\n        \"Mary's Pizza Shack\", 'Numero Uno', \"Skipolini's Pizza\",\n        \"Zachary's Chicago Pizza\", \"Little Sam's Pizza\", 'Z Pizza',\n        'Corsaros Family Pizza', \"Jack's Pizza Cafe\", \"Fat Tony's Pizza\",\n        \"Little Caesar's Pizza\", 'Me N Eds', 'PIZZA MACHINE',\n        'Pizza Al Forno', 'Old Town Pizza', \"Gianni's Pizza\",\n        'Coney Island Pizzeria', 'Oz Pizza', 'West Coast Pizza',\n        'Pizza Pirates', \"Danielle's Wood-fired Pizza\", 'Red Devil Pizza',\n        \"Michael Angelo's Pizza\", \"Lamonica's New York Pizza\",\n        'Pizza Store', 'Pizza Place California', \"Georgio's Pizza\",\n        'Porkys Pizza', 'SLICE', 'Eagle Pizzeria', 'Wise Guys Pizzeria',\n        \"Giovanni's Pizzeria\", 'Boston House of Pizza', 'Pizza My Heart',\n        'Papa Murphys', 'Fresh Brothers', 'Mamma Rosa Italian Restaurant',\n        'Mulberry Street Pizzeria Encino',\n        'Tony Maronis Famous Gourmet Pizza', 'Pizza Maria',\n        \"Italiano's Pizza\", 'Tomato Pie', 'Pizza Mizza',\n        'Union Pizza Company', 'Round Table Pizza', 'Extreme Pizza',\n        \"Giovanni's Old World New York Pizzeria LP\", 'Laguna Pizza',\n        'Andiamo Pizzeria', 'Gialina Pizzeria', 'Albany Pizza Company',\n        'A Brooklyn Pizzeria', 'Lamppost Pizza', 'The Good Pizza',\n        'Pronto Pizzeria Rotisserie', \"Jack's Pizza\",\n        'Tony Pepperoni Pizzeria', \"Rezzini's Pizzeria\", \"King's Pizza\",\n        \"Dino and Santino's Pizza\", 'Gay Nineties Pizza',\n        'Spot A Pizza Place', \"Michael's Pizzeria\", 'Zia Gourmet Pizza',\n        \"Chi Chi's Pizza\", \"Julio's Pizza\", 'Roma Pizzeria',\n        'Fist of Flour Pizza Co. Doughjo', 'Pizza Guys', 'Red Brick Pizza',\n        'Bella Pizza', \"Seniore's Pizza\", '161 Street Pizzeria',\n        'NY Giant Pizza', \"Two Brother's Pizza\", \"Massimo's Pizza\",\n        '212 New York Pizza', \"Marchello's\", '3.99 Pizza Co 2',\n        'Red Boy Pizza', \"Gaspare's Pizza\", 'Barones The Pizzeria Express',\n        \"Bibo's NY Pizza\", \"Joey's Pizza\", 'Red Tomato',\n        'Irving Street Pizza', 'Town Pizza', \"JJ Magoo's\",\n        'Numero Uno Pizza', 'Red House Pizza', 'Presidio Pizza Company',\n        \"Mustafio's Pizza\", 'zPizza', \"Papa Murphy's\",\n        \"Bob's Murrieta Pizza Co.\", 'The Pizza House',\n        'Zante Pizza and Indian Cuisine', \"Rocco's Pizzeria\",\n        \"Petrilli's Pizza\", \"Mombo's Pizza\", \"George's Pizza\",\n        'Gourmet Pizza Shoppe', \"Michael's Pizza\", 'Love At First Slice',\n        'Big Cheese', \"Melo's Pizza & Pasta\", 'La Pizzeria Italian',\n        \"Sammy's Woodfired Pizza & Grill\", \"Pauline's Pizza & Wine Bar\",\n        \"Tony's Pizza\", 'Chino Hills Pizza Company',\n        \"Nick's Pizza Ristorante\", 'First Class Pizza', 'Goodfellas Pizza',\n        \"Vincenzo's Pizza\", \"Oggi's Pizza & Brewing Company\",\n        \"Dalia's Pizza Market\", 'PizzaRev', \"Nino's Pizzeria\",\n        'Pizza Amore', \"Celestino's New York Pizza\",\n        'Stella Barra Pizzeria', '800 Degrees Neapolitan Pizzeria',\n        'Pizza Pino', 'Lanesplitter Pizza & Pub', \"Magoo's Pizza\",\n        \"Me-n-Ed's Pizzeria\", \"Campelli's Pizza\", \"Dino's Pizza\",\n        'Pizza Lounge', \"Fatte Albert's\", 'Via Roma', 'Village Host Pizza',\n        'The Coop Pizza', \"Bongiorno's New York Pizzeria\", \"Giovanni's\",\n        'Hang Ten Pizza & Pasta', \"Toto's Pizzeria & Restaurant\",\n        \"The Original Graziano's\", \"Papa John's Pizza\"], dtype=object),\n 'CO': array(['Cosmos Pizza', 'SLV Pizza Company', 'Krazy Karls Pizza',\n        'Amicas Wood Fired Pizza Microbrews', 'Diorios South Pizza',\n        'Lubos New York Pizza',\n        'Double Ds Sourdough Pizzeria and Taphouse',\n        'Cozzolas Pizza Old Town', 'Big Bills NY Pizza',\n        'Mangia Bevi Cafe', \"Pablo's Pizza\", 'Tontis Pizza',\n        'Protos PizzaDenver', 'Papa Johns Pizza',\n        'California Pizza Kitchen', 'Pie Hole', \"Papa John's Pizza\",\n        'Pagosa Peaks Pizza', 'ZaZas Pizzeria', 'Russos Ny Pizza',\n        \"Papa Murphy's\", 'Pizzeria Da Lupo', 'Extreme Pizza',\n        \"Proto's Pizzeria Napoletana\", 'My Pie', \"Savelli's\",\n        'Louies Pizza', \"Lil Ricci's\", \"Abo's Pizza\", \"Louie's Pizza\",\n        'Pulcinella Pizza', \"Angelo's Cucina e Pizzeria\",\n        \"L'il Ricci's - Highlands Ranch\", 'The Garlic Knot',\n        \"Nicolo's Chicago Style Pizza\"], dtype=object),\n 'CT': array([\"Rizzuto's Wood-Fired Pizza Kitchen & Bar\"], dtype=object),\n 'DE': array(['Mr Ps Pizza', 'Billys Subs and Pizza', 'Marios Pizza',\n        'Pizza King', 'Pats Pizza', \"Pat's Pizza Bistro\",\n        \"Pat's Pizza Family Restaurant (Pat'sPFR)\"], dtype=object),\n 'FL': array(['Brickyard Pizza', 'Hungry Howies Pizza', 'Little Caesars Pizza',\n        'Famas Ristorante', 'Papa Joes', 'Specialty Pizza Express',\n        'Elegante Market', 'Alpha Pizza', 'Pizzanos Pizza Grinderz',\n        'Stingers Bar Pizzaria', 'Romans Pizzeria', 'Caps Island Grille',\n        'Goodfellas Pizza', 'Juniors Pizza More 2',\n        'La Montanara Restaurant', 'Scuottos Pizza Pasta',\n        'Ginos NY Style Pizzeria', 'Leonardos Pizza', 'Groovys Pizza',\n        'Abes Pizza', 'Panheads Pizza', 'Piccolo Pizza',\n        'Pizzeria Del Dio', 'Wize Guyz Pizzeria', 'Papa Giuseppe Pizza',\n        'Italian Deli Market', 'Joey Ds Chicago Style Eatery Pizzeria',\n        'Grande Pizza Company', 'Stavros Pizza', 'Mama Mia Pizzeria',\n        'Anthonys Pizza And Italian Restaurant', 'Romanos',\n        'Fired Up coal oven pizza',\n        'Sals Italian Restaurant Pizza in Delray', 'Santinos',\n        'Angelos Pizzeria Ristorante II', 'Crust Pizzeria',\n        'Brandon Pizzeria', 'Rotelli', 'Jacaranda Pizza', 'Spris',\n        'Westshore', 'ABC Pizza', 'Fire Stone Pizza', 'Planet Pizza',\n        'Amores', 'Cozzolis Pizzeria', 'Esposito Pizza', 'Giannis Pizza',\n        \"Danielle's Pizza City\", \"Papa John's Pizza\", \"Monty's Pizza\",\n        'Vitos Pizzeria', \"Brooklyn's Original Pizzeria\", 'New York pizza',\n        'DFontana', 'Brunos Pizza Pasta Subs', 'Papa Johns Pizza',\n        'Amici Brick Oven Pizza', 'Chicago Pizza & Sports Grille',\n        'Naples Pizza', 'Nicks Pizza', 'Park Avenue Pizza',\n        \"Anthony's Coal Fired Pizza\", 'DECO Pizza', 'Backstreet',\n        'I Love Pizza', 'Ferraros Pizza And Restaurant', 'Big Apple',\n        'Mr Noodles Pizza', 'Old World Pizza', 'Pronto Pizza',\n        'Anthonys Coal Fired Pizza', 'Napoli On The Bay', 'Rennas Pizza',\n        'Roma Pizza', 'New York New York', \"Little Caesar's Pizza\",\n        \"Leo's Pizza\", 'Belleview Pizza', \"Mama Mia's Pizza\", 'Sir Pizza',\n        'California Pizza Kitchen', 'Fratelli La Bufala',\n        'The Loop Pizza Grill', 'Tampa Pizza Company',\n        \"Hungry Howie's Pizza\", 'Tutto Pizza', 'Stone Fired Pizza',\n        'Westshore Pizza', \"Vino's Pizza\", 'Safety Harbor Pizzeria',\n        'Lazy Moon Pizza', 'Lennys NY Pizza Co', 'Pizza Carousel',\n        'Sbarro', 'I Love NY Pizza', 'Pizza @ Lake Eola', \"Steve's Pizza\",\n        \"Pizzoni's\", \"Anthony's NY Pizza\", \"Zipz's NY Pizza & Italian\",\n        'Westshore Pizza XIV', 'Italian Village Pizza', \"Papa Joe's\",\n        'Blue Highway Pizzeria', 'Giuseppes',\n        \"Angelina's Pizzeria & Italian Eatery\", \"Kelsey's Pizzeria\",\n        'Flippers Pizzeria', \"Dominic's 1 Pizza & Pasta\", \"Dean Anthony's\",\n        \"Marina's Pizza\", 'Baci Pizza & Subs',\n        \"Piesano's Stone Fired Pizza\", \"Mr. Z's -New Town\",\n        \"Big Louie's Pizzeria\", \"Paisano's Pizza\", \"Mama Mia's Pizzeria\",\n        'Di Piazza Italian Restraurant', \"Groovy's Pizza\", \"Calabria's\",\n        'Polo norte', 'Bella Roma Pizzeria Restaurant',\n        \"Puccini's Pizzeria\", 'Lakeland Stadium Pizza and Italian Grill',\n        'Cafe Milano Italian Restaurant and Pizzeria',\n        \"Capone's Flicker Lite Pizza & Raw Bar\",\n        \"Ryan's Village Pizza and Pub\", \"Hungry Howie's Pizza And Subs\",\n        \"Joto's Pizza Pub\", \"Tony D's New York Pizza Restaurant\",\n        'Scuola Vecchia Pizza E Vino', 'The Red Elephant',\n        'Grande Pizza Co.', \"Paci's Pizza\", \"Luigi's Pizzeria Cafe\",\n        'Ferrara Pizza & Pasta', 'Palace Pizza Bartow', \"App's Pizza\",\n        \"Fratelli's Italian Restaurant\", \"Villaggio's Pizzeria\",\n        'Main Street Pie Company', 'Slice of Life Pizzeria',\n        'County Line Pizza & Side Walk Cafe'], dtype=object),\n 'GA': array(['Screamin Mimis Pizza And Subs', 'Marietta Pizza Company',\n        'Johnnys New York Style Pizza', 'Allens Stone Baked Pizza',\n        'Rays New York Pizza', 'Peppinos Pizza', 'Johnnys Pizza',\n        'Pies On Pizza and Pasta', 'Marcos Pizza', 'Pizza Farm',\n        'Buckhead Pizza Co', 'Johnnys Pizza Cascade',\n        'Romeos New York Pizza', 'Riverside', \"Fellini's Pizza\",\n        'Kouzina Christos', 'Rosas Pizza', 'Papa Johns Pizza',\n        \"Palladino's Pizza\", \"Papa John's Pizza\", \"Marco's Pizza\",\n        'Macon Pizza Company', \"Rosa's Pizza\",\n        \"Johnny's New York Style Pizza\", \"Sarpino's Pizzeria\",\n        \"Fini's Pizzeria\", 'Roman Oven Pizzaria', \"Johnny's Pizza\",\n        \"Jagger's\", 'Lucky 13 Pizzeria', 'Brixx Wood Fired Pizza',\n        \"Mia's Pizza and Eats\", \"Ci Ci's Pizza\", \"Little Caesar's Pizza\",\n        'Mellow Mushroom', 'Pizza Hut', 'Atlas Pizza', \"Johnny's pizza\",\n        'Johnnys Pizza Covington', 'Vintage Pizzeria', 'Spin',\n        \"Murray's in a Hurry\", \"Bassano's Pizzeria\",\n        'Big Pie in the Sky Pizzeria', 'Jersey Boyz Pizza',\n        \"Mojo Pizza n' Pub\", \"Mama's Pizza\",\n        \"Luigi's Pizza Restaurant Of Dacula\",\n        \"Johnny's New York Style Pizza And Subs\",\n        \"Joe Friday's Brick Oven Pizza\", \"Sal's Pizzeria\",\n        \"Johnny's Pizza and Subs\", 'American Pie Pizzaria'], dtype=object),\n 'HI': array(['Brick Oven Pizza'], dtype=object),\n 'IA': array(['Papa Murphys', 'Pizza On Dubuque', 'Falbo Bros Pizzeria',\n        'NYC Pizza Cafe', 'Brickhouse Sauce Dough Co',\n        'Chuck Celsis Tavern Restaurant', 'Crust Stone Oven Pizza',\n        'Hometown Pizza', \"Zoey's Pizza\", 'Sports Fans',\n        'Little Caesars Pizza', \"Michael's Pizza\", \"Alger's Pizza Palace\",\n        'Jethroni Pepperoni', \"Mabe's Pizza\"], dtype=object),\n 'ID': array([\"Proto's Pizza\", 'Mac Kenzie River Pizza Co',\n        'Idaho Pizza Company', \"Maxie's Pizza\"], dtype=object),\n 'IL': array(['Papa Vitos Pizza', \"Papa Vito's Pizza\",\n        'Traversos Pizza Restaurant', 'Lonnies Pizzeria',\n        'Sir Nicks Pizza', 'Lucky Vitos Pizzeria', 'Giordanos',\n        'Petes Pizzeria 2', 'JJ Twigs Pizza Pub', 'Johnnys Pizza Pasta',\n        'Cafe Luigi', 'Jacks Pizza Burgers', 'Skuddlebutts Pizza',\n        'Romanos', 'Durbins', 'Rosatis Pizza', 'Avantis',\n        'Mama Me Pizzeria', 'Beggars Pizza', 'Papa Johns Pizza',\n        'Mrs Ts Pizza Pub', 'Pie Five Pizza Co', 'Amatos Pizza More',\n        'Gigios Pizzeria', 'Bongiornos Italian Deli Pizzeria',\n        'Rosangelas Pizza', 'Eastern Style Pizza', \"Monical's Pizza\",\n        'Roundheads Pizza Pub', \"Domino's Pizza\", \"Coz's Pizza & Pub\",\n        \"Manolo's Pizza & Empanadas\", \"Cugini's Pizza\", 'Pizza Nova',\n        'Bacci Pizzeria', \"Lou Malnati's Pizzeria\",\n        'Aurelios Pizza Richton Park', 'Santullos Eatery', 'Donatis Pizza',\n        'Marios Pizza', 'Marinos Pizza', 'Bricks Wood Fired Pizza',\n        'Passeros Pizza', \"Papa John's Pizza\", 'Pizza East',\n        'Spizzico To Go', 'Coalfire', \"Little Caesar's Pizza\",\n        'Union Pizzeria', \"Giordano's\", \"Moccio's Pizza\", \"Gino's East\",\n        'Pompei', 'Davis Bros Pizza Inc', \"Angelo's Pizza\",\n        'Harris Pizza #1', 'The Warehouse Bar and Pizzeria',\n        'Roots Handmade Pizza', 'Pizzeria del Mercato', \"Pagalo's\",\n        \"Rosati's Pizza\", 'Village Pizza', \"Mama Maria's Pizzeria\",\n        \"Armand's Pizzaria\", \"Pronto's Pizza\", 'Generoso Pizza',\n        \"Beggar's Pizza\", 'Persona Wood Fired Pizzeria', 'Pizza Hut',\n        \"Armand's Pizzeria\", 'The Happy Camper', \"Sofia's Pizza\",\n        \"D'agostino's\", \"Chicago's Pizza and Pasta\",\n        \"J.B. Alberto's Pizza\", 'Stella Barra Pizzeria', \"Panino's\",\n        \"Ranalli's\", \"Salerno's Restaurant\", 'Villa Nova Pizza',\n        \"Papa Joe's Italian Restaurant\", \"Giordano's Pilsen\", \"Grassano's\",\n        \"Gigio's Pizzeria of Evanston\", \"Riggio's Restaurant & Pizzeria\",\n        'Canta Napoli Pizzeria & Ristorante', \"Papa Severio's Pizzeria\",\n        \"Napoli's Pizza\", \"Little Joe's Pizza\",\n        \"Barnaby's - The Family Inn\", \"Jake's Pizza\", \"John's Pizzeria\",\n        \"Salerno's\", 'Pazzi di Pizza', 'Durbins Of Frankfort',\n        \"Danny's Pizza on Douglas\", \"Pequod's Pizzeria\", \"Falco's\",\n        'Apart Pizza Company', 'Primos Chicago Pizza Pasta and Subs',\n        \"Lina's Pizza\", 'Beggers Pizza', 'Pasta Mia', 'Evviva Pizzeria',\n        \"Giordano's Pizza\", 'Gullivers Pizza and Pub Chicago',\n        \"Naty's Pizza\", \"Huckleberry's Pizza\",\n        \"Chandler Brothers' Pizza Man\", \"Joe Boccardi's\",\n        \"Nancy's Pizzeria\"], dtype=object),\n 'IN': array(['Albanos Villa', 'Bazbeaux Pizza', 'Turonis ForGetMeNotInn',\n        'Mama Romas Pizza XPress', 'Pizza King', 'Barlos Pizzeria',\n        'Thr3e Wise Men Brewing Co', 'Papa Johns Pizza',\n        'Little Caesars Pizza', 'Pizza King Decatur', 'Mama Nitas',\n        'Bill Bobes Pizzeria', 'Headys Pizzeria',\n        'Richards Brick Oven Pizza', 'Apezza Pizza', 'Bella Pizzeria',\n        'Four Horsemen Pizza', 'Greeks Pizzeria The Village',\n        'Mancinos Grinders Pizza', \"Gelsosomo's Pizzeria\",\n        \"Mancino's Pizza & Grinders\", \"Aver's Pizza North/campus\",\n        \"Samuel Mancino's Italian Eatery\", \"Papa John's Pizza\",\n        'Napolis Pizza', 'Pizza Forum', 'The Red Star Pizza Company',\n        \"Hungry Howie's Pizza\", 'Z-Place Pizza', \"Donato's Pizza\",\n        \"Little Caesar's Pizza\", \"Noble Roman's\", \"Monical's Pizza\",\n        \"Bruno's Pizza Downtown\", \"Polito's Pizzeria\",\n        \"Mama Roma's Pizza X-Press\", \"Mancino's\", \"Tommy J's Pizza Cafe\",\n        \"Bucceto's Smiling Teeth – East\", 'Napolese Artisanal Pizzeria',\n        'Some Guys Pizza', \"Papa Murphy's Pizza\", \"Papa Murphy's\",\n        \"Aurelio's Pizza - Hammond\", 'Luca Pizza di Roma', 'The Volcano',\n        \"Magoo's California Pizza\", 'Gallaghers Place',\n        \"Cagney's Pizza King\", 'Lucas Pizza', 'Villa Pizzeria',\n        \"Bob's Tu Your Door Pizza\"], dtype=object),\n 'KS': array(['Pyramid Pizza', 'Old Shawnee Pizza', 'Knollas Pizza',\n        'SPIN Neapolitan Pizza', \"Papa John's Pizza\", 'Pizza Time',\n        \"Godfather's Pizza\", \"Papa Murphy's Pizza\", 'Sbarro',\n        \"Papa Murphy's\", \"Via's Pizzeria\", \"Buzzard's Pizza\"], dtype=object),\n 'KY': array(['LaRosas Pizzeria Mt Zion', 'LaRosas Pizzeria Latonia',\n        'La Gourmet Pizza', 'Bearnos',\n        'Chubby Rays Original Louisville Pizza Company',\n        'Spinellis Pizzeria', 'Impellizzeris Pizza', 'Saints Bar',\n        'LaRosas Pizzeria Alexandria', 'Rockys Pizza Panini',\n        \"Bearno's By The Bridge\", 'Grammas Pizza', 'Mad Mushroom Pizza',\n        \"Little Caesar's Pizza\", \"Spinelli's Pizza\", \"Mio's Pizzeria\",\n        'Fat Kats Pizzeria', 'Sicilian Pizza & Pasta',\n        \"Johnny Brusco's New York Style Neighborhood Pizzeria\",\n        \"Michael's Pizzeria\", \"Papa Dino's Pizza\"], dtype=object),\n 'LA': array(['Theos Neighborhood Pizza', 'Wildwood Pizza',\n        \"Bisbano's Pizza Parlor\", 'McClains Pizzeria', 'Zitas Pizzeria',\n        'Little Caesars Pizza', 'New York Pizza', 'Ancora Pizzeria',\n        \"Papa John's Pizza\", \"Johnny's Pizza\"], dtype=object),\n 'MD': array(['Spartan Pizzeria', 'Joe Squared Pizza Bar', 'Pats Pizzeria',\n        'Bello Vitos', 'Dumms Pizza', 'Fortunato Brothers',\n        'Specific Gravity Pizzeria Beer Joint', 'Sorrentos Of Arbutus',\n        'Franks Pizza Italia', 'Ponzettis Pizza', 'Matthews Pizza',\n        'Guss Pizza Grill', 'Pub Dog Pizza Drafthouse', 'Milano Pizzeria',\n        'Potomac Pizza', \"Frank's Pizza\", 'Ultimate Pizza',\n        'Flippin Pizza Frederick', 'Bella Mia', 'Oriole Pizza Subs',\n        'Aroma House', \"Dimeo's Pizzeria\", 'Amantes',\n        'Three Brothers Italian Restaurant', 'Sugo Osteria',\n        \"Vito's Express\", 'Buon Giorno', \"Mangino's Pizza & Subs\",\n        'Pats Pizza', 'Nino Pizza', \"Pizza Boli's\", \"Tony's Cafe\"],\n       dtype=object),\n 'MI': array(['Hungry Howies Pizza', 'Carrabbas Italian Grill', 'Curry on Crust',\n        'Thats a Pizza', 'Slice of the 80s', 'Tomatoes Apizza',\n        'Shields Pizza', 'Pisanellos Pizza', 'Good Times Pizza',\n        'Georgios Pizza', 'Jaspares Pizza Fine Italian Food',\n        'Happys Pizza', 'Buddys Pizzeria', 'Scooters Cafe', \"Pizza Bob's\",\n        'Father And Son Pizzeria', 'Guidos Premium Pizza',\n        'NYPD New York Pizza Depot', 'Mancinos Pizza Grinders',\n        'Studio Pizza', 'Bells Greek Pizza', 'Romas Pizza Pasta',\n        'Pizza Company', \"Jet's Pizza\", \"Sluggo's Pizzeria\",\n        'Little Caesars Pizza', 'Mancinos', \"Buddy's Pizza\", 'Cottage Inn',\n        \"Bernie O's Pizza\", 'Chef Charles Pizza',\n        'Mancinos Pizza & Grinders', 'Bellacinos', 'Pizza Factory',\n        \"UNCLE Andy's Pizza\", \"Pizano's Pizza\", 'Krustyzz Pizza',\n        'Faros Pizza', 'Beagios Pizza', 'Sorrentos Pizza',\n        'Sorrento Pizza', 'Detroit Style Pizza Co', \"Happy's Pizza\",\n        \"Papa John's Pizza\", \"John's Pizzeria\", \"Hungry Howie's\",\n        \"Mancino's Italian Eatery\", 'Sbarro', \"Dino's Pizza\",\n        \"Primo's Pizza\", \"Papa Murphy's\", 'Mr. Scribs (Apple Ave.)',\n        \"DJ's Pizza Plus\", 'Detroit Style Pizza', \"Benito's Cafe\",\n        'Green Lantern Pizza', 'Petrinos Pizza', \"Mancino's Pizza\",\n        \"Carmelo's Italian Pizza\", \"Aubree's Northville\", \"Amici's\",\n        \"JJ's Pizza\", \"Guido's Premium Pizza\",\n        'Riverfront Pizza + Speciality', 'Villa Nova Pizzeria',\n        'Ypsilanti Pizza Depot', 'Palermo Pizza', \"Big Al's Pizza\",\n        \"Mike's Pizza & Subs\", 'Amar pizza', 'Passport Pizza - Midtown',\n        \"Bellacino's Pizza & Grinders\", \"Sgt. Pepperoni's\",\n        \"Jerry's Pizza & Bar-b-q\", \"Georgio's\", \"Mr. Scrib's\",\n        'Detroit Style Pizza Company', \"Hungry Howie's Pizza\",\n        \"Domino's Pizza\"], dtype=object),\n 'MN': array(['Adagios Lounge', 'Davannis Pizza and Hot Hoagies',\n        'Punch Neapolitan Pizza', 'Carbones Pizza', '5 Pizza',\n        'Carbones Pizza Sports Bar New Prague', 'Pizza Man',\n        'Mamas Bakery Pizza Salad Bar', 'Pizza N Pasta Shakopee',\n        'Carbones Pizza Pub', 'Mr Pizza North', 'Pi Pizza', 'Grand Pizza',\n        \"Papa Murphy's\", \"Jet's Pizza\", 'Pizza Hut', 'Ronnallys Pizza',\n        \"D'Vinci's\", 'Aromas Pizza', \"Pino's Pizza - Woodbury\",\n        'Pizza Lucé', \"Tommy Chicago's Pizzeria\", 'zpizza'], dtype=object),\n 'MO': array(['Maurizios Pizza and Pasta Bowl', 'Pizza By The Chef',\n        'East Coast Pizza', 'Imos Pizza', 'Kelsos Pizza Northtown',\n        \"Frankie Tocco's Pizzeria\", 'Fun House Pizza Pub', 'Pizza Street',\n        'Pizza Inn', 'The Art of Pizza', \"Mazzio's Pizza\", \"Gumby's Pizza\",\n        \"Casey's Carry Out Pizza\", \"Luigi's Pizza Kitchen\",\n        'Twin Oak Wood Fire Fare', \"Pizzarelli's\", \"Shakespeare's Pizza\",\n        \"Papa Murphy's\", \"TK's Pizza\", \"Vito's Sicilian Pizza\",\n        \"Garbo's Pizzeria Chesterfield Villiage\", 'Sbarro',\n        \"Katie's Pizzeria Cafe\", \"PaPPo's Pizza\", \"Bono's Pizzeria\",\n        'Wannagettapizza', \"Alex's Pizza\", 'brooklyn pizza'], dtype=object),\n 'MS': array(['Papa Johns Pizza', 'Tonys Brick Oven Pizzeria', 'Avellinos',\n        'Memphis Pizza Cafe',\n        \"Sal & Mookie's New York Style Pizza & Ice Cream Joint\",\n        'Mazzios Pizza', 'Pizza Hut'], dtype=object),\n 'MT': array([\"Papa John's Pizza\"], dtype=object),\n 'NC': array(['Tonys Pizza', 'Hungry Howies Pizza', 'Angelas Italian Restaurant',\n        'Slice Of NY Pizza', 'PTA Pizza Hoagie', 'Bills Pizza Pub',\n        'Rudinos Pizza Grinders', 'New York Pizza',\n        'Bellacinos Pizza Grinders',\n        'The Pizza Shop Dry County Brewing Company',\n        'Capones Pizza and Bar', 'Brixx Wood Fired Pizza',\n        'I Love New York Pizza', 'Milanos Pizza', 'Cosmos Pizzeria',\n        'Ny Pizza and Pasta', 'Wolfman Pizza', 'Teddys Pizza',\n        \"Ricky's NY Pizza\", 'Jets Pizza', 'Pie In The Sky Pizza',\n        'Intermezzo', \"Papa John's Pizza\", 'Credos PizzaRibs Beer',\n        'Fuel Pizza', 'Zpizza', 'Primo Pizza', \"Dare Devil's Pizzeria\",\n        'Librettos Pizzeria', 'Papa Johns Pizza',\n        'Geppetos Pizza and More', 'Dinos Pizza and Pasta',\n        'Espositos Pizzeria', 'Brooklyn Pizza', \"Giovanni's Pizza\",\n        'Lillys', 'Rome Italian Pizza', 'The Original NY Pizza',\n        'Zucca Pizza Tavern', 'Slice Of Life', \"Little Caesar's Pizza\",\n        \"Libretto's Pizzeria\", 'TRUE Crafted Pizza',\n        'Burke Street Pizza 2', \"Hungry Howie's Pizza\",\n        \"Pop's Backdoor South\", 'Due Amici Pizzeria',\n        'The Pizza Peel and Tap Room',\n        \"Elizabeth's Pizza Italian Restaurant Pizza and Subs\",\n        \"Mama's Pizza Express\", 'Franks Pizza',\n        'Venice Italian Pizza & Subs', 'West First Wood Fired Pizza',\n        \"My Father's Pizza\", 'Ruckus Pizza Pasta & Spirits', \"Rosati's\",\n        \"Tony's Pizza\", \"Hawthorne's New York Pizza & Bar\",\n        \"Martinho's Bakery & Deli & Pizza\", \"Michelangelo's Pizza\",\n        'Village Inn Pizza Parlor', 'Bella Italia'], dtype=object),\n 'ND': array([\"Deek's Pizza\"], dtype=object),\n 'NE': array(['Yia Yias', 'Sam Louies New York Pizza',\n        'Blue Mountain Smokehouse Pizza', \"Sam & Louie's Pizzeria\",\n        \"Mama's Pizza\", 'Big Freds Pizza Garden', \"Pudgy's Pizzeria\",\n        \"Valentino's Grand Italian Buffet\", 'Roman Coin Pizza'],\n       dtype=object),\n 'NJ': array([\"Papa John's Pizza\"], dtype=object),\n 'NM': array(['Il Vicino', 'Amore', 'Rooftop Pizza', 'Pizza Inn', 'Papa Murphys',\n        'Scarpas Brick Oven Pizza', 'Firenze Pizzeria', \"Dion's Pizza\",\n        \"Little Caesar's Pizza\", 'Zeffiro New York Pizza', \"Papa John's\"],\n       dtype=object),\n 'NV': array(['DeLucias Pizzeria', 'Papa Johns Pizza', 'Novecento 900 Pizzeria',\n        'Pizza Rock', 'Uncle Vinneys Pizza', 'Blind Onion Pizza Pub',\n        'Round Table Pizza', 'Buon Gusto', 'Pirates Pizza',\n        \"Angelina's Pizzeria\", 'Black Rock Pizza Co.', 'Pizza Forte',\n        \"Verona's Pizza\", 'Pizza Company', 'Villa Pizza',\n        \"Northside Nathan's Pizza\", \"Pizano's Pizza\", 'Lamppost Pizza',\n        'Angelinas Pizza'], dtype=object),\n 'NY': array(['Salvos Pizzabar', 'Tonys Pizza Pit', 'Sherrill New York Pizzeria',\n        'Piazza Pizza', 'Macys Place Pizzeria', 'Mama Carmelas Pizza',\n        'East Broadway Pizza', 'Bonbinos Pizzeria', 'Dona Bella Pizza',\n        'Royal Kings Pizza', 'Italian Village Pizza', 'Franklin Pizza',\n        'Luigis Pizza', 'Tonys Pizza', 'Il Villaggio Pizzeria',\n        'Reginas Pizzeria', 'Dantes Pizzeria', 'Famous Amadeus Pizza',\n        'The WurliTzer Pizza Co', 'Carlos Pizza',\n        'Big Mikes Pizza And Pasta', 'Francos Pizza', 'Pizza World',\n        'Giorgios Pizzeria and Italian Ristorante', 'Grimaldis',\n        'J V Pizzeria', 'Picasso Pizzeria', 'Sbarro', 'Pantanos',\n        'Franks Pizza Restaurant', 'La Casa Pizza', 'Vesuvius Pizza',\n        'Pizza Da Solo', 'Grand Avenue Pizza', 'Gruppo', 'Phillies Pizza',\n        'Pavones Pizza', 'Tonino Pizzeria Contorni',\n        'Silvios Restaurant Pizzeria', 'Ginos Pizzeria',\n        'Toms Delicious Pizza', 'Mikes Pizzeria',\n        'Brother Brunos Pizzeria Restaurant', 'Hollywood North Pizza',\n        'Kings Pizza', 'Posto', 'New City Pizza', 'Francescas Pizza',\n        'Dee Marias', 'Giuseppes Pizza', 'Roma Pizza', 'Jacks Pizzeria',\n        'Ginos of Long Beach', 'Don Jonos Pizzeria', 'Lennys Pizza',\n        'Just Pizza Wing Co', 'Joey Pepperonis Pizza', 'Pizza Mia',\n        'Johns Pizza', 'Vincenzos Pizzeria', 'Royal Pizza Restaurant',\n        'Gigis Pizzeria', 'Franks Gourmet Pizza', 'Guys Pizza Co',\n        'Pudgies Pizza', 'Joeys Northside Pizzeria', 'Tarantella', 'Calda',\n        'The Red Front', 'La Bella Mariella Pizza II', 'Mulberry Street',\n        'MontyQs Brick Oven Pizza', 'Grimaldis Pizza', 'Pizza Petes',\n        'Yolandas Italian Pizzeria Restaurant',\n        'Raimos Wood Fired Brick Oven Pizza', 'Famous Original Rays Pizza',\n        'iPizzaNY', 'Casablanca', '620 on Caton Pizzeria and Restaurant',\n        'Abitinos Pizzeria', 'Bellagios Pizzeria Restaurant',\n        'Tomato and Basil', 'John Joes Pizzeria', 'DAROS Pizza Chicken',\n        'Papa Johns Pizza', 'DEES', 'Grandpas Brick Oven Pizza',\n        'JM Pizza', 'Carlos Pizzeria Ristorante', 'Peppinos',\n        'Grandmas Pizza', 'Partners Pizzeria', 'Molinaras NY Pizza Caffe',\n        'Slices Ices Pizzeria', 'Daniellos Pizzeria', 'Marconi Pizzeria',\n        'Stromboli Pizza', 'Ignazios Pizza', 'DaVincis Pizza',\n        'JJs New York Pizzeria', 'Cafe Rustico II', 'Joe Johns Pizza',\n        'Pizza Prince', \"Vincenzo's Pizza\", 'Skinny Pizza',\n        \"Franco's Pizza\", \"Peppino's\", \"Papa John's Pizza\",\n        \"Mark's Pizzeria\", 'Numero 28 Pizza', 'DAnnas Pizzeria Restaurant',\n        'Sovrana Pizza And Deli', 'Ricos Pizza', 'Saporita Pizza',\n        'Bella Bambinas Restaurant', 'Mezza Luna Pizzeria Restaurant',\n        'Lennys Pizzeria', 'Pizzaz Pizza Inc', 'Marks Pizzeria',\n        'Avicollis Pizzeria and Restaurant', \"Rosario's Pizzeria\",\n        \"Tony's Pizza & Restaurant\", \"Frankie's East Side Pizza\",\n        \"Angela's Pizza\", 'Cherrywood Pizza', 'Perris Pizzeria',\n        'Pizza Aroma', 'Satellite Pizza', 'Via Roma', 'Westgate Pizza',\n        \"D'andrea Pizza\", 'Pizza Bono', 'Pizza Land', 'Picnic Pizza',\n        'Baba Louies Pizza', 'Fascati Pizza', 'Pinos La Forchetta',\n        'Little Italy Pizza', 'Fiores Pizza', 'Little Caesars',\n        'Casanova Family Italian Restaurant Pizzeria', 'Georges Pizza',\n        'Caesars Palace Pizzeria', 'Pastafina Pizza',\n        'Avellinos Pizzeria Catering', 'Artichoke Basilles Pizza Bar',\n        'Savonas Trattoria', 'Ginos Tuscany Restaurant And Pizzeria',\n        'I Love New York Pizza of Madison', 'Rosas Pizza', 'The Depot',\n        'Joe Cristianos Pizza', 'Umbertos', 'DaVincis Pizzeria',\n        'Dobbs Ferry Pizza', 'Peter Pizza', 'La Trattoria',\n        'Armandos Pizza', 'Garlic New York Pizza Bar', 'Broadway Bobbys',\n        'Singas Famous Pizza', 'Mozzarellis', 'Crispy pizza cafe',\n        'Vi Pizza', 'Dough Bois', 'Solo Pizza NYC', 'Planet Pizza',\n        'La Luna', 'Librettos Pizzeria', 'Labella Mariella Pizzeria',\n        'Slices N Ices', 'Pugsley Pizza', \"Nona's Pizza\", 'Pizza Chef',\n        \"Addeo's Riverdale Pizzeria\", \"Ben's Pizzeria\", 'Pizza Sam',\n        'Little Italy Pizza & Deli', 'Bergen Pizza',\n        'Katonah Pizza & Pasta', 'Knapp Pizza III', 'Italianos',\n        'Billys Pizza', 'Pakulas Pizza', \"Mario's Pizzeria\",\n        'Houdini Kitchen Laboratory', 'Tonys Pizza On Nostrand',\n        \"New York Sal's Pizza\", \"Sal's Pizzeria\",\n        'University Pizza & Restaurant', 'Muzzarella Pizza',\n        'Harlem Pizza Co', 'Pasta-eria', \"Big Al's Chicago Style Pizza\",\n        'Albanese Pizza Restaurant', 'Two Boots West Village',\n        'Ninas Pizza Pasta', 'Deer Hills Pizzeria', 'Roses Pizza Pasta',\n        'Village Pizza', 'Verrazano Pizza', 'Planet Pizza Rye',\n        \"Penora's Pizza\", 'Lazzaras Pizza', 'T R Pizza',\n        'Victors Pizza Pasta House', 'Phil Sons Pizzeria and Restaurant',\n        'La Vera Pizza', \"Grimaldi's\", \"Pat's Pizzeria\", \"Cascarino's\",\n        'Salerno Pizza', 'Pomodoro Ristorante',\n        \"Famous Original Ray's Pizza\", 'Smiling Pizza Restaurant',\n        \"Romeo's Pizza\", 'Pizza Boy', 'Belmora Pizza & Restaurant',\n        \"Gino's Restaurant\", 'OMG Pizza', 'Pastafina',\n        \"John's of Bleecker Street\", \"Lil' Frankie's\", 'Da Vinci Pizza',\n        'New York Pizza Suprema', 'Mariella Pizza', 'Royal Pizza',\n        'Sutton Pizza and Gyro', 'Pizzatown', \"John's Pizza Subs\",\n        \"Goodfella's Pizza\", \"Dino's Pizzeria\", 'Pizza In The Square',\n        'Piz-zetta', \"Luigi's\", \"Gino's Pizza\", 'Lower East Side Pizza',\n        'Layla Jones', \"Baker's Pizza\", \"Grasso's\", 'Sofia Pizza Shoppe',\n        'La Nova Pizzeria', \"Angelo's Pizza\", \"Gino's Pizzeria\",\n        'One Stop Pizza', 'New Roma Pizza', 'Forcella La Pizza Di Napoli',\n        'City Line Pizza and Pasta', 'Pizza 33', \"Rey's Pizzeria\",\n        'Krispy Pizza - Brooklyn', \"Luigi's Pizzeria\",\n        \"Mr Joe's Pizzeria Restaurant\", \"Iggy's Pizzeria\",\n        'Venezia Pizzeria', 'Gotham Pizza', \"Domino's Pizza\", 'Oregano',\n        \"Joe's Pizza\", 'Vulcano 081', \"Scarr's Pizza\",\n        'Frank Pepe Pizzeria Napoletana', 'Pizza Hut', 'Bona Pizza',\n        'Pizza Works', 'The Sicilian', 'Fornino', 'Fiamma Pizza e Vino',\n        'Three Sons Pizzeria', '2 Kings Pizza',\n        'Sicilian Delight Pizzeria', 'I Love Ny Pizza', 'Daddy Greens',\n        'Bellerose Famous Pizza', 'Pizza Stop', \"Pantano's Kitchen\",\n        'Oxford Cafe', \"Hana's Pizza\", 'Champion Pizza SoHo',\n        'Pizza Beach', 'Pomodoro Pizza', 'Little Italy Gourmet Pizza',\n        'Smith Brothers Pizza', 'Da Nonna Rosa', 'Pizza Supreme',\n        \"Chuck's North Street Pizzeria\", \"Sinapi's Pizza\",\n        \"Grande's Pizzeria\", \"Angelino's Italian Restaurant\",\n        'Orchard Tavern', \"Tony's Pizza\", 'The Big Slice - 5th Ave',\n        \"Rossi's Pizza\", 'Knapp St Pizza', 'Village Pizzeria',\n        'Imperial Pizza', \"Dino's Pizza\", \"Spinner's\", \"Rico's Pizza\",\n        \"Mannino's\", 'Pronto Pizza', \"Pizza D'Amore\", 'Sunnyside Pizza',\n        \"Nino's Pizza\", \"Villaggio's Pizza\", \"Little Caesar's Pizza\",\n        \"Papa Leo's\", 'Vincents Italian Restaurant',\n        \"Cusato's Pizzeria & Deli\", \"Butera's\", 'Clarence Pizza Company',\n        \"Albert's Pizza Shop\", 'Alitalia Pizzeria', \"Joe's Pasta & Pizza\",\n        'San Gennaro Pizza and Pasta', 'Villa Rosa Pizza',\n        \"Caruso's Pizza & Pasta\", \"Graziella's\", \"Olivetto's\",\n        \"Pietro's Pizza\", 'Milos Ristorante',\n        \"Faro's New York style pizza\", \"Proto's Pizza\",\n        \"Gino & Joe's Pizza\", 'Cosimos Restaurant & Bar',\n        'Main Street Pizza & Cafe', 'La Bella Pizza Bistro',\n        \"Giacomo's Pizza\", 'Avanti Italian Restaurant & Pizzeria',\n        'Famous Famiglia', \"Martino's Pizza\", 'A & J Pizza',\n        'Cara Mia Brick Oven Pizza & Restaurant', \"Lucy's Pizza\",\n        \"Salvatore's Old Fashioned Pizzeria / Arthur Treacher's\",\n        \"Brio's Pizzeria & Restaurant\", 'Chefs of New York Pizzeria',\n        \"Frankie & Louie's\", \"Esposito's\", 'Pizza Haven',\n        'Inatteso Pizzabar Casano', 'Giardini Pizza', \"Roberta's Pizza\",\n        'Original Bay Goodman Pizza', \"Captain's Pizzeria & Restaurant\",\n        'Toni Pepperoni', \"Tony & Tina's Pizza\",\n        \"Mario's Pizza & Restaurant\", \"Patsy's Pizzeria\",\n        'Amore Pizzeria & Pasta', \"Sal's Pizza & Pasta\", \"Napoli's Pizza\",\n        'Brick Oven Pizza 33', 'LJ Pizza', \"Domenick's Pizza\",\n        'Bene Restaurant & Pizzeria', 'V.I. Pizza',\n        \"Joe's Pizza of the Village\", \"Antonio's Pizzeria\",\n        \"Joe's Fleetwood Pizzeria\", 'Scarsdale Pizza Station',\n        'Marys Pizza And Pasta', \"Franco's Pizzeria\", 'Pizza Village',\n        \"D'Carlitos Pizza\", \"John & Tony's\", '2 Bros. Pizza',\n        \"Two Boots Hell's Kitchen\", \"Michael Angelo's Pizza\",\n        'Due Fratelli', \"Dom and Vinnie's Restaurant\",\n        \"Salvatore's Old Fashioned Pizzeria\", \"Pepe's\", 'Matese Pizzeria',\n        'Amalfi Pizzeria and Restaurant', 'Franks Original Pizza Italia',\n        \"Gigi's Pizza\", 'Pizza Man Pub', 'Townhouse Pizza',\n        \"Partner's Pizzeria\", \"Picasso's Pizza\", \"King's Pizza\",\n        \"Stella's II Pizzeria & Restaurant\", \"Joey Pepperoni's Pizza\",\n        \"Gates' Pontillo's Pizzeria\", \"DiCastro's Brick Oven\",\n        \"Original Mike's Pizza\", 'Thornwood Pasta & Pizza',\n        \"Salvatore's Italian Pizza Restaurant\", 'Don Filippo',\n        'La Mia Pizza', 'Mama Tinas Pizza', 'Wood and Fire',\n        \"Carbone's Pizzeria\"], dtype=object),\n 'OH': array(['Mios Pizzeria', 'Pizzaburg', 'Bruno Bros Pizza',\n        'Vicinato Pizzeria', 'Tarantos Pizzeria', 'The Pub in Gahanna',\n        'Sicilianos', 'Fratellis Pizzeria', 'The Original Ginos Pizza',\n        'Rascal House', 'FatBobs Pizza', 'LaRosas Pizzeria Fairfield',\n        'LaRosas Pizzeria', 'Capers Pizza Bar',\n        'Carmelas Pizzeria Springboro', 'Bellacinos Grinders Pizza',\n        'Fabians', 'Pisanellos', 'Eldorados Pizza Pie Bar',\n        'Fort Ball Pizza Palace', 'Wedgewood Pizza', 'Grandads Pizza',\n        \"Marion's Piazza\", \"Pj's Pizza\", 'Roc-a-Fellas', 'Pizza Cottage',\n        'Formaggio', \"Baker's Pizza Sports Shack\", 'Guys Pizza',\n        'Dor Lo Pizza', 'Georgios Pizza', 'DiAngelos',\n        'Cassanos Pizza Subs', 'Papa Johns Pizza', 'Pizza Pan',\n        \"P Jay's Pizza\", 'Cassanos', \"Romeo's Pizza\", \"Massey's Pizza\",\n        'DTutanellis Pizza', 'PizzaFire', 'Werkhaus Pizza',\n        \"Mikey's Late Night Slice\", \"Rotolo's Pizza\", \"Marco's Pizza\",\n        \"Geraci's\", 'Home Slice Pizza', 'Belleria', 'Lucy Blue Pizza',\n        \"LaRosa's Pizzeria\", 'Iaconos Italian Restaurant',\n        'Little Caesars Pizza', \"LaRosa's Pizzeria Miami Heights\",\n        \"Mamma Santa's Pizzeria\", 'Pizza Hut', \"Mio's Pizzeria\",\n        'Coccia House', \"Little Caesar's Pizza\", \"Tristano's Pizzeria\",\n        \"Hungry Howie's Pizza\", \"Angelo's Pizzeria & Restaurant\",\n        'Classic Pizza & Sports Bar', \"Dina's Pizza & Pub\",\n        'Pizza Factory', 'Sbarro', \"Uncle Al's Pizza\", \"Christy's Pizza\",\n        \"Giuseppe's Pizza & Subs\", \"Jo-Jo's Pizza\", \"Mio's\",\n        \"JT's Pizza & Pub\", 'Donatos Pizza', \"Wally's Pizza\",\n        \"Vito's Pizza\", \"Will's Pizza\", \"Papa Nick's\", \"Geppetto's\",\n        \"Capuano's Pizza\", \"Gionino's Pizzera\", \"Bentino's Pizza\",\n        \"Bruno's Pizza\", \"Sainato's Restaurant\"], dtype=object),\n 'OK': array(['Stars Stripes Pizza', 'Marleys Chicago Style Pizzeria',\n        'All American Pizza', 'Stars and Stripes Pizza',\n        'Minuteman Pizza Parlor', \"Mazzio's Pizza\",\n        \"Mario's NY Style Pizzeria\", 'Top That! Pizza - Midtown Tulsa',\n        \"Andolini's Pizzeria Broken Arrow\", 'The Wedge Pizzeria',\n        \"Papa Dino's\"], dtype=object),\n 'OR': array(['Coburg Pizza Company', 'Standing Stone Brewing Company',\n        'Pizzicato', 'Grand Central Pizza', 'Abbys Pizza', 'Eat Pizza',\n        'Black Bird Pizza', 'The Rock Wood Fired Kitchen', 'Pegasus Pizza',\n        'Papa Murphys', 'Olde Towne Pizza', 'Apizza Scholls',\n        'Jimmy Os Pizzeria', \"Abby's Legendary Pizza\",\n        'Angelina\\x92s Pizza', 'Saint Pizza Lounge',\n        'Little Caesars Pizza', 'Bellagios Pizza',\n        \"Papa Murphy's - Murray Blvd\", 'Muddy Rudder Public House',\n        \"Geno's Sports Bar & Grill\", 'Hart Road Pizza & Pub',\n        \"Padington's Pizza\", 'Papas Pizza', \"Sparky's Pizza\",\n        \"Papa's Pizza\", \"Abby's Pizza\", 'Rovente Pizza'], dtype=object),\n 'PA': array(['Mikes Pizza', 'Dominicks Pizzeria Italian Restaurant',\n        'Tonys Place Bar and Grille', 'Lucianis Brick Oven Pizzeria',\n        'Carusos', 'Station Pizza', 'Key Pizza', 'Francos Tomato Pies',\n        'Giovannis Pizza', 'Rosarios Pronto Pizza Italian Restaurant',\n        'Bravos Pizza of Avondale', 'Als Pizza Subs', 'Tornettas Pizzeria',\n        'LaScalas', 'The Pizza Shop', 'Allstar Pizza', 'Drexel Pizza',\n        'Drexel Hill Pizza', 'Marios Pizza', 'Top Tomato Pizza Cafe',\n        'Sorrentos Pizza Roma', 'Olive Peppers', 'JoJos Pizza Pasta',\n        'Accu Pizza', 'Primos Brick Oven Pizza', 'Pizza Gyro Express',\n        'Apollo Pizza', 'Crust', 'Artistic Pizzeria',\n        'Joe Santuccis Square Pizza Bar and Grill',\n        'Paradise Restaurant Pizzeria', 'Cenzos Pizzeria', 'Zios Pizza',\n        'Pizza Plaza', 'Jakes Pizza Rostraver', 'Pudgies Pizza',\n        'Tonys Pizza', 'Toninos Pizza Grille', 'Jacks Pizza',\n        'Illiano Pizza Restaurant', \"Antonio's Pizza House\", 'Alfredos',\n        'Yunique Pizza', 'Glenside Pizza', 'Mamas Pizza IV', 'Janos',\n        \"Mama's Pizza\", \"Mario's Pizza\", \"Pat's Pizzeria\",\n        \"Original Mama's Pizza\", 'Mr Mikes Pub Pizza', 'Petes Pizza',\n        'Two Cousins Pizza', 'Roccos Pizza Restaurant', 'Il Giardino',\n        \"Fazio's Pizza\", 'Italian Delight', 'Mr P Pizza & Pasta Inc',\n        \"Carlo's Pizza\", 'Slices Pizza', 'Benny Fierros',\n        'Monte Carlo Pizza', 'Roman Delight', 'Plaza Pizza Restaurant',\n        'Mt Gretna Pizzeria', 'Picasso Pizza', 'Gino Brothers Pizzeria',\n        'Paul Reveres', \"Cc's Pizza\", \"Pomodoro's Pizza\",\n        'Caliente Pizza Hampton', \"Anthony's Coal Fired Pizza\",\n        'Champs Pizza', 'Brothers Pizza', 'Napoli Pizza',\n        'Randazzos Pizzeria', 'Granteeds', 'The Wild Tomato Pizzeria',\n        'Roccos Brick Oven Pizzeria',\n        'Giuseppes Pizza Family Restaurant Bar', 'Scappa',\n        'Pizza Como North', 'Champs Pizza House', 'Little Es Pizza',\n        'Swarthmore Pizza', \"Al's Pizza Subs\", 'Parma Pizza',\n        \"Domino's Pizza\", 'Your Place Restaurant Pub', \"Gino''s Pizza\",\n        \"Marco's Pizzeria\", \"Angelia's Pizza\", \"Vinny's Pizza\",\n        \"Joey's Pizza\", 'New Station Pizza', 'Gennaros Pizza & Pasta',\n        'Pizza Perfectta Inc', 'Two Brothers Restaurant & Pizzeria',\n        'Pizzeria Vetri', 'Rex Pizza', 'Castor Pizza',\n        'Black Sheep Bar Grill', 'Milanos Pizzeria Grill',\n        \"Graziano's Pizzeria\", 'Express Pizza', 'Pats Pizza', 'Pizza Hut',\n        \"Alfredo's Pizza Cafe\", 'Art Of Pizza', \"Bella's Pizza\",\n        'Sorrento Pizza', 'Mama Lucia', 'Warrington Pizza',\n        \"Frank's Pizza New York Style\",\n        \"Mike's Pizzeria Italian Restaurant /Brodheadsville\",\n        'Frazer Pizza', \"Franzone's\", 'Baked on Main',\n        'Stone Neapolitan Pizzeria', 'Pizza Palermo', 'Naps Pizza',\n        \"Rosario's Pizzeria\", 'Bravo Pizza', \"Renzi's Pizzeria\", \"Romeo's\",\n        'Lorenzo and Sons Pizza', \"Papa John's Pizza\",\n        \"Veltre's Pizza of White Oak\", 'Double Decker Pizza',\n        \"Gino Gianilli's Homestyle Pizza Italian Restaurant\",\n        \"Aldo's Ristorante Italiano and Pizzeria\", \"Donte's Pizza\",\n        \"Randazzo's Pizza\", \"Julio's Pizzeria\", \"Genova's\",\n        'Big Ass Slices', \"Mario's Pizza Cafe\",\n        \"DiMaria's Pizza & Italian Kitchen\", \"Big Fella's Pizza and Wings\",\n        \"Affamato's Pizza & Italian Restaurant\",\n        'Caliente Pizza and Draft House', 'Cosmos Restaurant',\n        'Seve-n-Dots Publik Pizza Place', \"Frank's Pizza\",\n        \"Martellucci's Pizzeria\", \"Jo-Jo's\", \"Big Woody's Pizza\",\n        'Ardmore Pizza', 'Bella Italia Pizzeria', 'Not Just Pizza',\n        \"Santucci's Square Pizza\", \"Luigi's Pizza & Pasta\", 'TD Alfredos',\n        \"Spatola's Pizza\", 'City View Pizza and Grill',\n        \"Veltre's Pizza & Sandwiches\", \"Mike's Pizza Shoppe\",\n        \"Mister P's Pasta and Pizza\", 'Roman Delight of Fountainville',\n        \"Franconi's Pizzeria\", 'California Pizza',\n        'Valley Forge Trattoria & Lounge', 'Tower Style Pizza',\n        'Village Pizza', \"Skippereno's\", 'Zesto Pizza', \"Mineo's Pizza\",\n        \"Foli's Pizza\", \"Dino's Pizza (2nd Floor)\",\n        \"Santucci's Square Pizza V\", \"Tosco's Pizza and Restaurant\",\n        'Grande Pizza'], dtype=object),\n 'SC': array(['Peppinos Pizzeria', 'Mia Pomodori', 'Ultimate California Pizza',\n        'Sabatinos NYC Pizza', 'Paparonis Pizza',\n        'Antonino Bertolos Pizza', 'Baronis New York Pizza',\n        'Chicago Pizza', 'Giuseppis Pizza', 'Luke n Ollies Pizzeria',\n        'Papa Johns Pizza', \"Paisano's Pizza Grill\",\n        \"Little Caesar's Pizza\", \"Fat Baby's Pizza and Subs\", 'Dough Boys',\n        'Sbarro', \"Lucky's Pizza\", 'New York Pizza And Deli',\n        'Pizzeria Di Giovanni', 'Pepperoni Express Pizza Co.',\n        'A Dough Re Mi', 'Village Idiot', \"Bertolo's Pizza\",\n        \"Ray's Pizzeria and Ice Cream Shoppe\", 'The Upper Crust',\n        \"Tony's Pizzeria\"], dtype=object),\n 'SD': array(['Piesanos Pacchia', 'Red Rossa Napoli Pizza'], dtype=object),\n 'TN': array(['Pronis', 'Obies Pizza', 'Papa Murphys Pizza', 'Lupis Pizza',\n        'Lost Pizza Co Memphis TN', 'Mineos Wings Pizza Raw Bar',\n        'Gabriels', 'Brixx Wood Fired Pizza', 'Pizza Inn', 'Gondola House',\n        'Davincis Pizzeria', 'Pizza Perfect', \"Lupi's\",\n        'Snappy Tomato Pizza', \"Brooklyn Brother's Pizza\", 'Sir Pizza',\n        \"Ogle's Brick Oven Pizza\", \"Rosselli's Pizza\",\n        \"Sergeant Pepperoni's\", 'Crust Pizza',\n        'Gondolier Italian Restaurant & Pizza', \"Papa John's Pizza\",\n        \"Painturo's\", 'Sicilian Pizza & Pasta',\n        \"Greg's Pizza - Elizabethton\"], dtype=object),\n 'TX': array(['Little Caesars Pizza', 'Italy Pizza Pasta Subs',\n        'Milanos Pizzeria Italian Grill', 'DoubleDaves PizzaWorks',\n        'Mazzios Pizza', 'Luciano Express Rivercenter Mall',\n        'Mangieris Pizza Cafe', 'Tomato Pie', 'Alamo Pizza',\n        'Yaghis Pizzeria', 'Campisis Restaurant Lovers Lane',\n        'Ninos Pasta Pizza', 'Papa Johns Pizza',\n        'Greek Tonys Pizza Sub Shop', 'Napolis Pizza', '360 UNO',\n        'Catalanos Pizzeria', 'Big Slice Pizza', 'Rays Pizzeria',\n        'Saccones Pizza and Subs', 'Lovers Pizza Pasta',\n        'Spankys Pizza Bar', 'My New York Pizza', 'Brooklyn Pie Co',\n        'Conans Pizza South', 'Candelaris Pizzeria',\n        'Mogios Gourmet Pizza', 'North Italia', 'Brothers Pizza',\n        'Campisis Restaurant Downtown Dallas', 'Pie Five Pizza Co',\n        'All Star Pizza', 'Midnite Slice', 'Nizza Pizza', 'Texas Pizza',\n        'Cruise Shop', \"DoubleDave's Pizza Works\", \"Campisi's Restaurant\",\n        'Lucianos Family Pizzeria', \"Papa John's Pizza\",\n        \"Teak & Charlie's Jersey Girl Pizza\", 'Pizza Inn', 'Spartan Pizza',\n        \"Mr Jim's Pizza\", 'Two Guys Pizzeria', \"Rocco's Pizza\",\n        'Pizza By Marco', \"Divino's Pizza\", 'Pie Five Pizza Co.',\n        'China Inn Fine Chinese Cuisine', 'Valentinos Pizza',\n        \"Chuck E. Cheese's\", \"Papa Murphy's\", \"Mazzio's Pizza\", 'Barbaro',\n        'Coal Vines', \"Dante's Italian Eatery\", \"Little Caesar's Pizza\",\n        \"Gatti's Pizza\", \"Grimaldi's Pizzeria\", 'Austin Terrier',\n        'Buca di Beppo Italian Restaurant', 'Twin City Pizza',\n        \"Jet's Pizza\", \"Mr. Jim's Pizza\", 'Dough Pizzeria Napoletana',\n        \"Candelari's Pizzeria\", 'Pizza Getti', 'Brooklyn Pie Co.',\n        \"Andre's Pizza\", 'Italia Express', 'Pizza State', 'Sbarro',\n        \"RC's Pizza\", 'Quicky Wood Fired Pizza', 'Onion',\n        'Mellow Mushroom', \"Campisi's Restaurant - The Egyptian Lounge\",\n        \"Reale's Pizza Cafe\", \"Hysen's Nizza Pizza\", 'Peter Piper Pizza',\n        \"Joe's Pizza Pasta Subs\", 'Pizza Joint', 'Pizza Hut',\n        'Southside Flying Pizza', 'The Healthy Pizza Company',\n        \"Olivella's\", \"Goomba's Pizzeria\", \"Saruzzo's New York\",\n        'Main St. Pizza', \"Niki's Pizza and Pasta\", 'Napoli Restaurant',\n        \"Palio's Pizza Cafe\", 'The Pizza Parlor', 'Pizza Love',\n        'LA Gourmet Pizza', \"Tony's New York Pizza\", 'Sopranos Pizza',\n        \"Joe's Pizza Italian Grill\", \"Carmine's Pizzeria\",\n        'Piggie Pies Pizza & Pasta', 'Pinks Pizza', 'Fox & Hound',\n        \"Brother's Pizza\", \"Carmine's Pizza\", \"Double Dave's Pizza\",\n        \"Chicago's Gourmet Pizza\", 'Conans Pizza North',\n        \"Yaghi's New York Pizzeria\", \"Chicago's Pizza\",\n        'Centercourt Pizza & Brew', \"Gucci's Pizza\", 'East Side Pies',\n        'Milano Pizza', \"Palio's\", \"Sarpino's Pizzeria\",\n        \"Carrabba's - The Original on Voss\"], dtype=object),\n 'UT': array(['Big Daddys Pizza', 'the pizza factory', 'Papa Johns Pizza',\n        'Maxwells', 'Papa Murphys', 'Big Apple Pizzeria', 'Este Pizzeria',\n        'Este Pizza Park City', 'Rock Creek Pizza Co',\n        'Rock Creek Pizza Co.', 'Brick Oven', \"Papa Murphy's\",\n        'Brick Oven Pizza', 'Settebello Pizzeria', 'Flatbread'],\n       dtype=object),\n 'VA': array(['A New York Slice', 'Sals Famous NY Pizza', 'Two Guys Pizza',\n        'Papa Johns Pizza', 'Pupatella Neapolitan Pizza', 'Pepicellis',\n        'Marias Old Town 21', 'Jerrys Sub and Pizza', 'Beach Bella Pizza',\n        'Bella Pizzeria', 'zpizza', 'Brixx Wood Fired Pizza',\n        'Sals Sicilian Pizza', 'Pizzaiolo Cafe on Fern', 'Goodys',\n        'Casa DMama Pizzaria', 'Chichos', 'Roma New York Style Pizza',\n        \"Benny Sorrentino's\", \"Assante's Pizza\", \"Emilio's Famous Pizza\",\n        'Casa Di Costanzo Pizza Llc', 'Sals Pizza Military Hwy',\n        'University Pizza', 'Pizza Autentica', 'Extreme Pizza',\n        'Pie-Tanza', 'Piola', \"Little Caesar's Pizza\",\n        'Brooklyn Bros Pizzeria', 'Franconia Pizza', \"Juliano's\",\n        'Catania Pizza', 'Moon Dog Brick Oven', \"Umberto's Pasta & Pizza\",\n        \"Rudino's\", \"Tony's New York Pizza\", 'La Villa Roma',\n        \"Lena's Wood-Fire Pizza & Tap\", 'Manhattan Pizza',\n        'Brothers Pizza', \"Sal's Pizzeria\", 'All Around Pizzas & Subs',\n        'FreshCrust Trattoria', \"Flippin' Pizza Annandale\", 'Lucianos',\n        \"Apollo's Flame Baked Pizza & More\",\n        \"Candela's Pizzeria and Italiano\", 'Famous Pizza & Sub Shoppe',\n        \"Papa John's Pizza\", 'New York Pizza and Subs', 'Pie Restaurant'],\n       dtype=object),\n 'WA': array(['The Rock Wood Fired Pizza', 'Infernos Brick Oven Pizza',\n        'Savage Land', 'Tuscan Stone Pizza', 'Amante Pizza',\n        'Pacific Ave Pizza', 'Elliott Bay Pizza Company',\n        'Olympia Pizza and Spaghetti House', 'Little Caesars Pizza',\n        'Trackside Pizza', 'Papa Murphys', 'Mama Mias',\n        'Lombardos Pizzeria', \"Big Mario's (Queen Anne)\", 'Rocky Rococo',\n        \"Papa Pete's Pizza\", 'Old School Pizzeria',\n        \"Romio's Pizza & Pasta\", 'A-Pizza Mart', \"Spiro's Pizza & Pasta\",\n        'Olympia Pizza & Spaghetti House II', 'Bison Creek Pizza',\n        'Buca di Beppo Italian Restaurant', \"Astoria's Pizza Pasta\",\n        'MacKenzie River Pizza, Grill Pub', 'Sbarro', 'Major League Pizza',\n        'Casa Mia Italian Restaurant and Pizzeria', 'A Pizza House',\n        \"Farrelli's Wood Fire Pizza\", \"Giannoni's\",\n        \"Spiro's Pizza Pasta - West Seattle\", \"Papa Murphy's\",\n        'Pizza Ragazzi', \"Stacia's Gourmet Pizza and Pasta\",\n        'Evviva Woodfired Pizza', \"Papa Murphy's Pizza\", 'Pegasus Pizza',\n        'Pizzeria La Gitana', 'Elliott Bay Pizza & Pub', \"Leonardo's\",\n        'Domani Pizzeria And Restaurant', \"Talarico's\", 'Stellar Pizza',\n        'The Pizza Coop and Ale House', \"Rocco's\", \"Abby's Pizza\",\n        'Red Pepper Pizzeria & Pasta', 'The Rock Wood Fired Kitchen'],\n       dtype=object),\n 'WI': array(['Papa Murphys', 'Ians Pizza by the Slice',\n        'Organ Piper Pizza Palace', 'Dough Boys Pizza', 'Crossroads II',\n        'Papa Johns Pizza', 'Pagonis Pizza Kaukauna', 'Rocky Rococo',\n        'Salvatores Tomato Pies', 'Rocky Rococo Pan Style Pizza',\n        'Alphonsos', 'Weasels of Waupaca', 'Rocky Rococo Panstyle Pizza',\n        'Glass Nickel Pizza', \"Ferraro's Pizza\", 'Nypd',\n        \"Infusino's Pizzeria\", \"Papa Luigi's Pizza\", \"Papa John's Pizza\",\n        \"Sal's Pizzeria\", 'Bricks Neapolitan Pizza',\n        \"Little Caesar's Pizza\", \"Red's Savoy Pizza\", \"Guppy's Pizza\",\n        'Classic Slice', 'Downtown Pizza', \"Frank's Pizza Palace\",\n        'New York Pizza', 'Slice', \"Marco's Pizza\",\n        'Rocky Rococo Pan Style Pizza - Campus/Downtown',\n        \"Buzzy's Pizza Emporium\"], dtype=object),\n 'WV': array(['Colasessanos', 'Pies and Pints Pizzeria', 'Milanos Pizza',\n        'Mia Margherita', \"Mama Rosa's Pizzeria\",\n        'Kings New York Pizza - Martinsburg'], dtype=object)}"
     },
     "execution_count": 81,
     "metadata": {},
     "output_type": "execute_result"
    }
   ],
   "source": [
    "pizza.groupby('province')['name'].unique().to_dict()"
   ],
   "metadata": {
    "collapsed": false,
    "pycharm": {
     "name": "#%%\n"
    }
   }
  },
  {
   "cell_type": "code",
   "execution_count": 85,
   "outputs": [],
   "source": [
    "pizza_names = pizza.groupby('province')['name'].apply(list).to_dict()"
   ],
   "metadata": {
    "collapsed": false,
    "pycharm": {
     "name": "#%%\n"
    }
   }
  },
  {
   "cell_type": "code",
   "execution_count": 89,
   "outputs": [
    {
     "data": {
      "text/plain": "['Tortugas',\n 'Tortugas',\n 'Pasquales Pizza',\n 'Pasquales Pizza',\n 'Brick Oven Pizza Co Tiger Town']"
     },
     "execution_count": 89,
     "metadata": {},
     "output_type": "execute_result"
    }
   ],
   "source": [
    "pizza_names.get('AL')"
   ],
   "metadata": {
    "collapsed": false,
    "pycharm": {
     "name": "#%%\n"
    }
   }
  },
  {
   "cell_type": "code",
   "execution_count": 87,
   "outputs": [],
   "source": [
    "pizza_names_unique = {k:list(set(v)) for k, v in pizza_names.items()}"
   ],
   "metadata": {
    "collapsed": false,
    "pycharm": {
     "name": "#%%\n"
    }
   }
  },
  {
   "cell_type": "code",
   "execution_count": 93,
   "metadata": {
    "pycharm": {
     "name": "#%%\n"
    }
   },
   "outputs": [],
   "source": [
    "# Группируем с помощью groupby\n",
    "# количество уникальных названий по регионам \n",
    "pizzaz_by_province = pizza.groupby(['province'])['name'].nunique().reset_index()"
   ]
  },
  {
   "cell_type": "code",
   "execution_count": 94,
   "outputs": [],
   "source": [
    "# pizza.groupby(['province'])['name'].nunique().reset_index()"
   ],
   "metadata": {
    "collapsed": false,
    "pycharm": {
     "name": "#%%\n"
    }
   }
  },
  {
   "cell_type": "code",
   "execution_count": 95,
   "metadata": {
    "pycharm": {
     "name": "#%%\n"
    }
   },
   "outputs": [],
   "source": [
    "# pizzaz_by_province"
   ]
  },
  {
   "cell_type": "code",
   "execution_count": 96,
   "metadata": {
    "pycharm": {
     "name": "#%%\n"
    }
   },
   "outputs": [
    {
     "data": {
      "text/plain": "Index(['province', 'name'], dtype='object')"
     },
     "execution_count": 96,
     "metadata": {},
     "output_type": "execute_result"
    }
   ],
   "source": [
    "# проверяем названия колонок\n",
    "pizzaz_by_province.columns"
   ]
  },
  {
   "cell_type": "code",
   "execution_count": 97,
   "metadata": {
    "pycharm": {
     "name": "#%%\n"
    }
   },
   "outputs": [],
   "source": [
    "# Меняем названия на те что нам нравятся\n",
    "pizzaz_by_province.columns = ['province','quantity']"
   ]
  },
  {
   "cell_type": "code",
   "execution_count": 99,
   "outputs": [],
   "source": [
    "pizzaz_by_province = pizzaz_by_province.rename(columns={'name':'quantity'},\n",
    "                          # inplace=True\n",
    "                          )"
   ],
   "metadata": {
    "collapsed": false,
    "pycharm": {
     "name": "#%%\n"
    }
   }
  },
  {
   "cell_type": "code",
   "execution_count": 100,
   "metadata": {
    "pycharm": {
     "name": "#%%\n"
    }
   },
   "outputs": [],
   "source": [
    "pizzaz_by_province.rename(columns={'name':'quantity'},\n",
    "                          inplace=True\n",
    "                          )"
   ]
  },
  {
   "cell_type": "code",
   "execution_count": 101,
   "metadata": {
    "pycharm": {
     "name": "#%%\n"
    }
   },
   "outputs": [],
   "source": [
    "# pizzaz_by_province"
   ]
  },
  {
   "cell_type": "code",
   "execution_count": 104,
   "metadata": {
    "pycharm": {
     "name": "#%%\n"
    }
   },
   "outputs": [],
   "source": [
    "# Сортируем по полю quantity\n",
    "pizzaz_by_province = pizzaz_by_province.sort_values(by=['quantity'], ascending=[False])"
   ]
  },
  {
   "cell_type": "code",
   "execution_count": 110,
   "outputs": [],
   "source": [
    "pizzaz_by_province = pizzaz_by_province.sort_values(by=['quantity','province'], ascending=[True,False])"
   ],
   "metadata": {
    "collapsed": false,
    "pycharm": {
     "name": "#%%\n"
    }
   }
  },
  {
   "cell_type": "code",
   "execution_count": 111,
   "metadata": {
    "pycharm": {
     "name": "#%%\n"
    }
   },
   "outputs": [
    {
     "data": {
      "text/plain": "   province  quantity\n27       NJ         1\n25       ND         1\n23       MT         1\n10       HI         1\n6        CT         1\n36       SD         2\n1        AL         3\n0        AK         3\n12       ID         4\n43       WV         6\n22       MS         7\n7        DE         7\n26       NE         9\n17       LA        10\n2        AR        10\n32       OK        11\n28       NM        11\n15       KS        12\n39       UT        15\n11       IA        15\n29       NV        19\n16       KY        21\n20       MN        23\n37       TN        25\n35       SC        26\n33       OR        28\n21       MO        28\n42       WI        32\n18       MD        32\n5        CO        35\n41       WA        49\n3        AZ        50\n40       VA        52\n14       IN        52\n9        GA        53\n24       NC        62\n19       MI        79\n31       OH        82\n13       IL       111\n38       TX       117\n8        FL       145\n34       PA       172\n4        CA       219\n30       NY       395",
      "text/html": "<div>\n<style scoped>\n    .dataframe tbody tr th:only-of-type {\n        vertical-align: middle;\n    }\n\n    .dataframe tbody tr th {\n        vertical-align: top;\n    }\n\n    .dataframe thead th {\n        text-align: right;\n    }\n</style>\n<table border=\"1\" class=\"dataframe\">\n  <thead>\n    <tr style=\"text-align: right;\">\n      <th></th>\n      <th>province</th>\n      <th>quantity</th>\n    </tr>\n  </thead>\n  <tbody>\n    <tr>\n      <th>27</th>\n      <td>NJ</td>\n      <td>1</td>\n    </tr>\n    <tr>\n      <th>25</th>\n      <td>ND</td>\n      <td>1</td>\n    </tr>\n    <tr>\n      <th>23</th>\n      <td>MT</td>\n      <td>1</td>\n    </tr>\n    <tr>\n      <th>10</th>\n      <td>HI</td>\n      <td>1</td>\n    </tr>\n    <tr>\n      <th>6</th>\n      <td>CT</td>\n      <td>1</td>\n    </tr>\n    <tr>\n      <th>36</th>\n      <td>SD</td>\n      <td>2</td>\n    </tr>\n    <tr>\n      <th>1</th>\n      <td>AL</td>\n      <td>3</td>\n    </tr>\n    <tr>\n      <th>0</th>\n      <td>AK</td>\n      <td>3</td>\n    </tr>\n    <tr>\n      <th>12</th>\n      <td>ID</td>\n      <td>4</td>\n    </tr>\n    <tr>\n      <th>43</th>\n      <td>WV</td>\n      <td>6</td>\n    </tr>\n    <tr>\n      <th>22</th>\n      <td>MS</td>\n      <td>7</td>\n    </tr>\n    <tr>\n      <th>7</th>\n      <td>DE</td>\n      <td>7</td>\n    </tr>\n    <tr>\n      <th>26</th>\n      <td>NE</td>\n      <td>9</td>\n    </tr>\n    <tr>\n      <th>17</th>\n      <td>LA</td>\n      <td>10</td>\n    </tr>\n    <tr>\n      <th>2</th>\n      <td>AR</td>\n      <td>10</td>\n    </tr>\n    <tr>\n      <th>32</th>\n      <td>OK</td>\n      <td>11</td>\n    </tr>\n    <tr>\n      <th>28</th>\n      <td>NM</td>\n      <td>11</td>\n    </tr>\n    <tr>\n      <th>15</th>\n      <td>KS</td>\n      <td>12</td>\n    </tr>\n    <tr>\n      <th>39</th>\n      <td>UT</td>\n      <td>15</td>\n    </tr>\n    <tr>\n      <th>11</th>\n      <td>IA</td>\n      <td>15</td>\n    </tr>\n    <tr>\n      <th>29</th>\n      <td>NV</td>\n      <td>19</td>\n    </tr>\n    <tr>\n      <th>16</th>\n      <td>KY</td>\n      <td>21</td>\n    </tr>\n    <tr>\n      <th>20</th>\n      <td>MN</td>\n      <td>23</td>\n    </tr>\n    <tr>\n      <th>37</th>\n      <td>TN</td>\n      <td>25</td>\n    </tr>\n    <tr>\n      <th>35</th>\n      <td>SC</td>\n      <td>26</td>\n    </tr>\n    <tr>\n      <th>33</th>\n      <td>OR</td>\n      <td>28</td>\n    </tr>\n    <tr>\n      <th>21</th>\n      <td>MO</td>\n      <td>28</td>\n    </tr>\n    <tr>\n      <th>42</th>\n      <td>WI</td>\n      <td>32</td>\n    </tr>\n    <tr>\n      <th>18</th>\n      <td>MD</td>\n      <td>32</td>\n    </tr>\n    <tr>\n      <th>5</th>\n      <td>CO</td>\n      <td>35</td>\n    </tr>\n    <tr>\n      <th>41</th>\n      <td>WA</td>\n      <td>49</td>\n    </tr>\n    <tr>\n      <th>3</th>\n      <td>AZ</td>\n      <td>50</td>\n    </tr>\n    <tr>\n      <th>40</th>\n      <td>VA</td>\n      <td>52</td>\n    </tr>\n    <tr>\n      <th>14</th>\n      <td>IN</td>\n      <td>52</td>\n    </tr>\n    <tr>\n      <th>9</th>\n      <td>GA</td>\n      <td>53</td>\n    </tr>\n    <tr>\n      <th>24</th>\n      <td>NC</td>\n      <td>62</td>\n    </tr>\n    <tr>\n      <th>19</th>\n      <td>MI</td>\n      <td>79</td>\n    </tr>\n    <tr>\n      <th>31</th>\n      <td>OH</td>\n      <td>82</td>\n    </tr>\n    <tr>\n      <th>13</th>\n      <td>IL</td>\n      <td>111</td>\n    </tr>\n    <tr>\n      <th>38</th>\n      <td>TX</td>\n      <td>117</td>\n    </tr>\n    <tr>\n      <th>8</th>\n      <td>FL</td>\n      <td>145</td>\n    </tr>\n    <tr>\n      <th>34</th>\n      <td>PA</td>\n      <td>172</td>\n    </tr>\n    <tr>\n      <th>4</th>\n      <td>CA</td>\n      <td>219</td>\n    </tr>\n    <tr>\n      <th>30</th>\n      <td>NY</td>\n      <td>395</td>\n    </tr>\n  </tbody>\n</table>\n</div>"
     },
     "execution_count": 111,
     "metadata": {},
     "output_type": "execute_result"
    }
   ],
   "source": [
    "pizzaz_by_province"
   ]
  },
  {
   "cell_type": "code",
   "execution_count": 113,
   "outputs": [
    {
     "data": {
      "text/plain": "27    False\n25    False\n23    False\n10    False\n6     False\n36    False\n1     False\n0     False\n12    False\n43    False\n22    False\n7     False\n26    False\n17    False\n2     False\n32    False\n28    False\n15    False\n39    False\n11    False\n29    False\n16    False\n20    False\n37    False\n35    False\n33    False\n21    False\n42    False\n18    False\n5     False\n41    False\n3     False\n40    False\n14    False\n9     False\n24    False\n19    False\n31    False\n13     True\n38     True\n8      True\n34     True\n4      True\n30     True\nName: quantity, dtype: bool"
     },
     "execution_count": 113,
     "metadata": {},
     "output_type": "execute_result"
    }
   ],
   "source": [],
   "metadata": {
    "collapsed": false,
    "pycharm": {
     "name": "#%%\n"
    }
   }
  },
  {
   "cell_type": "code",
   "execution_count": 112,
   "outputs": [
    {
     "data": {
      "text/plain": "array([0, 0, 0, 0, 0, 0, 0, 0, 0, 0, 0, 0, 0, 0, 0, 0, 0, 0, 0, 0, 0, 0,\n       0, 0, 0, 0, 0, 0, 0, 0, 0, 0, 0, 0, 0, 0, 0, 0, 1, 1, 1, 1, 1, 1])"
     },
     "execution_count": 112,
     "metadata": {},
     "output_type": "execute_result"
    }
   ],
   "source": [
    "np.where(pizzaz_by_province['quantity']> 100,1,0)"
   ],
   "metadata": {
    "collapsed": false,
    "pycharm": {
     "name": "#%%\n"
    }
   }
  },
  {
   "cell_type": "code",
   "execution_count": 114,
   "metadata": {
    "pycharm": {
     "name": "#%%\n"
    }
   },
   "outputs": [],
   "source": [
    "# Размечаем те регионы, где много пиццерий с помощью numpy\n",
    "pizzaz_by_province['many_or_not_many_pd'] = np.where(pizzaz_by_province['quantity']> 100,1,0)"
   ]
  },
  {
   "cell_type": "code",
   "execution_count": 116,
   "metadata": {
    "pycharm": {
     "name": "#%%\n"
    }
   },
   "outputs": [],
   "source": [
    "# np.where(pizzaz_by_province['quantity']> 100,1,0)"
   ]
  },
  {
   "cell_type": "code",
   "execution_count": 117,
   "outputs": [],
   "source": [
    "# pizzaz_by_province['quantity'] > 100"
   ],
   "metadata": {
    "collapsed": false,
    "pycharm": {
     "name": "#%%\n"
    }
   }
  },
  {
   "cell_type": "code",
   "execution_count": 122,
   "outputs": [
    {
     "name": "stderr",
     "output_type": "stream",
     "text": [
      "/Users/lev4/opt/anaconda3/lib/python3.9/site-packages/pandas/core/generic.py:5516: SettingWithCopyWarning: \n",
      "A value is trying to be set on a copy of a slice from a DataFrame.\n",
      "Try using .loc[row_indexer,col_indexer] = value instead\n",
      "\n",
      "See the caveats in the documentation: https://pandas.pydata.org/pandas-docs/stable/user_guide/indexing.html#returning-a-view-versus-a-copy\n",
      "  self[name] = value\n"
     ]
    }
   ],
   "source": [
    "term = (pizzaz_by_province['quantity'] > 100 )\n",
    "term2 = (pizzaz_by_province['quantity'] < 120 )\n",
    "# pizzaz_by_province[(pizzaz_by_province['quantity'] > 100 ) & (pizzaz_by_province['quantity'] < 120 )]\\\n",
    "pizzaz_by_province[term & term2].many_or_not_many_pd = 2"
   ],
   "metadata": {
    "collapsed": false,
    "pycharm": {
     "name": "#%%\n"
    }
   }
  },
  {
   "cell_type": "code",
   "execution_count": 123,
   "outputs": [
    {
     "data": {
      "text/plain": "13    1\n38    1\nName: many_or_not_many_pd, dtype: int64"
     },
     "execution_count": 123,
     "metadata": {},
     "output_type": "execute_result"
    }
   ],
   "source": [
    "pizzaz_by_province[term & term2].many_or_not_many_pd"
   ],
   "metadata": {
    "collapsed": false,
    "pycharm": {
     "name": "#%%\n"
    }
   }
  },
  {
   "cell_type": "code",
   "execution_count": 124,
   "outputs": [
    {
     "name": "stderr",
     "output_type": "stream",
     "text": [
      "/var/folders/9z/_pdr4vys3c9_sdhkgcm_5s540000gn/T/ipykernel_10181/1739166254.py:1: SettingWithCopyWarning: \n",
      "A value is trying to be set on a copy of a slice from a DataFrame.\n",
      "Try using .loc[row_indexer,col_indexer] = value instead\n",
      "\n",
      "See the caveats in the documentation: https://pandas.pydata.org/pandas-docs/stable/user_guide/indexing.html#returning-a-view-versus-a-copy\n",
      "  pizzaz_by_province[pizzaz_by_province['quantity'] > 100]['many_or_not_many_pd'] = 2\n"
     ]
    }
   ],
   "source": [
    "pizzaz_by_province[pizzaz_by_province['quantity'] > 100]['many_or_not_many_pd'] = 2"
   ],
   "metadata": {
    "collapsed": false,
    "pycharm": {
     "name": "#%%\n"
    }
   }
  },
  {
   "cell_type": "code",
   "execution_count": 125,
   "outputs": [
    {
     "data": {
      "text/plain": "13    1\n38    1\n8     1\n34    1\n4     1\n30    1\nName: many_or_not_many_pd, dtype: int64"
     },
     "execution_count": 125,
     "metadata": {},
     "output_type": "execute_result"
    }
   ],
   "source": [],
   "metadata": {
    "collapsed": false,
    "pycharm": {
     "name": "#%%\n"
    }
   }
  },
  {
   "cell_type": "code",
   "execution_count": 126,
   "metadata": {
    "pycharm": {
     "name": "#%%\n"
    }
   },
   "outputs": [],
   "source": [
    "# Размечаем те регионы, где много пиццерий с помощью pandas\n",
    "\n",
    "# Неправильный вариант\n",
    "# pizzaz_by_province[pizzaz_by_province['quantity'] > 100]['many_or_not_many_pd'] = 1\n",
    "# pizzaz_by_province[pizzaz_by_province['quantity'] <=100]['many_or_not_many_pd'] = 0\n",
    "\n",
    "# Правильный вариант\n",
    "pizzaz_by_province['less_10'] = 0\n",
    "pizzaz_by_province.loc[pizzaz_by_province['quantity'] < 10, 'less_10' ] = 1"
   ]
  },
  {
   "cell_type": "code",
   "execution_count": 128,
   "outputs": [
    {
     "data": {
      "text/plain": "27    NJ\n25    ND\n23    MT\n10    HI\n6     CT\n36    SD\n1     AL\n0     AK\n12    ID\n43    WV\n22    MS\n7     DE\n26    NE\nName: province, dtype: object"
     },
     "execution_count": 128,
     "metadata": {},
     "output_type": "execute_result"
    }
   ],
   "source": [
    "pizzaz_by_province.loc[pizzaz_by_province['quantity'] < 10, 'province' ]"
   ],
   "metadata": {
    "collapsed": false,
    "pycharm": {
     "name": "#%%\n"
    }
   }
  },
  {
   "cell_type": "code",
   "execution_count": 129,
   "metadata": {
    "pycharm": {
     "name": "#%%\n"
    }
   },
   "outputs": [],
   "source": [
    "less_10_provinces = pizzaz_by_province.loc[pizzaz_by_province['quantity'] < 10, 'province' ].tolist()"
   ]
  },
  {
   "cell_type": "code",
   "execution_count": 130,
   "outputs": [
    {
     "data": {
      "text/plain": "['NJ', 'ND', 'MT', 'HI', 'CT', 'SD', 'AL', 'AK', 'ID', 'WV', 'MS', 'DE', 'NE']"
     },
     "execution_count": 130,
     "metadata": {},
     "output_type": "execute_result"
    }
   ],
   "source": [
    "less_10_provinces"
   ],
   "metadata": {
    "collapsed": false,
    "pycharm": {
     "name": "#%%\n"
    }
   }
  },
  {
   "cell_type": "code",
   "execution_count": 135,
   "metadata": {
    "pycharm": {
     "name": "#%%\n"
    }
   },
   "outputs": [],
   "source": [
    "# Меняем тип данных в колонке\n",
    "pizzaz_by_province.less_10 = pizzaz_by_province.less_10.astype(int)"
   ]
  },
  {
   "cell_type": "code",
   "execution_count": 136,
   "outputs": [
    {
     "data": {
      "text/plain": "dtype('int64')"
     },
     "execution_count": 136,
     "metadata": {},
     "output_type": "execute_result"
    }
   ],
   "source": [
    "pizzaz_by_province.less_10.dtype"
   ],
   "metadata": {
    "collapsed": false,
    "pycharm": {
     "name": "#%%\n"
    }
   }
  },
  {
   "cell_type": "code",
   "execution_count": 32,
   "metadata": {
    "pycharm": {
     "name": "#%%\n"
    }
   },
   "outputs": [],
   "source": [
    "# Рассчитываем сумму или среднее значение по колонке"
   ]
  },
  {
   "cell_type": "code",
   "execution_count": 33,
   "outputs": [
    {
     "data": {
      "text/plain": "30    3.95%\n4     2.19%\n34    1.72%\n8     1.45%\n38    1.17%\n13    1.11%\n31    0.82%\n19    0.79%\n24    0.62%\n9     0.53%\n40    0.52%\n14    0.52%\n3      0.5%\n41    0.49%\n5     0.35%\n18    0.32%\n42    0.32%\n21    0.28%\n33    0.28%\n35    0.26%\n37    0.25%\n20    0.23%\n16    0.21%\n29    0.19%\n39    0.15%\n11    0.15%\n15    0.12%\n32    0.11%\n28    0.11%\n17     0.1%\n2      0.1%\n26    0.09%\n7     0.07%\n22    0.07%\n43    0.06%\n12    0.04%\n1     0.03%\n0     0.03%\n36    0.02%\n27    0.01%\n25    0.01%\n23    0.01%\n10    0.01%\n6     0.01%\nName: quantity, dtype: object"
     },
     "execution_count": 33,
     "metadata": {},
     "output_type": "execute_result"
    }
   ],
   "source": [
    "pizzaz_by_province.quantity.mul(10).divide(1000).round(2).astype(str) + '%'"
   ],
   "metadata": {
    "collapsed": false,
    "pycharm": {
     "name": "#%%\n"
    }
   }
  },
  {
   "cell_type": "code",
   "execution_count": 22,
   "metadata": {
    "pycharm": {
     "name": "#%%\n"
    }
   },
   "outputs": [],
   "source": [
    "# Применение функции к элекментам колонки"
   ]
  },
  {
   "cell_type": "code",
   "execution_count": 137,
   "metadata": {
    "pycharm": {
     "name": "#%%\n"
    }
   },
   "outputs": [],
   "source": [
    "def qdevtwo(x):\n",
    "    if int(x) % 2 == 0:\n",
    "        return 1\n",
    "    else:\n",
    "        return 0\n",
    "        \n",
    "pizzaz_by_province['dev2'] = pizzaz_by_province.quantity.apply(lambda x: qdevtwo(x))"
   ]
  },
  {
   "cell_type": "code",
   "execution_count": 138,
   "metadata": {
    "pycharm": {
     "name": "#%%\n"
    }
   },
   "outputs": [],
   "source": [
    "pizzaz_by_province['dev2'] = pizzaz_by_province.quantity.apply(qdevtwo)"
   ]
  },
  {
   "cell_type": "code",
   "execution_count": 139,
   "metadata": {
    "pycharm": {
     "name": "#%%\n"
    }
   },
   "outputs": [
    {
     "data": {
      "text/plain": "   province  quantity  many_or_not_many_pd  less_10  dev2\n27       NJ         1                    0        1     0\n25       ND         1                    0        1     0\n23       MT         1                    0        1     0",
      "text/html": "<div>\n<style scoped>\n    .dataframe tbody tr th:only-of-type {\n        vertical-align: middle;\n    }\n\n    .dataframe tbody tr th {\n        vertical-align: top;\n    }\n\n    .dataframe thead th {\n        text-align: right;\n    }\n</style>\n<table border=\"1\" class=\"dataframe\">\n  <thead>\n    <tr style=\"text-align: right;\">\n      <th></th>\n      <th>province</th>\n      <th>quantity</th>\n      <th>many_or_not_many_pd</th>\n      <th>less_10</th>\n      <th>dev2</th>\n    </tr>\n  </thead>\n  <tbody>\n    <tr>\n      <th>27</th>\n      <td>NJ</td>\n      <td>1</td>\n      <td>0</td>\n      <td>1</td>\n      <td>0</td>\n    </tr>\n    <tr>\n      <th>25</th>\n      <td>ND</td>\n      <td>1</td>\n      <td>0</td>\n      <td>1</td>\n      <td>0</td>\n    </tr>\n    <tr>\n      <th>23</th>\n      <td>MT</td>\n      <td>1</td>\n      <td>0</td>\n      <td>1</td>\n      <td>0</td>\n    </tr>\n  </tbody>\n</table>\n</div>"
     },
     "execution_count": 139,
     "metadata": {},
     "output_type": "execute_result"
    }
   ],
   "source": [
    "pizzaz_by_province.head(3)"
   ]
  },
  {
   "cell_type": "code",
   "execution_count": 37,
   "metadata": {
    "pycharm": {
     "name": "#%%\n"
    }
   },
   "outputs": [
    {
     "data": {
      "text/plain": "province                CA\nquantity               219\nmany_or_not_many_pd      1\nless_10                  0\ndev2                     0\nName: 4, dtype: object"
     },
     "execution_count": 37,
     "metadata": {},
     "output_type": "execute_result"
    }
   ],
   "source": [
    "pizzaz_by_province.iloc[1,:]"
   ]
  },
  {
   "cell_type": "code",
   "execution_count": 140,
   "metadata": {
    "pycharm": {
     "name": "#%%\n"
    }
   },
   "outputs": [
    {
     "data": {
      "text/plain": "   province  quantity  many_or_not_many_pd  less_10  dev2\n27       NJ         1                    0        1     0\n25       ND         1                    0        1     0\n23       MT         1                    0        1     0\n10       HI         1                    0        1     0\n6        CT         1                    0        1     0\n36       SD         2                    0        1     1\n1        AL         3                    0        1     0\n0        AK         3                    0        1     0\n12       ID         4                    0        1     1\n43       WV         6                    0        1     1\n22       MS         7                    0        1     0\n7        DE         7                    0        1     0\n26       NE         9                    0        1     0\n17       LA        10                    0        0     1\n2        AR        10                    0        0     1\n32       OK        11                    0        0     0\n28       NM        11                    0        0     0\n15       KS        12                    0        0     1\n39       UT        15                    0        0     0\n11       IA        15                    0        0     0\n29       NV        19                    0        0     0\n16       KY        21                    0        0     0\n20       MN        23                    0        0     0\n37       TN        25                    0        0     0\n35       SC        26                    0        0     1\n33       OR        28                    0        0     1\n21       MO        28                    0        0     1\n42       WI        32                    0        0     1\n18       MD        32                    0        0     1\n5        CO        35                    0        0     0\n41       WA        49                    0        0     0\n3        AZ        50                    0        0     1\n40       VA        52                    0        0     1\n14       IN        52                    0        0     1\n9        GA        53                    0        0     0\n24       NC        62                    0        0     1\n19       MI        79                    0        0     0\n31       OH        82                    0        0     1\n13       IL       111                    1        0     0\n38       TX       117                    1        0     0\n8        FL       145                    1        0     0\n34       PA       172                    1        0     1\n4        CA       219                    1        0     0\n30       NY       395                    1        0     0",
      "text/html": "<div>\n<style scoped>\n    .dataframe tbody tr th:only-of-type {\n        vertical-align: middle;\n    }\n\n    .dataframe tbody tr th {\n        vertical-align: top;\n    }\n\n    .dataframe thead th {\n        text-align: right;\n    }\n</style>\n<table border=\"1\" class=\"dataframe\">\n  <thead>\n    <tr style=\"text-align: right;\">\n      <th></th>\n      <th>province</th>\n      <th>quantity</th>\n      <th>many_or_not_many_pd</th>\n      <th>less_10</th>\n      <th>dev2</th>\n    </tr>\n  </thead>\n  <tbody>\n    <tr>\n      <th>27</th>\n      <td>NJ</td>\n      <td>1</td>\n      <td>0</td>\n      <td>1</td>\n      <td>0</td>\n    </tr>\n    <tr>\n      <th>25</th>\n      <td>ND</td>\n      <td>1</td>\n      <td>0</td>\n      <td>1</td>\n      <td>0</td>\n    </tr>\n    <tr>\n      <th>23</th>\n      <td>MT</td>\n      <td>1</td>\n      <td>0</td>\n      <td>1</td>\n      <td>0</td>\n    </tr>\n    <tr>\n      <th>10</th>\n      <td>HI</td>\n      <td>1</td>\n      <td>0</td>\n      <td>1</td>\n      <td>0</td>\n    </tr>\n    <tr>\n      <th>6</th>\n      <td>CT</td>\n      <td>1</td>\n      <td>0</td>\n      <td>1</td>\n      <td>0</td>\n    </tr>\n    <tr>\n      <th>36</th>\n      <td>SD</td>\n      <td>2</td>\n      <td>0</td>\n      <td>1</td>\n      <td>1</td>\n    </tr>\n    <tr>\n      <th>1</th>\n      <td>AL</td>\n      <td>3</td>\n      <td>0</td>\n      <td>1</td>\n      <td>0</td>\n    </tr>\n    <tr>\n      <th>0</th>\n      <td>AK</td>\n      <td>3</td>\n      <td>0</td>\n      <td>1</td>\n      <td>0</td>\n    </tr>\n    <tr>\n      <th>12</th>\n      <td>ID</td>\n      <td>4</td>\n      <td>0</td>\n      <td>1</td>\n      <td>1</td>\n    </tr>\n    <tr>\n      <th>43</th>\n      <td>WV</td>\n      <td>6</td>\n      <td>0</td>\n      <td>1</td>\n      <td>1</td>\n    </tr>\n    <tr>\n      <th>22</th>\n      <td>MS</td>\n      <td>7</td>\n      <td>0</td>\n      <td>1</td>\n      <td>0</td>\n    </tr>\n    <tr>\n      <th>7</th>\n      <td>DE</td>\n      <td>7</td>\n      <td>0</td>\n      <td>1</td>\n      <td>0</td>\n    </tr>\n    <tr>\n      <th>26</th>\n      <td>NE</td>\n      <td>9</td>\n      <td>0</td>\n      <td>1</td>\n      <td>0</td>\n    </tr>\n    <tr>\n      <th>17</th>\n      <td>LA</td>\n      <td>10</td>\n      <td>0</td>\n      <td>0</td>\n      <td>1</td>\n    </tr>\n    <tr>\n      <th>2</th>\n      <td>AR</td>\n      <td>10</td>\n      <td>0</td>\n      <td>0</td>\n      <td>1</td>\n    </tr>\n    <tr>\n      <th>32</th>\n      <td>OK</td>\n      <td>11</td>\n      <td>0</td>\n      <td>0</td>\n      <td>0</td>\n    </tr>\n    <tr>\n      <th>28</th>\n      <td>NM</td>\n      <td>11</td>\n      <td>0</td>\n      <td>0</td>\n      <td>0</td>\n    </tr>\n    <tr>\n      <th>15</th>\n      <td>KS</td>\n      <td>12</td>\n      <td>0</td>\n      <td>0</td>\n      <td>1</td>\n    </tr>\n    <tr>\n      <th>39</th>\n      <td>UT</td>\n      <td>15</td>\n      <td>0</td>\n      <td>0</td>\n      <td>0</td>\n    </tr>\n    <tr>\n      <th>11</th>\n      <td>IA</td>\n      <td>15</td>\n      <td>0</td>\n      <td>0</td>\n      <td>0</td>\n    </tr>\n    <tr>\n      <th>29</th>\n      <td>NV</td>\n      <td>19</td>\n      <td>0</td>\n      <td>0</td>\n      <td>0</td>\n    </tr>\n    <tr>\n      <th>16</th>\n      <td>KY</td>\n      <td>21</td>\n      <td>0</td>\n      <td>0</td>\n      <td>0</td>\n    </tr>\n    <tr>\n      <th>20</th>\n      <td>MN</td>\n      <td>23</td>\n      <td>0</td>\n      <td>0</td>\n      <td>0</td>\n    </tr>\n    <tr>\n      <th>37</th>\n      <td>TN</td>\n      <td>25</td>\n      <td>0</td>\n      <td>0</td>\n      <td>0</td>\n    </tr>\n    <tr>\n      <th>35</th>\n      <td>SC</td>\n      <td>26</td>\n      <td>0</td>\n      <td>0</td>\n      <td>1</td>\n    </tr>\n    <tr>\n      <th>33</th>\n      <td>OR</td>\n      <td>28</td>\n      <td>0</td>\n      <td>0</td>\n      <td>1</td>\n    </tr>\n    <tr>\n      <th>21</th>\n      <td>MO</td>\n      <td>28</td>\n      <td>0</td>\n      <td>0</td>\n      <td>1</td>\n    </tr>\n    <tr>\n      <th>42</th>\n      <td>WI</td>\n      <td>32</td>\n      <td>0</td>\n      <td>0</td>\n      <td>1</td>\n    </tr>\n    <tr>\n      <th>18</th>\n      <td>MD</td>\n      <td>32</td>\n      <td>0</td>\n      <td>0</td>\n      <td>1</td>\n    </tr>\n    <tr>\n      <th>5</th>\n      <td>CO</td>\n      <td>35</td>\n      <td>0</td>\n      <td>0</td>\n      <td>0</td>\n    </tr>\n    <tr>\n      <th>41</th>\n      <td>WA</td>\n      <td>49</td>\n      <td>0</td>\n      <td>0</td>\n      <td>0</td>\n    </tr>\n    <tr>\n      <th>3</th>\n      <td>AZ</td>\n      <td>50</td>\n      <td>0</td>\n      <td>0</td>\n      <td>1</td>\n    </tr>\n    <tr>\n      <th>40</th>\n      <td>VA</td>\n      <td>52</td>\n      <td>0</td>\n      <td>0</td>\n      <td>1</td>\n    </tr>\n    <tr>\n      <th>14</th>\n      <td>IN</td>\n      <td>52</td>\n      <td>0</td>\n      <td>0</td>\n      <td>1</td>\n    </tr>\n    <tr>\n      <th>9</th>\n      <td>GA</td>\n      <td>53</td>\n      <td>0</td>\n      <td>0</td>\n      <td>0</td>\n    </tr>\n    <tr>\n      <th>24</th>\n      <td>NC</td>\n      <td>62</td>\n      <td>0</td>\n      <td>0</td>\n      <td>1</td>\n    </tr>\n    <tr>\n      <th>19</th>\n      <td>MI</td>\n      <td>79</td>\n      <td>0</td>\n      <td>0</td>\n      <td>0</td>\n    </tr>\n    <tr>\n      <th>31</th>\n      <td>OH</td>\n      <td>82</td>\n      <td>0</td>\n      <td>0</td>\n      <td>1</td>\n    </tr>\n    <tr>\n      <th>13</th>\n      <td>IL</td>\n      <td>111</td>\n      <td>1</td>\n      <td>0</td>\n      <td>0</td>\n    </tr>\n    <tr>\n      <th>38</th>\n      <td>TX</td>\n      <td>117</td>\n      <td>1</td>\n      <td>0</td>\n      <td>0</td>\n    </tr>\n    <tr>\n      <th>8</th>\n      <td>FL</td>\n      <td>145</td>\n      <td>1</td>\n      <td>0</td>\n      <td>0</td>\n    </tr>\n    <tr>\n      <th>34</th>\n      <td>PA</td>\n      <td>172</td>\n      <td>1</td>\n      <td>0</td>\n      <td>1</td>\n    </tr>\n    <tr>\n      <th>4</th>\n      <td>CA</td>\n      <td>219</td>\n      <td>1</td>\n      <td>0</td>\n      <td>0</td>\n    </tr>\n    <tr>\n      <th>30</th>\n      <td>NY</td>\n      <td>395</td>\n      <td>1</td>\n      <td>0</td>\n      <td>0</td>\n    </tr>\n  </tbody>\n</table>\n</div>"
     },
     "execution_count": 140,
     "metadata": {},
     "output_type": "execute_result"
    }
   ],
   "source": [
    "pizzaz_by_province"
   ]
  },
  {
   "cell_type": "code",
   "execution_count": 144,
   "outputs": [
    {
     "data": {
      "text/plain": "   province  quantity  many_or_not_many_pd  less_10  dev2\n27       NJ         1                    0        1     0\n25       ND         1                    0        1     0\n23       MT         1                    0        1     0\n10       HI         1                    0        1     0\n6        CT         1                    0        1     0\n36       SD         2                    0        1     1\n1        AL         3                    0        1     0\n0        AK         3                    0        1     0\n12       ID         4                    0        1     1\n43       WV         6                    0        1     1\n22       MS         7                    0        1     0\n7        DE         7                    0        1     0\n26       NE         9                    0        1     0\n17       LA        10                    0        0     1\n2        AR        10                    0        0     1\n32       OK        11                    0        0     0\n28       NM        11                    0        0     0\n15       KS        12                    0        0     1\n39       UT        15                    0        0     0\n11       IA        15                    0        0     0\n29       NV        19                    0        0     0\n16       KY        21                    0        0     0\n20       MN        23                    0        0     0\n37       TN        25                    0        0     0\n35       SC        26                    0        0     1\n33       OR        28                    0        0     1\n21       MO        28                    0        0     1\n42       WI        32                    0        0     1\n18       MD        32                    0        0     1\n5        CO        35                    0        0     0\n41       WA        49                    0        0     0\n3        AZ        50                    0        0     1\n40       VA        52                    0        0     1\n14       IN        52                    0        0     1\n9        GA        53                    0        0     0\n24       NC        62                    0        0     1\n19       MI        79                    0        0     0\n31       OH        82                    0        0     1\n13       IL       111                    1        0     0\n38       TX       117                    1        0     0\n8        FL       145                    1        0     0\n34       PA       172                    1        0     1\n4        CA       219                    1        0     0\n30       NY       395                    1        0     0",
      "text/html": "<div>\n<style scoped>\n    .dataframe tbody tr th:only-of-type {\n        vertical-align: middle;\n    }\n\n    .dataframe tbody tr th {\n        vertical-align: top;\n    }\n\n    .dataframe thead th {\n        text-align: right;\n    }\n</style>\n<table border=\"1\" class=\"dataframe\">\n  <thead>\n    <tr style=\"text-align: right;\">\n      <th></th>\n      <th>province</th>\n      <th>quantity</th>\n      <th>many_or_not_many_pd</th>\n      <th>less_10</th>\n      <th>dev2</th>\n    </tr>\n  </thead>\n  <tbody>\n    <tr>\n      <th>27</th>\n      <td>NJ</td>\n      <td>1</td>\n      <td>0</td>\n      <td>1</td>\n      <td>0</td>\n    </tr>\n    <tr>\n      <th>25</th>\n      <td>ND</td>\n      <td>1</td>\n      <td>0</td>\n      <td>1</td>\n      <td>0</td>\n    </tr>\n    <tr>\n      <th>23</th>\n      <td>MT</td>\n      <td>1</td>\n      <td>0</td>\n      <td>1</td>\n      <td>0</td>\n    </tr>\n    <tr>\n      <th>10</th>\n      <td>HI</td>\n      <td>1</td>\n      <td>0</td>\n      <td>1</td>\n      <td>0</td>\n    </tr>\n    <tr>\n      <th>6</th>\n      <td>CT</td>\n      <td>1</td>\n      <td>0</td>\n      <td>1</td>\n      <td>0</td>\n    </tr>\n    <tr>\n      <th>36</th>\n      <td>SD</td>\n      <td>2</td>\n      <td>0</td>\n      <td>1</td>\n      <td>1</td>\n    </tr>\n    <tr>\n      <th>1</th>\n      <td>AL</td>\n      <td>3</td>\n      <td>0</td>\n      <td>1</td>\n      <td>0</td>\n    </tr>\n    <tr>\n      <th>0</th>\n      <td>AK</td>\n      <td>3</td>\n      <td>0</td>\n      <td>1</td>\n      <td>0</td>\n    </tr>\n    <tr>\n      <th>12</th>\n      <td>ID</td>\n      <td>4</td>\n      <td>0</td>\n      <td>1</td>\n      <td>1</td>\n    </tr>\n    <tr>\n      <th>43</th>\n      <td>WV</td>\n      <td>6</td>\n      <td>0</td>\n      <td>1</td>\n      <td>1</td>\n    </tr>\n    <tr>\n      <th>22</th>\n      <td>MS</td>\n      <td>7</td>\n      <td>0</td>\n      <td>1</td>\n      <td>0</td>\n    </tr>\n    <tr>\n      <th>7</th>\n      <td>DE</td>\n      <td>7</td>\n      <td>0</td>\n      <td>1</td>\n      <td>0</td>\n    </tr>\n    <tr>\n      <th>26</th>\n      <td>NE</td>\n      <td>9</td>\n      <td>0</td>\n      <td>1</td>\n      <td>0</td>\n    </tr>\n    <tr>\n      <th>17</th>\n      <td>LA</td>\n      <td>10</td>\n      <td>0</td>\n      <td>0</td>\n      <td>1</td>\n    </tr>\n    <tr>\n      <th>2</th>\n      <td>AR</td>\n      <td>10</td>\n      <td>0</td>\n      <td>0</td>\n      <td>1</td>\n    </tr>\n    <tr>\n      <th>32</th>\n      <td>OK</td>\n      <td>11</td>\n      <td>0</td>\n      <td>0</td>\n      <td>0</td>\n    </tr>\n    <tr>\n      <th>28</th>\n      <td>NM</td>\n      <td>11</td>\n      <td>0</td>\n      <td>0</td>\n      <td>0</td>\n    </tr>\n    <tr>\n      <th>15</th>\n      <td>KS</td>\n      <td>12</td>\n      <td>0</td>\n      <td>0</td>\n      <td>1</td>\n    </tr>\n    <tr>\n      <th>39</th>\n      <td>UT</td>\n      <td>15</td>\n      <td>0</td>\n      <td>0</td>\n      <td>0</td>\n    </tr>\n    <tr>\n      <th>11</th>\n      <td>IA</td>\n      <td>15</td>\n      <td>0</td>\n      <td>0</td>\n      <td>0</td>\n    </tr>\n    <tr>\n      <th>29</th>\n      <td>NV</td>\n      <td>19</td>\n      <td>0</td>\n      <td>0</td>\n      <td>0</td>\n    </tr>\n    <tr>\n      <th>16</th>\n      <td>KY</td>\n      <td>21</td>\n      <td>0</td>\n      <td>0</td>\n      <td>0</td>\n    </tr>\n    <tr>\n      <th>20</th>\n      <td>MN</td>\n      <td>23</td>\n      <td>0</td>\n      <td>0</td>\n      <td>0</td>\n    </tr>\n    <tr>\n      <th>37</th>\n      <td>TN</td>\n      <td>25</td>\n      <td>0</td>\n      <td>0</td>\n      <td>0</td>\n    </tr>\n    <tr>\n      <th>35</th>\n      <td>SC</td>\n      <td>26</td>\n      <td>0</td>\n      <td>0</td>\n      <td>1</td>\n    </tr>\n    <tr>\n      <th>33</th>\n      <td>OR</td>\n      <td>28</td>\n      <td>0</td>\n      <td>0</td>\n      <td>1</td>\n    </tr>\n    <tr>\n      <th>21</th>\n      <td>MO</td>\n      <td>28</td>\n      <td>0</td>\n      <td>0</td>\n      <td>1</td>\n    </tr>\n    <tr>\n      <th>42</th>\n      <td>WI</td>\n      <td>32</td>\n      <td>0</td>\n      <td>0</td>\n      <td>1</td>\n    </tr>\n    <tr>\n      <th>18</th>\n      <td>MD</td>\n      <td>32</td>\n      <td>0</td>\n      <td>0</td>\n      <td>1</td>\n    </tr>\n    <tr>\n      <th>5</th>\n      <td>CO</td>\n      <td>35</td>\n      <td>0</td>\n      <td>0</td>\n      <td>0</td>\n    </tr>\n    <tr>\n      <th>41</th>\n      <td>WA</td>\n      <td>49</td>\n      <td>0</td>\n      <td>0</td>\n      <td>0</td>\n    </tr>\n    <tr>\n      <th>3</th>\n      <td>AZ</td>\n      <td>50</td>\n      <td>0</td>\n      <td>0</td>\n      <td>1</td>\n    </tr>\n    <tr>\n      <th>40</th>\n      <td>VA</td>\n      <td>52</td>\n      <td>0</td>\n      <td>0</td>\n      <td>1</td>\n    </tr>\n    <tr>\n      <th>14</th>\n      <td>IN</td>\n      <td>52</td>\n      <td>0</td>\n      <td>0</td>\n      <td>1</td>\n    </tr>\n    <tr>\n      <th>9</th>\n      <td>GA</td>\n      <td>53</td>\n      <td>0</td>\n      <td>0</td>\n      <td>0</td>\n    </tr>\n    <tr>\n      <th>24</th>\n      <td>NC</td>\n      <td>62</td>\n      <td>0</td>\n      <td>0</td>\n      <td>1</td>\n    </tr>\n    <tr>\n      <th>19</th>\n      <td>MI</td>\n      <td>79</td>\n      <td>0</td>\n      <td>0</td>\n      <td>0</td>\n    </tr>\n    <tr>\n      <th>31</th>\n      <td>OH</td>\n      <td>82</td>\n      <td>0</td>\n      <td>0</td>\n      <td>1</td>\n    </tr>\n    <tr>\n      <th>13</th>\n      <td>IL</td>\n      <td>111</td>\n      <td>1</td>\n      <td>0</td>\n      <td>0</td>\n    </tr>\n    <tr>\n      <th>38</th>\n      <td>TX</td>\n      <td>117</td>\n      <td>1</td>\n      <td>0</td>\n      <td>0</td>\n    </tr>\n    <tr>\n      <th>8</th>\n      <td>FL</td>\n      <td>145</td>\n      <td>1</td>\n      <td>0</td>\n      <td>0</td>\n    </tr>\n    <tr>\n      <th>34</th>\n      <td>PA</td>\n      <td>172</td>\n      <td>1</td>\n      <td>0</td>\n      <td>1</td>\n    </tr>\n    <tr>\n      <th>4</th>\n      <td>CA</td>\n      <td>219</td>\n      <td>1</td>\n      <td>0</td>\n      <td>0</td>\n    </tr>\n    <tr>\n      <th>30</th>\n      <td>NY</td>\n      <td>395</td>\n      <td>1</td>\n      <td>0</td>\n      <td>0</td>\n    </tr>\n  </tbody>\n</table>\n</div>"
     },
     "execution_count": 144,
     "metadata": {},
     "output_type": "execute_result"
    }
   ],
   "source": [
    "pizzaz_by_province.iloc[:,:]"
   ],
   "metadata": {
    "collapsed": false,
    "pycharm": {
     "name": "#%%\n"
    }
   }
  },
  {
   "cell_type": "code",
   "execution_count": 37,
   "metadata": {
    "pycharm": {
     "name": "#%%\n"
    }
   },
   "outputs": [],
   "source": []
  },
  {
   "cell_type": "code",
   "execution_count": 38,
   "metadata": {
    "pycharm": {
     "name": "#%%\n"
    }
   },
   "outputs": [],
   "source": [
    "# Альтернативный вариант\n",
    "dev2list = []\n",
    "for i in range(pizzaz_by_province.shape[0]):\n",
    "    val =  pizzaz_by_province.iloc[i,1]\n",
    "    dev2list.append(qdevtwo(val))\n",
    "\n",
    "pizzaz_by_province['dev2_loop'] = dev2list"
   ]
  },
  {
   "cell_type": "code",
   "execution_count": 39,
   "metadata": {
    "pycharm": {
     "name": "#%%\n"
    }
   },
   "outputs": [
    {
     "data": {
      "text/plain": "   province  quantity  many_or_not_many_pd  less_10  dev2  dev2_loop\n30       NY       395                    1        0     0          0\n4        CA       219                    1        0     0          0\n34       PA       172                    1        0     1          1\n8        FL       145                    1        0     0          0\n38       TX       117                    1        0     0          0",
      "text/html": "<div>\n<style scoped>\n    .dataframe tbody tr th:only-of-type {\n        vertical-align: middle;\n    }\n\n    .dataframe tbody tr th {\n        vertical-align: top;\n    }\n\n    .dataframe thead th {\n        text-align: right;\n    }\n</style>\n<table border=\"1\" class=\"dataframe\">\n  <thead>\n    <tr style=\"text-align: right;\">\n      <th></th>\n      <th>province</th>\n      <th>quantity</th>\n      <th>many_or_not_many_pd</th>\n      <th>less_10</th>\n      <th>dev2</th>\n      <th>dev2_loop</th>\n    </tr>\n  </thead>\n  <tbody>\n    <tr>\n      <th>30</th>\n      <td>NY</td>\n      <td>395</td>\n      <td>1</td>\n      <td>0</td>\n      <td>0</td>\n      <td>0</td>\n    </tr>\n    <tr>\n      <th>4</th>\n      <td>CA</td>\n      <td>219</td>\n      <td>1</td>\n      <td>0</td>\n      <td>0</td>\n      <td>0</td>\n    </tr>\n    <tr>\n      <th>34</th>\n      <td>PA</td>\n      <td>172</td>\n      <td>1</td>\n      <td>0</td>\n      <td>1</td>\n      <td>1</td>\n    </tr>\n    <tr>\n      <th>8</th>\n      <td>FL</td>\n      <td>145</td>\n      <td>1</td>\n      <td>0</td>\n      <td>0</td>\n      <td>0</td>\n    </tr>\n    <tr>\n      <th>38</th>\n      <td>TX</td>\n      <td>117</td>\n      <td>1</td>\n      <td>0</td>\n      <td>0</td>\n      <td>0</td>\n    </tr>\n  </tbody>\n</table>\n</div>"
     },
     "execution_count": 39,
     "metadata": {},
     "output_type": "execute_result"
    }
   ],
   "source": [
    "pizzaz_by_province.head()"
   ]
  },
  {
   "cell_type": "code",
   "execution_count": 40,
   "metadata": {
    "pycharm": {
     "name": "#%%\n"
    }
   },
   "outputs": [
    {
     "data": {
      "text/plain": "(10000, 23)"
     },
     "execution_count": 40,
     "metadata": {},
     "output_type": "execute_result"
    }
   ],
   "source": [
    "pizza.shape"
   ]
  },
  {
   "cell_type": "markdown",
   "metadata": {
    "pycharm": {
     "name": "#%% md\n"
    }
   },
   "source": [
    "# Практическое задание"
   ]
  },
  {
   "cell_type": "code",
   "execution_count": 42,
   "outputs": [
    {
     "data": {
      "text/plain": "                     id             dateAdded  \\\n0  AVz3Y-7h3D1zeR_xDAqm  2017-06-30T05:05:40Z   \n1  AVweGPFF_7pvs4fzAAzQ  2016-04-02T04:02:49Z   \n2  AVwdRGa9_7pvs4fz4E3K  2016-03-03T18:39:49Z   \n3  AVwdX4psIN2L1WUfvJB1  2016-03-29T05:08:59Z   \n4  AVwdaeTtkufWRAb55pSH  2016-03-31T02:34:04Z   \n\n                                          categories  \\\n0  Pizza,Restaurant,American restaurants,Pizza Pl...   \n1                      Pizza,Pizza Place,Restaurants   \n2                 Restaurant,Pizza Place,Restaurants   \n3       Pizza,Carry-out food,Pizza Place,Restaurants   \n4  Pizza,American restaurants,Pizza Place,Pizza e...   \n\n               primaryCategories             city country  \\\n0  Accommodation & Food Services         Sherwood      US   \n1  Accommodation & Food Services          Phoenix      US   \n2  Accommodation & Food Services       Cincinnati      US   \n3  Accommodation & Food Services  Madison Heights      US   \n4  Accommodation & Food Services        Baltimore      US   \n\n                                           keys   latitude   longitude  \\\n0      us/ar/sherwood/4203ekiehlave/-1051391616  34.832300  -92.183800   \n1       us/az/phoenix/25ecamelbackrd/-727422936  33.509266 -112.073044   \n2     us/oh/cincinnati/3703paxtonave/-619797122  39.144883  -84.432685   \n3  us/mi/madisonheights/30495johnrrd/-874863116  42.516669  -83.106630   \n4    us/md/baltimore/3600easternave/-1270965359  39.286630  -76.566984   \n\n                                         menuPageURL  ...  \\\n0  http://www.citysearch.com/profile/menu/1550074...  ...   \n1                                                NaN  ...   \n2  http://www.citysearch.com/profile/menu/8160503...  ...   \n3                                                NaN  ...   \n4                                                NaN  ...   \n\n                                      menus.dateSeen  \\\n0  2018-05-01T04:25:37.197Z,2018-04-16T04:36:02.3...   \n1  2018-03-03T02:38:06.381Z,2018-01-18T20:18:10.0...   \n2  2018-04-10T07:58:34.585Z,2018-04-21T05:43:21.4...   \n3          2016-10-20T21:50:02Z,2016-03-29T05:08:59Z   \n4                               2016-03-31T02:34:04Z   \n\n                                   menus.description    menus.name  \\\n0                                                NaN  Cheese Pizza   \n1                                                NaN  Pizza Cookie   \n2  a saucelessampcomma double cheese pizza with a...  Pizza Blanca   \n3                                                NaN   Small Pizza   \n4                                                NaN     Pizza Sub   \n\n                  name postalCode priceRangeCurrency priceRangeMin  \\\n0   Shotgun Dans Pizza      72120                USD             0   \n1     Sauce Pizza Wine      85012                USD             0   \n2        Mios Pizzeria      45209                USD             0   \n3  Hungry Howies Pizza      48071                USD            25   \n4     Spartan Pizzeria      21224                USD             0   \n\n  priceRangeMax province  pizzeria_name_len  \n0            25       AR                 18  \n1            25       AZ                 16  \n2            25       OH                 13  \n3            40       MI                 19  \n4            25       MD                 16  \n\n[5 rows x 23 columns]",
      "text/html": "<div>\n<style scoped>\n    .dataframe tbody tr th:only-of-type {\n        vertical-align: middle;\n    }\n\n    .dataframe tbody tr th {\n        vertical-align: top;\n    }\n\n    .dataframe thead th {\n        text-align: right;\n    }\n</style>\n<table border=\"1\" class=\"dataframe\">\n  <thead>\n    <tr style=\"text-align: right;\">\n      <th></th>\n      <th>id</th>\n      <th>dateAdded</th>\n      <th>categories</th>\n      <th>primaryCategories</th>\n      <th>city</th>\n      <th>country</th>\n      <th>keys</th>\n      <th>latitude</th>\n      <th>longitude</th>\n      <th>menuPageURL</th>\n      <th>...</th>\n      <th>menus.dateSeen</th>\n      <th>menus.description</th>\n      <th>menus.name</th>\n      <th>name</th>\n      <th>postalCode</th>\n      <th>priceRangeCurrency</th>\n      <th>priceRangeMin</th>\n      <th>priceRangeMax</th>\n      <th>province</th>\n      <th>pizzeria_name_len</th>\n    </tr>\n  </thead>\n  <tbody>\n    <tr>\n      <th>0</th>\n      <td>AVz3Y-7h3D1zeR_xDAqm</td>\n      <td>2017-06-30T05:05:40Z</td>\n      <td>Pizza,Restaurant,American restaurants,Pizza Pl...</td>\n      <td>Accommodation &amp; Food Services</td>\n      <td>Sherwood</td>\n      <td>US</td>\n      <td>us/ar/sherwood/4203ekiehlave/-1051391616</td>\n      <td>34.832300</td>\n      <td>-92.183800</td>\n      <td>http://www.citysearch.com/profile/menu/1550074...</td>\n      <td>...</td>\n      <td>2018-05-01T04:25:37.197Z,2018-04-16T04:36:02.3...</td>\n      <td>NaN</td>\n      <td>Cheese Pizza</td>\n      <td>Shotgun Dans Pizza</td>\n      <td>72120</td>\n      <td>USD</td>\n      <td>0</td>\n      <td>25</td>\n      <td>AR</td>\n      <td>18</td>\n    </tr>\n    <tr>\n      <th>1</th>\n      <td>AVweGPFF_7pvs4fzAAzQ</td>\n      <td>2016-04-02T04:02:49Z</td>\n      <td>Pizza,Pizza Place,Restaurants</td>\n      <td>Accommodation &amp; Food Services</td>\n      <td>Phoenix</td>\n      <td>US</td>\n      <td>us/az/phoenix/25ecamelbackrd/-727422936</td>\n      <td>33.509266</td>\n      <td>-112.073044</td>\n      <td>NaN</td>\n      <td>...</td>\n      <td>2018-03-03T02:38:06.381Z,2018-01-18T20:18:10.0...</td>\n      <td>NaN</td>\n      <td>Pizza Cookie</td>\n      <td>Sauce Pizza Wine</td>\n      <td>85012</td>\n      <td>USD</td>\n      <td>0</td>\n      <td>25</td>\n      <td>AZ</td>\n      <td>16</td>\n    </tr>\n    <tr>\n      <th>2</th>\n      <td>AVwdRGa9_7pvs4fz4E3K</td>\n      <td>2016-03-03T18:39:49Z</td>\n      <td>Restaurant,Pizza Place,Restaurants</td>\n      <td>Accommodation &amp; Food Services</td>\n      <td>Cincinnati</td>\n      <td>US</td>\n      <td>us/oh/cincinnati/3703paxtonave/-619797122</td>\n      <td>39.144883</td>\n      <td>-84.432685</td>\n      <td>http://www.citysearch.com/profile/menu/8160503...</td>\n      <td>...</td>\n      <td>2018-04-10T07:58:34.585Z,2018-04-21T05:43:21.4...</td>\n      <td>a saucelessampcomma double cheese pizza with a...</td>\n      <td>Pizza Blanca</td>\n      <td>Mios Pizzeria</td>\n      <td>45209</td>\n      <td>USD</td>\n      <td>0</td>\n      <td>25</td>\n      <td>OH</td>\n      <td>13</td>\n    </tr>\n    <tr>\n      <th>3</th>\n      <td>AVwdX4psIN2L1WUfvJB1</td>\n      <td>2016-03-29T05:08:59Z</td>\n      <td>Pizza,Carry-out food,Pizza Place,Restaurants</td>\n      <td>Accommodation &amp; Food Services</td>\n      <td>Madison Heights</td>\n      <td>US</td>\n      <td>us/mi/madisonheights/30495johnrrd/-874863116</td>\n      <td>42.516669</td>\n      <td>-83.106630</td>\n      <td>NaN</td>\n      <td>...</td>\n      <td>2016-10-20T21:50:02Z,2016-03-29T05:08:59Z</td>\n      <td>NaN</td>\n      <td>Small Pizza</td>\n      <td>Hungry Howies Pizza</td>\n      <td>48071</td>\n      <td>USD</td>\n      <td>25</td>\n      <td>40</td>\n      <td>MI</td>\n      <td>19</td>\n    </tr>\n    <tr>\n      <th>4</th>\n      <td>AVwdaeTtkufWRAb55pSH</td>\n      <td>2016-03-31T02:34:04Z</td>\n      <td>Pizza,American restaurants,Pizza Place,Pizza e...</td>\n      <td>Accommodation &amp; Food Services</td>\n      <td>Baltimore</td>\n      <td>US</td>\n      <td>us/md/baltimore/3600easternave/-1270965359</td>\n      <td>39.286630</td>\n      <td>-76.566984</td>\n      <td>NaN</td>\n      <td>...</td>\n      <td>2016-03-31T02:34:04Z</td>\n      <td>NaN</td>\n      <td>Pizza Sub</td>\n      <td>Spartan Pizzeria</td>\n      <td>21224</td>\n      <td>USD</td>\n      <td>0</td>\n      <td>25</td>\n      <td>MD</td>\n      <td>16</td>\n    </tr>\n  </tbody>\n</table>\n<p>5 rows × 23 columns</p>\n</div>"
     },
     "execution_count": 42,
     "metadata": {},
     "output_type": "execute_result"
    }
   ],
   "source": [
    "pizza.head()"
   ],
   "metadata": {
    "collapsed": false,
    "pycharm": {
     "name": "#%%\n"
    }
   }
  },
  {
   "cell_type": "code",
   "execution_count": 2,
   "metadata": {
    "pycharm": {
     "name": "#%%\n"
    }
   },
   "outputs": [],
   "source": [
    "#1. Взять датасет c пицериями и убрать лишние колонки :\n",
    "# 2. Заменить значения в колонке country c US на RU\n",
    "# 3. Добавить значения в колонке menus.currency RUB, а в тех регионах, где пицерий меньше 10 добавить BTC\n",
    "# 4. Рассчитайте количество пицерий в городе 'Santa Barbara' в переменную sb_pizza_num\n",
    "# 5. Рассчитайте количество пицерий в Калифорнии (province == CA) в ca_pizza_num\n",
    "# 6. Рассчитайте и выведите долю 'Santa Barbara' в пицериях Калифорнии\n",
    "# 7. Рассчитайте средние значения priceRangeMin и priceRangeMax по primaryCategories\n",
    "# 8. Выведите топ-5 самых популярных названий пицц по menus.name\n",
    "# 9. Выведите самый редкий ингридиент из описания menus.description (опционально)\n",
    "# 10. Создайте директорию pizza_provinces\n",
    "# 11. Сохраните в эту директорию файлы с пицериями по регионам provinces\n",
    "# В задании важно учесть условие:\n",
    "#  Если регион начинается \"A\" то файл .xlsx, если 'N' то .csv, в остальных случаях .txt\n",
    "#  Пример: 'AR.xlsx' содержит в себе все пицерии из региона 'AR'\n",
    "# 12. Напишите функцию, которая на вход будет принимать регион, а на выходе выдавать город, где больше всего пцццерий\n",
    "# 13. Рассчитайте и запишите в колонку city_len количество символов в названии города 2мя способами\n"
   ]
  },
  {
   "cell_type": "code",
   "execution_count": 7,
   "outputs": [],
   "source": [],
   "metadata": {
    "collapsed": false,
    "pycharm": {
     "name": "#%%\n"
    }
   }
  },
  {
   "cell_type": "code",
   "execution_count": null,
   "outputs": [],
   "source": [],
   "metadata": {
    "collapsed": false,
    "pycharm": {
     "name": "#%%\n"
    }
   }
  }
 ],
 "metadata": {
  "kernelspec": {
   "display_name": "Python 3",
   "language": "python",
   "name": "python3"
  },
  "language_info": {
   "codemirror_mode": {
    "name": "ipython",
    "version": 3
   },
   "file_extension": ".py",
   "mimetype": "text/x-python",
   "name": "python",
   "nbconvert_exporter": "python",
   "pygments_lexer": "ipython3",
   "version": "3.8.5"
  }
 },
 "nbformat": 4,
 "nbformat_minor": 2
}